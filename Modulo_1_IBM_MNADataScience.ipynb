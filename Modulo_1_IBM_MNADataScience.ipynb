{
  "metadata": {
    "language_info": {
      "codemirror_mode": {
        "name": "python",
        "version": 3
      },
      "file_extension": ".py",
      "mimetype": "text/x-python",
      "name": "python",
      "nbconvert_exporter": "python",
      "pygments_lexer": "ipython3",
      "version": "3.8"
    },
    "kernelspec": {
      "name": "python",
      "display_name": "Pyolite",
      "language": "python"
    },
    "colab": {
      "provenance": []
    }
  },
  "nbformat_minor": 0,
  "nbformat": 4,
  "cells": [
    {
      "cell_type": "code",
      "source": [
        "#print Hello Python 101\n",
        "print(\"Hello Python 101\")"
      ],
      "metadata": {
        "trusted": true,
        "id": "gFPYqEPXybNQ",
        "outputId": "1fdb82eb-f5a8-4095-b078-ca76f8068d53"
      },
      "execution_count": null,
      "outputs": [
        {
          "name": "stdout",
          "text": "Hello Python 101\n",
          "output_type": "stream"
        }
      ]
    },
    {
      "cell_type": "code",
      "source": [
        "print(\"Hello\\nWorld!\")"
      ],
      "metadata": {
        "trusted": true,
        "id": "MjyApOKYybNX",
        "outputId": "7c687ae7-1c8c-475a-be56-5a444cb8e53b"
      },
      "execution_count": null,
      "outputs": [
        {
          "name": "stdout",
          "text": "Hello\nWorld!\n",
          "output_type": "stream"
        }
      ]
    },
    {
      "cell_type": "code",
      "source": [
        "# print('Hello World!')"
      ],
      "metadata": {
        "trusted": true,
        "id": "j75nrnn-ybNZ"
      },
      "execution_count": null,
      "outputs": []
    },
    {
      "cell_type": "code",
      "source": [
        "int(1.0)"
      ],
      "metadata": {
        "trusted": true,
        "id": "Hg2AEGRdybNb",
        "outputId": "a63d46ba-14b7-46d6-a8aa-a59d849dd12c"
      },
      "execution_count": null,
      "outputs": [
        {
          "execution_count": 4,
          "output_type": "execute_result",
          "data": {
            "text/plain": "1"
          },
          "metadata": {}
        }
      ]
    },
    {
      "cell_type": "code",
      "source": [
        "bool(1)"
      ],
      "metadata": {
        "trusted": true,
        "id": "6tthK0ccybNf",
        "outputId": "de8c0bb8-e4d5-42c2-f3df-28137c29cb29"
      },
      "execution_count": null,
      "outputs": [
        {
          "execution_count": 5,
          "output_type": "execute_result",
          "data": {
            "text/plain": "True"
          },
          "metadata": {}
        }
      ]
    },
    {
      "cell_type": "code",
      "source": [
        "# String methods\n",
        "#1. upper () Converts lower case characters to upper case characters.\n",
        "#2. replace() Remplazar una palabra, letra o espacio en el string original. B=A.replace() \n",
        "#3. find() Para encontar caracteres dentro de un string. name.find() "
      ],
      "metadata": {
        "trusted": true,
        "id": "Z6dPMaRQybNg"
      },
      "execution_count": null,
      "outputs": []
    },
    {
      "cell_type": "code",
      "source": [
        "Numbers = \"0123456\""
      ],
      "metadata": {
        "trusted": true,
        "id": "ux8356fUybNg"
      },
      "execution_count": null,
      "outputs": []
    },
    {
      "cell_type": "code",
      "source": [
        "Numbers[::3]"
      ],
      "metadata": {
        "trusted": true,
        "id": "IeQw0rgfybNh",
        "outputId": "5c4d55a7-e5bb-466d-8993-9866320fb7d2"
      },
      "execution_count": null,
      "outputs": [
        {
          "execution_count": 9,
          "output_type": "execute_result",
          "data": {
            "text/plain": "'036'"
          },
          "metadata": {}
        }
      ]
    },
    {
      "cell_type": "code",
      "source": [
        "Numbers[::2]"
      ],
      "metadata": {
        "trusted": true,
        "id": "Vf0PmKlQybNi",
        "outputId": "bfbf61d0-1aa9-47d5-bfa5-f9c62d1da5de"
      },
      "execution_count": null,
      "outputs": [
        {
          "execution_count": 10,
          "output_type": "execute_result",
          "data": {
            "text/plain": "'0246'"
          },
          "metadata": {}
        }
      ]
    },
    {
      "cell_type": "code",
      "source": [
        "Numbers[::6]"
      ],
      "metadata": {
        "trusted": true,
        "id": "4PbnFKP2ybNi",
        "outputId": "3571b971-df7f-4929-a0fc-a4554783f374"
      },
      "execution_count": null,
      "outputs": [
        {
          "execution_count": 11,
          "output_type": "execute_result",
          "data": {
            "text/plain": "'06'"
          },
          "metadata": {}
        }
      ]
    },
    {
      "cell_type": "code",
      "source": [
        "\"0123456\".find('1')"
      ],
      "metadata": {
        "trusted": true,
        "id": "dw6j7rOlybNj",
        "outputId": "e3c4d17b-8016-4c9a-cb57-a64dd239811b"
      },
      "execution_count": null,
      "outputs": [
        {
          "execution_count": 7,
          "output_type": "execute_result",
          "data": {
            "text/plain": "1"
          },
          "metadata": {}
        }
      ]
    },
    {
      "cell_type": "code",
      "source": [
        "3+2*2"
      ],
      "metadata": {
        "trusted": true,
        "id": "PN8eFiLeybNj",
        "outputId": "f5f22caf-e900-4ab0-a374-17c2cc090e1f"
      },
      "execution_count": null,
      "outputs": [
        {
          "execution_count": 12,
          "output_type": "execute_result",
          "data": {
            "text/plain": "7"
          },
          "metadata": {}
        }
      ]
    },
    {
      "cell_type": "code",
      "source": [
        "name = 'Lizz'\n",
        "print(name[0:2])"
      ],
      "metadata": {
        "trusted": true,
        "id": "4LdX0AItybNk",
        "outputId": "e12d2e30-0c3c-4330-dc1d-b8b184d3e0dc"
      },
      "execution_count": null,
      "outputs": [
        {
          "name": "stdout",
          "text": "Li\n",
          "output_type": "stream"
        }
      ]
    },
    {
      "cell_type": "code",
      "source": [
        "var = '01234567'\n",
        "print(var[::2])"
      ],
      "metadata": {
        "trusted": true,
        "id": "Scaebm2XybNl",
        "outputId": "96b04139-3635-41bc-e964-ae50639770a0"
      },
      "execution_count": null,
      "outputs": [
        {
          "name": "stdout",
          "text": "0246\n",
          "output_type": "stream"
        }
      ]
    },
    {
      "cell_type": "code",
      "source": [
        "'1'+'2'"
      ],
      "metadata": {
        "trusted": true,
        "id": "9JLUzy2CybNl",
        "outputId": "6e710172-dedd-4cee-d78c-97a4ac7abac3"
      },
      "execution_count": null,
      "outputs": [
        {
          "execution_count": 15,
          "output_type": "execute_result",
          "data": {
            "text/plain": "'12'"
          },
          "metadata": {}
        }
      ]
    },
    {
      "cell_type": "code",
      "source": [
        "myvar = 'hello'"
      ],
      "metadata": {
        "trusted": true,
        "id": "gEI-lvlFybNl"
      },
      "execution_count": null,
      "outputs": []
    },
    {
      "cell_type": "code",
      "source": [
        "myvar.upper()"
      ],
      "metadata": {
        "trusted": true,
        "id": "mnPDooenybNm",
        "outputId": "b720996e-d2e6-44d4-dd43-2bf5c204d3bc"
      },
      "execution_count": null,
      "outputs": [
        {
          "execution_count": 17,
          "output_type": "execute_result",
          "data": {
            "text/plain": "'HELLO'"
          },
          "metadata": {}
        }
      ]
    }
  ]
}