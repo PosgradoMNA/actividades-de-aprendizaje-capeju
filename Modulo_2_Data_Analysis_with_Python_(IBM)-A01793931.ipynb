{
 "cells": [
  {
   "cell_type": "markdown",
   "id": "cef7ff97",
   "metadata": {},
   "source": [
    "# CIENCIA Y ANALÍTICA DE DATOS\n",
    "\n",
    "Estudiante: Carlos Jesús Peñaloza Julio\n",
    "Matrícula: A01793931\n",
    "\n",
    "\n",
    "# Pre-Processing Data in Python"
   ]
  },
  {
   "cell_type": "markdown",
   "id": "ea6d30f3",
   "metadata": {},
   "source": [
    "El preprocesamiento de datos también es llamado \"data cleaning\" o \"data wrangling\"\n",
    "\n",
    "Los objetivos del módulo son:\n",
    "\n",
    "1.Identify and handle missing values\n",
    "2.Data formatting\n",
    "3.Data normalization(centering/scaling)\n",
    "4.Data binning\n",
    "5.Turning categorical values to numeric variables"
   ]
  },
  {
   "cell_type": "markdown",
   "id": "d902ee62",
   "metadata": {},
   "source": [
    "Dealing with missing values in Python\n",
    "DROP THE MISSING VALUES\n",
    "1.Drop the variable\n",
    "2.Drop the data entry\n",
    "\n",
    "REPLACE THE MISSING VALUES\n",
    "1.Replace it with an average(of similar datapoints)\n",
    "2.Replace it by frequency\n",
    "3.Replace it based on other functions\n",
    "\n"
   ]
  },
  {
   "cell_type": "markdown",
   "id": "8c2ce479",
   "metadata": {},
   "source": [
    "How to drop missing values in Python\n",
    "\n",
    "1.Para remover NaN, es decir, valores perdidos se puede usar dropna\n",
    "\n",
    "dataframes.dropna():\n",
    "\n",
    "Se puede escoger la fila o columna en la que quieres aplicar drop, para especifircarlo hay que colocar:\n",
    "axis = 0 para filas\n",
    "axis = 1 para columnas\n",
    "\n",
    "2.Para modificar el dataframe hay que colocar inplace = True\n",
    "Por ejemplo: df.dropna(subset=['price'], axis=0, inplace=True)\n",
    "El inplace in true permite que la modificación se haga directamente en el dataset."
   ]
  },
  {
   "cell_type": "markdown",
   "id": "72d3c525",
   "metadata": {},
   "source": [
    "How to replace missing values in Python\n",
    "\n",
    "Usar: dataframe.replace(missing_value, new_value):\n",
    "\n",
    "Por ejemplo si tienes un NaN en una celda, primero debería calcularse el promedio (mean) de la columna y luego aplicar replace\n",
    "\n",
    "mean = df[\"normalized-losses\"].mean()\n",
    "df[\"normalized-losses\"].replace(np.nan,mean)"
   ]
  },
  {
   "attachments": {},
   "cell_type": "markdown",
   "id": "e410283c",
   "metadata": {},
   "source": [
    "Data Formatting in Python\n",
    "\n",
    "Los datos son usualmente colectados desde diferentes lugares y almacenados en diferentes formatos.\n",
    "\n",
    "Data formatting significa llevar los datos a un estándar común de expresión que permite a los usuarios hacer comparaciones significativas.\n",
    "\n",
    "Se pueden ordenar los datos de tal manera que estén homogeneos, por ejemplo pasar de NY, New York o N.Y a simplemente New York\n",
    "\n",
    "También se pueden hacer conversiones de unidades, por ejemplo, con df[\"city-mpg\"] = 235/df[\"city-mpg\"]\n",
    "\n",
    "Luego se pueden renombrar columnas con df.rename(columns={\"city_mpg\":\"city-L/100km\"}. inplace=True)\n",
    "\n",
    "Siempre es importante revisar con qué tipo de dato se está trabajando y si es necesario cambiar el tipo esto se hace respectivamente con:\n",
    "\n",
    "dataframe.dtypes() para identificar tipo de dato\n",
    "dataframe.astype() para convertir tipo de dato\n"
   ]
  },
  {
   "cell_type": "code",
   "execution_count": null,
   "id": "c981d34d",
   "metadata": {},
   "outputs": [],
   "source": [
    "#Data Normalization in Python\n",
    "\n",
    "#Supongamos una tabla con las columnas length, width y height y queremos normalizar length\n",
    "#Existen métodos para normalización de datos:\n",
    "#1.Simple Feature Scaling:\n",
    "#df[\"length\"] = df[\"length\"]/df[\"length\"].max()\n",
    "\n",
    "#2.Min-Max:\n",
    "#df[\"length\"] = (df[\"length\"]-df[\"length\"].min()) / (df[\"length\"].max()-df[\"length\"].min())\n",
    "\n",
    "#3.Z-score\n",
    "#df[\"length\"] = (df[\"length\"]-df[\"length\"].mean()) / df[\"length\"].std()"
   ]
  },
  {
   "cell_type": "markdown",
   "id": "06bf2a63",
   "metadata": {},
   "source": [
    "Binning in Python\n",
    "\n",
    "Supongamos una tabla de precios(price) y queremos crear bins(bloques) definidos por los valores del price, el código podría escribirse como:\n",
    "\n",
    "bins = np.linspace(min(df[\"price\"]),max(df[\"price\"]),4)\n",
    "group_names=[\"Low\",\"Medium\",\"High\"]"
   ]
  },
  {
   "cell_type": "markdown",
   "id": "614ce18b",
   "metadata": {},
   "source": [
    "Turning categorical variables into quantitative variables in Python\n",
    "\n",
    "Esto es importante porque muchos modelos no pueden tomar objetos o strings como entrada, en ese caso es necesario hacer la conversión de una variable categórica a una cuantitativa.\n",
    "\n",
    "En Pandas podemos usas pandas.get_dummies() para convertir una variable categórica a una variable dummy (0 o 1). Por ejemplo, si tenemos una columna nombrada como fuel y los datos de ella son gas y diesel podríamos escribir el código así:\n",
    "\n",
    "pd.get_dummies(df['fuel'])\n",
    "\n",
    "Con eso se consigue una nueva tabla con las columnas gas y diesel y los datos en cada una serían 0s y 1s."
   ]
  },
  {
   "cell_type": "code",
   "execution_count": null,
   "id": "4c6c0257",
   "metadata": {},
   "outputs": [],
   "source": []
  }
 ],
 "metadata": {
  "kernelspec": {
   "display_name": "Python 3 (ipykernel)",
   "language": "python",
   "name": "python3"
  },
  "language_info": {
   "codemirror_mode": {
    "name": "ipython",
    "version": 3
   },
   "file_extension": ".py",
   "mimetype": "text/x-python",
   "name": "python",
   "nbconvert_exporter": "python",
   "pygments_lexer": "ipython3",
   "version": "3.9.12"
  }
 },
 "nbformat": 4,
 "nbformat_minor": 5
}
