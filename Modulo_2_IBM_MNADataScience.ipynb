{
  "metadata": {
    "language_info": {
      "codemirror_mode": {
        "name": "python",
        "version": 3
      },
      "file_extension": ".py",
      "mimetype": "text/x-python",
      "name": "python",
      "nbconvert_exporter": "python",
      "pygments_lexer": "ipython3",
      "version": "3.8"
    },
    "kernelspec": {
      "name": "python",
      "display_name": "Pyolite",
      "language": "python"
    },
    "colab": {
      "provenance": []
    }
  },
  "nbformat_minor": 0,
  "nbformat": 4,
  "cells": [
    {
      "cell_type": "code",
      "source": [
        "# LIST AND TUPLES\n",
        "# Tuples are an ordered sequence\n",
        "# A tuple represents a sequence of any objects separated by commas and enclosed in parentheses\n",
        "# In Python there are different types: strings, integer and float\n",
        "#1. Slicing: Slicing a tuple is as simple as slicing a Python string or a list with the same rules\n",
        "#2. Immutable: A tuple is an immutable object, which means it cannot be changed, and we use it to represent fixed collections of items.\n",
        "# The Key Difference between a List and a Tuple The main difference between lists and tuples is the fact that lists are mutable whereas tuples are immutable"
      ],
      "metadata": {
        "id": "OiIiW15SZpuV"
      },
      "execution_count": 1,
      "outputs": []
    },
    {
      "cell_type": "code",
      "source": [
        "tuple1=('disco',10,1.2)\n",
        "type(tuple1)"
      ],
      "metadata": {
        "colab": {
          "base_uri": "https://localhost:8080/"
        },
        "id": "K0ptDiOVcvcL",
        "outputId": "83303be7-645c-4641-d50b-3639cf1b306d"
      },
      "execution_count": 2,
      "outputs": [
        {
          "output_type": "execute_result",
          "data": {
            "text/plain": [
              "tuple"
            ]
          },
          "metadata": {},
          "execution_count": 2
        }
      ]
    },
    {
      "cell_type": "code",
      "source": [
        "# In Python, we can use negative index"
      ],
      "metadata": {
        "id": "_4BFLZKFdHnC"
      },
      "execution_count": null,
      "outputs": []
    },
    {
      "cell_type": "code",
      "source": [
        "# Concatenando o combinando tuples\n",
        "tuple1=('disco',10,1.2)\n",
        "tuple2 = print(tuple1+(\"hard rock\",10))"
      ],
      "metadata": {
        "colab": {
          "base_uri": "https://localhost:8080/"
        },
        "id": "A_v_cHdqdSqu",
        "outputId": "c76781f7-52ac-4894-af64-c39e5f4d455c"
      },
      "execution_count": 6,
      "outputs": [
        {
          "output_type": "stream",
          "name": "stdout",
          "text": [
            "('disco', 10, 1.2, 'hard rock', 10)\n"
          ]
        }
      ]
    },
    {
      "cell_type": "code",
      "source": [
        "# Slicing\n"
      ],
      "metadata": {
        "id": "5mWKKMJmeICu"
      },
      "execution_count": 10,
      "outputs": []
    },
    {
      "cell_type": "code",
      "source": [
        "A=(0,1,2,3)\n",
        "A[3]"
      ],
      "metadata": {
        "trusted": true,
        "id": "DQIkciE5Zpua",
        "outputId": "7167bff4-aab9-4c29-b019-9e59f26eed0a"
      },
      "execution_count": null,
      "outputs": [
        {
          "execution_count": 2,
          "output_type": "execute_result",
          "data": {
            "text/plain": "3"
          },
          "metadata": {}
        }
      ]
    },
    {
      "cell_type": "code",
      "source": [
        "A=(0,1,2,3)\n",
        "A[0]"
      ],
      "metadata": {
        "trusted": true,
        "id": "-NdO7FzdZpub",
        "outputId": "6c2fb9c3-9a93-4886-d668-674bdc9046d2"
      },
      "execution_count": null,
      "outputs": [
        {
          "execution_count": 3,
          "output_type": "execute_result",
          "data": {
            "text/plain": "0"
          },
          "metadata": {}
        }
      ]
    },
    {
      "cell_type": "code",
      "source": [
        "A=(0,1,2,3)\n",
        "A[-1]"
      ],
      "metadata": {
        "trusted": true,
        "id": "CUz4DLkpZpuc",
        "outputId": "e2953556-3309-444f-e1cf-1e55523d58f8"
      },
      "execution_count": null,
      "outputs": [
        {
          "execution_count": 4,
          "output_type": "execute_result",
          "data": {
            "text/plain": "3"
          },
          "metadata": {}
        }
      ]
    },
    {
      "cell_type": "code",
      "source": [
        "# El resultado es errado al no tener definido end\n",
        "A=(0,1,2,3)\n",
        "A[end]"
      ],
      "metadata": {
        "trusted": true,
        "id": "I7cwoR9mZpud"
      },
      "execution_count": null,
      "outputs": []
    },
    {
      "cell_type": "code",
      "source": [
        "B=[\"a\",\"b\",\"c\"]\n",
        "B[1:]"
      ],
      "metadata": {
        "trusted": true,
        "id": "ERupCh9kZpue"
      },
      "execution_count": null,
      "outputs": []
    },
    {
      "cell_type": "code",
      "source": [
        "#Sets\n",
        "# Sets are a type collection: This means that like lists and tuples, you can input different python types\n",
        "# Unlike lists and tuples they are unordered: This means sets do not record element position\n",
        "# Sets only have unique elements: This means there is only one of a particular element in a set.\n",
        "\n",
        "### Set Operations\n",
        "# Si tienes un conjunto A y quieres adicionar un nuevo elemento debes usar la sentencia A.add()\n",
        "# Se usan las {} para armar el conjunto de datos\n",
        "# si quieres removerlo, debes usar A.remove() basado en el mismo ejemplo\n",
        "# Si quieres validar que un elemento esté en el conjunto, debes usar in, este devuelve true o false según sea el caso\n",
        "# ampersand (&) para la intersección de conjuntos = conjunto3=conjunto1&conjunto2"
      ],
      "metadata": {
        "id": "C0unYSM_Zpuf"
      },
      "execution_count": null,
      "outputs": []
    },
    {
      "cell_type": "code",
      "source": [
        "# Unión de conjunto de datos\n",
        "S={'A','B','C'}\n",
        "U={'A','Z','C'}\n",
        "U.union(S)\n"
      ],
      "metadata": {
        "trusted": true,
        "id": "b6-KV-TGZpuf",
        "outputId": "a3a3f5c2-6586-4584-a901-2dccee6696c5"
      },
      "execution_count": null,
      "outputs": [
        {
          "execution_count": 4,
          "output_type": "execute_result",
          "data": {
            "text/plain": "{'A', 'B', 'C', 'Z'}"
          },
          "metadata": {}
        }
      ]
    },
    {
      "cell_type": "code",
      "source": [
        "# Intersección de conjunto de datos\n",
        "S={'A','B','C'}\n",
        "U={'A','Z','C'}\n",
        "S&U #devuelve la intersección\n",
        "#print(S.intersection(U)), es otra manera de hacerlo"
      ],
      "metadata": {
        "trusted": true,
        "id": "AsWVKomCZpug",
        "outputId": "c48a096e-2089-4953-8d3d-24cadf41b6c1"
      },
      "execution_count": null,
      "outputs": [
        {
          "execution_count": 6,
          "output_type": "execute_result",
          "data": {
            "text/plain": "{'A', 'C'}"
          },
          "metadata": {}
        }
      ]
    },
    {
      "cell_type": "code",
      "source": [
        "# Diccionarios\n",
        "D = {'a':0,'b':1,'c':2}\n",
        "D.values()"
      ],
      "metadata": {
        "trusted": true,
        "id": "irv5An8FZpuh",
        "outputId": "af12f8f8-62bd-4b65-d905-6e4f6d07e0ef"
      },
      "execution_count": null,
      "outputs": [
        {
          "execution_count": 7,
          "output_type": "execute_result",
          "data": {
            "text/plain": "dict_values([0, 1, 2])"
          },
          "metadata": {}
        }
      ]
    },
    {
      "cell_type": "code",
      "source": [
        "D = {'a':0,'b':1,'c':2}\n",
        "D['b']"
      ],
      "metadata": {
        "trusted": true,
        "id": "9HpxDdvMZpuh",
        "outputId": "0592f2ef-dbd3-4413-d70a-e7d4a68b9734"
      },
      "execution_count": null,
      "outputs": [
        {
          "execution_count": 8,
          "output_type": "execute_result",
          "data": {
            "text/plain": "1"
          },
          "metadata": {}
        }
      ]
    },
    {
      "cell_type": "code",
      "source": [
        "A = ('a','b','c')\n",
        "A[0]"
      ],
      "metadata": {
        "trusted": true,
        "id": "oo4b6MBmZpui",
        "outputId": "a57a7746-5e23-4be6-eb57-1646cae3e871"
      },
      "execution_count": null,
      "outputs": [
        {
          "execution_count": 9,
          "output_type": "execute_result",
          "data": {
            "text/plain": "'a'"
          },
          "metadata": {}
        }
      ]
    },
    {
      "cell_type": "code",
      "source": [
        "Dict={\"A\":1,\"B\":\"2\",\"C\":[3,3,3],\"D\":(4,4,4),'E':5,'F':6}\n",
        "Dict[\"D\"]"
      ],
      "metadata": {
        "trusted": true,
        "id": "saH9RUUSZpuj",
        "outputId": "e3a90f1f-5ee2-4602-9b29-02f2ae19ff6a"
      },
      "execution_count": null,
      "outputs": [
        {
          "execution_count": 10,
          "output_type": "execute_result",
          "data": {
            "text/plain": "(4, 4, 4)"
          },
          "metadata": {}
        }
      ]
    },
    {
      "cell_type": "code",
      "source": [],
      "metadata": {
        "id": "2tHyuAmQZpuj"
      },
      "execution_count": null,
      "outputs": []
    }
  ]
}