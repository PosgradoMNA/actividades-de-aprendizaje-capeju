{
  "nbformat": 4,
  "nbformat_minor": 0,
  "metadata": {
    "colab": {
      "provenance": []
    },
    "kernelspec": {
      "name": "python3",
      "display_name": "Python 3"
    },
    "language_info": {
      "name": "python"
    }
  },
  "cells": [
    {
      "cell_type": "code",
      "execution_count": 118,
      "metadata": {
        "colab": {
          "base_uri": "https://localhost:8080/"
        },
        "id": "6OXwBvOTjxyg",
        "outputId": "51a94261-766c-4307-cb64-d1bac45ef361"
      },
      "outputs": [
        {
          "output_type": "execute_result",
          "data": {
            "text/plain": [
              "False"
            ]
          },
          "metadata": {},
          "execution_count": 118
        }
      ],
      "source": [
        "# Conditions and branching\n",
        "a=6\n",
        "a==7"
      ]
    },
    {
      "cell_type": "code",
      "source": [
        "# Conditions and branching\n",
        "a=6\n",
        "a==6"
      ],
      "metadata": {
        "colab": {
          "base_uri": "https://localhost:8080/"
        },
        "id": "Ps4JWWjWkfmP",
        "outputId": "6befc56f-d24a-4505-916e-89efe30dc5e1"
      },
      "execution_count": 2,
      "outputs": [
        {
          "output_type": "execute_result",
          "data": {
            "text/plain": [
              "True"
            ]
          },
          "metadata": {},
          "execution_count": 2
        }
      ]
    },
    {
      "cell_type": "code",
      "source": [
        "# Condicional >\n",
        "i=6\n",
        "i>5"
      ],
      "metadata": {
        "colab": {
          "base_uri": "https://localhost:8080/"
        },
        "id": "OjV3R0FHkpF5",
        "outputId": "0875cb60-35ae-4c03-b6e0-8245a3ff4c96"
      },
      "execution_count": 3,
      "outputs": [
        {
          "output_type": "execute_result",
          "data": {
            "text/plain": [
              "True"
            ]
          },
          "metadata": {},
          "execution_count": 3
        }
      ]
    },
    {
      "cell_type": "code",
      "source": [
        "i=2\n",
        "i>=5"
      ],
      "metadata": {
        "colab": {
          "base_uri": "https://localhost:8080/"
        },
        "id": "4ddR8Ss3k0Do",
        "outputId": "ba64a225-9742-4e1b-9f66-693ab80021e4"
      },
      "execution_count": 5,
      "outputs": [
        {
          "output_type": "execute_result",
          "data": {
            "text/plain": [
              "False"
            ]
          },
          "metadata": {},
          "execution_count": 5
        }
      ]
    },
    {
      "cell_type": "code",
      "source": [
        "i=6\n",
        "i<6"
      ],
      "metadata": {
        "colab": {
          "base_uri": "https://localhost:8080/"
        },
        "id": "UmczOoI5lEIe",
        "outputId": "82b72c38-fce5-41d9-d6dd-f114a7d768db"
      },
      "execution_count": 6,
      "outputs": [
        {
          "output_type": "execute_result",
          "data": {
            "text/plain": [
              "False"
            ]
          },
          "metadata": {},
          "execution_count": 6
        }
      ]
    },
    {
      "cell_type": "code",
      "source": [
        "i!=6\n"
      ],
      "metadata": {
        "colab": {
          "base_uri": "https://localhost:8080/"
        },
        "id": "k7JLuQd_lHGV",
        "outputId": "9595b6ac-210d-4867-8f4d-63009cc04400"
      },
      "execution_count": 7,
      "outputs": [
        {
          "output_type": "execute_result",
          "data": {
            "text/plain": [
              "False"
            ]
          },
          "metadata": {},
          "execution_count": 7
        }
      ]
    },
    {
      "cell_type": "code",
      "source": [
        "\"AC/DC\"==\"Michael Jackson\""
      ],
      "metadata": {
        "colab": {
          "base_uri": "https://localhost:8080/"
        },
        "id": "XkQiqrA8lPM4",
        "outputId": "3a340e03-9cf2-4a3d-c6e1-6a3e7bf37183"
      },
      "execution_count": 8,
      "outputs": [
        {
          "output_type": "execute_result",
          "data": {
            "text/plain": [
              "False"
            ]
          },
          "metadata": {},
          "execution_count": 8
        }
      ]
    },
    {
      "cell_type": "code",
      "source": [
        "\"AC/DC\"!=\"Michael Jackson\" #Inequality test"
      ],
      "metadata": {
        "colab": {
          "base_uri": "https://localhost:8080/"
        },
        "id": "feLOsszYlX8_",
        "outputId": "8407fef4-005a-43d8-e9c9-0232866c3a03"
      },
      "execution_count": 10,
      "outputs": [
        {
          "output_type": "execute_result",
          "data": {
            "text/plain": [
              "True"
            ]
          },
          "metadata": {},
          "execution_count": 10
        }
      ]
    },
    {
      "cell_type": "code",
      "source": [
        "# Branching\n",
        "# Branching statements in Python are used to change the normal flow of execution based on some condition. \n",
        "# Python provides three branching statements break, continue and return. In Python pass also a branching statement, but it is a null statement.\n",
        "#Statement"
      ],
      "metadata": {
        "id": "bNUNe6oJlpPO"
      },
      "execution_count": null,
      "outputs": []
    },
    {
      "cell_type": "code",
      "source": [
        "age = 17\n",
        "if age > 18:\n",
        "    print(\"you can enter\")\n",
        "print(\"move on\")"
      ],
      "metadata": {
        "colab": {
          "base_uri": "https://localhost:8080/"
        },
        "id": "dj9O8EMJmtPF",
        "outputId": "8960dbae-1286-446c-c3d4-3c66e3f2ab11"
      },
      "execution_count": 18,
      "outputs": [
        {
          "output_type": "stream",
          "name": "stdout",
          "text": [
            "move on\n"
          ]
        }
      ]
    },
    {
      "cell_type": "code",
      "source": [
        "age = 19\n",
        "if age > 18:\n",
        "    print(\"you can enter\")\n",
        "print(\"move on\")"
      ],
      "metadata": {
        "colab": {
          "base_uri": "https://localhost:8080/"
        },
        "id": "4ktPuO2Gm3Ar",
        "outputId": "afcd0e93-35af-47ed-eef0-169a8480632c"
      },
      "execution_count": 19,
      "outputs": [
        {
          "output_type": "stream",
          "name": "stdout",
          "text": [
            "you can enter\n",
            "move on\n"
          ]
        }
      ]
    },
    {
      "cell_type": "code",
      "source": [
        "# Statement using else\n",
        "age = 17\n",
        "if age > 18:\n",
        "    print(\"you can enter AC/DC concert\")\n",
        "else:\n",
        "    print(\"go see Meat Loaf\")\n",
        "print(\"Move on\")"
      ],
      "metadata": {
        "colab": {
          "base_uri": "https://localhost:8080/"
        },
        "id": "ctwdEjRInTWQ",
        "outputId": "5949d436-741e-4306-b35a-d2c49d3ac699"
      },
      "execution_count": 20,
      "outputs": [
        {
          "output_type": "stream",
          "name": "stdout",
          "text": [
            "go see Meat Loaf\n",
            "Move on\n"
          ]
        }
      ]
    },
    {
      "cell_type": "code",
      "source": [
        "# Statement using else\n",
        "age = 19\n",
        "if age > 18:\n",
        "    print(\"you can enter AC/DC concert\")\n",
        "else:\n",
        "    print(\"go see Meat Loaf\")\n",
        "print(\"Move on\")"
      ],
      "metadata": {
        "colab": {
          "base_uri": "https://localhost:8080/"
        },
        "id": "w3oNp2MTnrmR",
        "outputId": "1e82619c-c3c2-44fc-fcee-b1c34ebeb5fd"
      },
      "execution_count": 21,
      "outputs": [
        {
          "output_type": "stream",
          "name": "stdout",
          "text": [
            "you can enter AC/DC concert\n",
            "Move on\n"
          ]
        }
      ]
    },
    {
      "cell_type": "code",
      "source": [
        "# Puedes usar elif para evaluar otra opción si la condición anterior fue false\n",
        "age = 18\n",
        "if age > 18:\n",
        "    print(\"you can enter AC/DC concert\")\n",
        "elif age == 18:\n",
        "    print(\"go see Pink Floyd\")\n",
        "else:\n",
        "    print(\"go see Meat Loaf\")\n",
        "print(\"Move on\")"
      ],
      "metadata": {
        "colab": {
          "base_uri": "https://localhost:8080/"
        },
        "id": "gk7427Lvn2mx",
        "outputId": "67698138-239a-414b-f921-f08102729476"
      },
      "execution_count": 22,
      "outputs": [
        {
          "output_type": "stream",
          "name": "stdout",
          "text": [
            "go see Pink Floyd\n",
            "Move on\n"
          ]
        }
      ]
    },
    {
      "cell_type": "code",
      "source": [
        "# OPERADORES LÓGICOS"
      ],
      "metadata": {
        "id": "a3iS6ftcoovp"
      },
      "execution_count": null,
      "outputs": []
    },
    {
      "cell_type": "code",
      "source": [
        "not(True)"
      ],
      "metadata": {
        "colab": {
          "base_uri": "https://localhost:8080/"
        },
        "id": "QcgXR2j2otJn",
        "outputId": "5839c7f3-efda-4cbe-d38c-95d1e3d90d22"
      },
      "execution_count": 25,
      "outputs": [
        {
          "output_type": "execute_result",
          "data": {
            "text/plain": [
              "False"
            ]
          },
          "metadata": {},
          "execution_count": 25
        }
      ]
    },
    {
      "cell_type": "code",
      "source": [
        "not(False)"
      ],
      "metadata": {
        "colab": {
          "base_uri": "https://localhost:8080/"
        },
        "id": "HFQb4qrBo31Z",
        "outputId": "8aed0ce3-5eed-45b7-a3e7-dbf75fe676ce"
      },
      "execution_count": 26,
      "outputs": [
        {
          "output_type": "execute_result",
          "data": {
            "text/plain": [
              "True"
            ]
          },
          "metadata": {},
          "execution_count": 26
        }
      ]
    },
    {
      "cell_type": "code",
      "source": [
        "# Operador OR\n",
        "print(\"Operator or\")\n",
        "print(\"True or True: \", True or True)\n",
        "print(\"True or False:\", True or False)\n",
        "print(\"False or True:\", False or True)\n",
        "print(\"False or False:\", False or False)"
      ],
      "metadata": {
        "colab": {
          "base_uri": "https://localhost:8080/"
        },
        "id": "Y-VZ9T5DpRKE",
        "outputId": "5f75ba9f-a654-4c1a-8088-56b2560b02f2"
      },
      "execution_count": 28,
      "outputs": [
        {
          "output_type": "stream",
          "name": "stdout",
          "text": [
            "Operator or\n",
            "True or True:  True\n",
            "True or False: True\n",
            "False or True: True\n",
            "False or False: False\n"
          ]
        }
      ]
    },
    {
      "cell_type": "code",
      "source": [
        "album_year = 1990\n",
        "if (album_year < 1980) or (album_year > 1989):\n",
        "    print(\"The Album was made 70s o 90s\")\n",
        "else:\n",
        "    print(\"The Album was made in the 80s\")"
      ],
      "metadata": {
        "colab": {
          "base_uri": "https://localhost:8080/"
        },
        "id": "94KE2eEXpb6t",
        "outputId": "eab723e5-6aa2-4852-aacc-323e7b9ca7ba"
      },
      "execution_count": 29,
      "outputs": [
        {
          "output_type": "stream",
          "name": "stdout",
          "text": [
            "The Album was made 70s o 90s\n"
          ]
        }
      ]
    },
    {
      "cell_type": "code",
      "source": [
        "album_year = 1984\n",
        "if (album_year < 1980) or (album_year > 1989):\n",
        "    print(\"The Album was made 70s o 90s\")\n",
        "else:\n",
        "    print(\"The Album was made in the 80s\")"
      ],
      "metadata": {
        "colab": {
          "base_uri": "https://localhost:8080/"
        },
        "id": "CPP9s1qop3ef",
        "outputId": "2121db88-9346-4a91-d267-d489a2ccaecc"
      },
      "execution_count": 31,
      "outputs": [
        {
          "output_type": "stream",
          "name": "stdout",
          "text": [
            "The Album was made in the 80s\n"
          ]
        }
      ]
    },
    {
      "cell_type": "code",
      "source": [
        "album_year = 1975\n",
        "if (album_year < 1980) or (album_year > 1989):\n",
        "    print(\"The Album was made 70s o 90s\")\n",
        "else:\n",
        "    print(\"The Album was made in the 80s\")"
      ],
      "metadata": {
        "colab": {
          "base_uri": "https://localhost:8080/"
        },
        "id": "TIoM9xRApwu1",
        "outputId": "bd9c55c3-d345-4bee-ebfb-22276161f910"
      },
      "execution_count": 30,
      "outputs": [
        {
          "output_type": "stream",
          "name": "stdout",
          "text": [
            "The Album was made 70s o 90s\n"
          ]
        }
      ]
    },
    {
      "cell_type": "code",
      "source": [
        "# Operador AND\n",
        "print(\"Operator and\")\n",
        "print(\"True and True: \", True and True)\n",
        "print(\"True and False:\", True and False)\n",
        "print(\"False and True:\", False and True)\n",
        "print(\"False and False:\", False and False)"
      ],
      "metadata": {
        "colab": {
          "base_uri": "https://localhost:8080/"
        },
        "id": "VUREwX8FqL7z",
        "outputId": "bbd2df71-22d7-40b0-de08-725d400a1d40"
      },
      "execution_count": 32,
      "outputs": [
        {
          "output_type": "stream",
          "name": "stdout",
          "text": [
            "Operator and\n",
            "True and True:  True\n",
            "True and False: False\n",
            "False and True: False\n",
            "False and False: False\n"
          ]
        }
      ]
    },
    {
      "cell_type": "code",
      "source": [
        "album_year = 1983\n",
        "if (album_year > 1979) and (album_year < 1990):\n",
        "    print(\"This album was made in the 80s\")"
      ],
      "metadata": {
        "colab": {
          "base_uri": "https://localhost:8080/"
        },
        "id": "XpgybfNdqiMB",
        "outputId": "415b60db-6961-4f4e-b7c3-a985799b0d9c"
      },
      "execution_count": 33,
      "outputs": [
        {
          "output_type": "stream",
          "name": "stdout",
          "text": [
            "This album was made in the 80s\n"
          ]
        }
      ]
    },
    {
      "cell_type": "code",
      "source": [
        "album_year = 1995\n",
        "if (album_year > 1979) and (album_year < 1990):\n",
        "    print(\"This album was made in the 80s\")\n",
        "else:\n",
        "    print(\"This album was not made in the 80s\")"
      ],
      "metadata": {
        "colab": {
          "base_uri": "https://localhost:8080/"
        },
        "id": "tbglFYlsqqbx",
        "outputId": "257b8c9a-19dd-44a4-f419-2f474f4f7a60"
      },
      "execution_count": 34,
      "outputs": [
        {
          "output_type": "stream",
          "name": "stdout",
          "text": [
            "This album was not made in the 80s\n"
          ]
        }
      ]
    },
    {
      "cell_type": "markdown",
      "source": [
        "**LOOPS**"
      ],
      "metadata": {
        "id": "jnWVV2bpuSQq"
      }
    },
    {
      "cell_type": "code",
      "source": [
        "#Range\n",
        "range(10,15) # 10,11,12,13,14"
      ],
      "metadata": {
        "colab": {
          "base_uri": "https://localhost:8080/"
        },
        "id": "KJs6iM37uRjQ",
        "outputId": "4554de14-4b19-4068-cfc6-f1f1c2427973"
      },
      "execution_count": 46,
      "outputs": [
        {
          "output_type": "execute_result",
          "data": {
            "text/plain": [
              "range(10, 15)"
            ]
          },
          "metadata": {},
          "execution_count": 46
        }
      ]
    },
    {
      "cell_type": "code",
      "source": [
        "# \n",
        "squares = [\"red\",\"yellow\",\"green\",\"purple\",\"blue\"]\n",
        "print(squares)\n",
        "for i in range(0,5):\n",
        "  squares[i]=\"white\"\n",
        "  print(squares)\n",
        "print(squares)"
      ],
      "metadata": {
        "colab": {
          "base_uri": "https://localhost:8080/"
        },
        "id": "03axayUWuh3J",
        "outputId": "724b4eb7-60ba-4e12-fea2-93999423e8c0"
      },
      "execution_count": 48,
      "outputs": [
        {
          "output_type": "stream",
          "name": "stdout",
          "text": [
            "['red', 'yellow', 'green', 'purple', 'blue']\n",
            "['white', 'yellow', 'green', 'purple', 'blue']\n",
            "['white', 'white', 'green', 'purple', 'blue']\n",
            "['white', 'white', 'white', 'purple', 'blue']\n",
            "['white', 'white', 'white', 'white', 'blue']\n",
            "['white', 'white', 'white', 'white', 'white']\n",
            "['white', 'white', 'white', 'white', 'white']\n"
          ]
        }
      ]
    },
    {
      "cell_type": "code",
      "source": [
        "#A useful function for iterating data is enumerate. It can be used to obtain the index and the element in the list\n",
        "squares = [\"red\",\"yellow\",\"green\"]\n",
        "for i, square in enumerate(squares):\n",
        "  square\n",
        "  i\n",
        "  print(i)\n",
        "  print(square)"
      ],
      "metadata": {
        "colab": {
          "base_uri": "https://localhost:8080/"
        },
        "id": "2bpG-s72vmfz",
        "outputId": "d474e523-15e9-426a-9f04-f3dfbfb16309"
      },
      "execution_count": 1,
      "outputs": [
        {
          "output_type": "stream",
          "name": "stdout",
          "text": [
            "0\n",
            "red\n",
            "1\n",
            "yellow\n",
            "2\n",
            "green\n"
          ]
        }
      ]
    },
    {
      "cell_type": "code",
      "source": [
        "#“While loops” are similar to “for loops”, but instead of executing a statement a set number of times, a while loop will only run if a condition is met.\n",
        "squares = [\"orange\",\"orange\",\"purple\",\"blue\"]\n",
        "Newsquares = []\n",
        "i = 0\n",
        "while(squares[i]=='orange'):\n",
        "  Newsquares.append(squares[i])\n",
        "  i+=1\n",
        "\n",
        "print(Newsquares, \",\", i) #['orange', 'orange'] , 2"
      ],
      "metadata": {
        "colab": {
          "base_uri": "https://localhost:8080/"
        },
        "id": "So82pUZcwa-U",
        "outputId": "abb38bf0-6718-4826-b1a0-33ba89a167e9"
      },
      "execution_count": 3,
      "outputs": [
        {
          "output_type": "stream",
          "name": "stdout",
          "text": [
            "['orange', 'orange'] , 2\n"
          ]
        }
      ]
    },
    {
      "cell_type": "code",
      "source": [
        "numbers=[3,4,5]\n",
        "A=len(numbers)\n",
        "for a in range(A):\n",
        "  print(numbers[a])"
      ],
      "metadata": {
        "colab": {
          "base_uri": "https://localhost:8080/"
        },
        "id": "fdcdRwx_xN7J",
        "outputId": "c486bd7b-92f7-4969-e8a8-ac684b3a72d8"
      },
      "execution_count": 9,
      "outputs": [
        {
          "output_type": "stream",
          "name": "stdout",
          "text": [
            "3\n",
            "4\n",
            "5\n"
          ]
        }
      ]
    },
    {
      "cell_type": "code",
      "source": [
        "x=3\n",
        "y=1\n",
        "while(y!=x):\n",
        "  print(y)\n",
        "  y=y+1"
      ],
      "metadata": {
        "colab": {
          "base_uri": "https://localhost:8080/"
        },
        "id": "EDR_HhF_xjqy",
        "outputId": "d9f28712-6068-4973-db74-d4a980b5cdd9"
      },
      "execution_count": 10,
      "outputs": [
        {
          "output_type": "stream",
          "name": "stdout",
          "text": [
            "1\n",
            "2\n"
          ]
        }
      ]
    },
    {
      "cell_type": "code",
      "source": [
        "#FUNCTIONS\n",
        "#Functions take some input then produce some output or change.\n",
        "def function(a):\n",
        "  \"\"\"add 1 to a\"\"\"\n",
        "  b=a+1;\n",
        "  print(a,\"+1=\",b)\n",
        "  return b"
      ],
      "metadata": {
        "id": "81pYNVaT2cUF"
      },
      "execution_count": 20,
      "outputs": []
    },
    {
      "cell_type": "code",
      "source": [
        "#Len\n",
        "album_ratings=[10.0,8.5,9.5,7.0,7.0,9.5,9.0,9.5]\n",
        "len(album_ratings)"
      ],
      "metadata": {
        "colab": {
          "base_uri": "https://localhost:8080/"
        },
        "id": "luykuyHI3b_K",
        "outputId": "ce34854b-ed2c-47e8-f8a5-7519b0950b97"
      },
      "execution_count": 25,
      "outputs": [
        {
          "output_type": "execute_result",
          "data": {
            "text/plain": [
              "8"
            ]
          },
          "metadata": {},
          "execution_count": 25
        }
      ]
    },
    {
      "cell_type": "code",
      "source": [
        "#Sum\n",
        "album_ratings=[10.0,8.5,9.5,7.0,7.0,9.5,9.0,9.5]\n",
        "sum(album_ratings)"
      ],
      "metadata": {
        "colab": {
          "base_uri": "https://localhost:8080/"
        },
        "id": "usytooNu4i2S",
        "outputId": "55367abf-6473-418c-f23d-1075a7c45926"
      },
      "execution_count": 26,
      "outputs": [
        {
          "output_type": "execute_result",
          "data": {
            "text/plain": [
              "70.0"
            ]
          },
          "metadata": {},
          "execution_count": 26
        }
      ]
    },
    {
      "cell_type": "code",
      "source": [
        "#Sorted vs Sort\n",
        "album_ratings=[10.0,8.5,9.5,7.0,7.0,9.5,9.0,9.5]\n",
        "sorted (album_ratings)\n",
        "album_ratings"
      ],
      "metadata": {
        "colab": {
          "base_uri": "https://localhost:8080/"
        },
        "id": "H3ju365_5XGT",
        "outputId": "6247439a-458f-40d2-e626-1334608f5e89"
      },
      "execution_count": 34,
      "outputs": [
        {
          "output_type": "execute_result",
          "data": {
            "text/plain": [
              "[10.0, 8.5, 9.5, 7.0, 7.0, 9.5, 9.0, 9.5]"
            ]
          },
          "metadata": {},
          "execution_count": 34
        }
      ]
    },
    {
      "cell_type": "code",
      "source": [
        "album_ratings=[10.0,8.5,9.5,7.0,7.0,9.5,9.0,9.5]\n",
        "album_ratings.sort()\n",
        "album_ratings"
      ],
      "metadata": {
        "colab": {
          "base_uri": "https://localhost:8080/"
        },
        "id": "5e4XTL466Lmj",
        "outputId": "232514e5-5765-4aab-9750-dd824b187550"
      },
      "execution_count": 39,
      "outputs": [
        {
          "output_type": "execute_result",
          "data": {
            "text/plain": [
              "[7.0, 7.0, 8.5, 9.0, 9.5, 9.5, 9.5, 10.0]"
            ]
          },
          "metadata": {},
          "execution_count": 39
        }
      ]
    },
    {
      "cell_type": "code",
      "source": [
        "# Creating functions\n",
        "b=a+1\n",
        "def add1(a)\n",
        "  return b\n",
        "add1(5)"
      ],
      "metadata": {
        "colab": {
          "base_uri": "https://localhost:8080/",
          "height": 135
        },
        "id": "mbg63WRJ7FfD",
        "outputId": "d85a9521-7782-49ff-a948-cdb3d85d60e4"
      },
      "execution_count": 56,
      "outputs": [
        {
          "output_type": "error",
          "ename": "SyntaxError",
          "evalue": "ignored",
          "traceback": [
            "\u001b[0;36m  File \u001b[0;32m\"<ipython-input-56-6ee5b4c2a81a>\"\u001b[0;36m, line \u001b[0;32m3\u001b[0m\n\u001b[0;31m    def add1(a)\u001b[0m\n\u001b[0m               ^\u001b[0m\n\u001b[0;31mSyntaxError\u001b[0m\u001b[0;31m:\u001b[0m invalid syntax\n"
          ]
        }
      ]
    },
    {
      "cell_type": "code",
      "source": [
        "a=1\n",
        "def add(b):\n",
        "  return a+b\n",
        "add(10)"
      ],
      "metadata": {
        "colab": {
          "base_uri": "https://localhost:8080/"
        },
        "id": "Sr80XXCD774A",
        "outputId": "8120910f-8dcd-4279-911e-5b686d08a109"
      },
      "execution_count": 47,
      "outputs": [
        {
          "output_type": "execute_result",
          "data": {
            "text/plain": [
              "11"
            ]
          },
          "metadata": {},
          "execution_count": 47
        }
      ]
    },
    {
      "cell_type": "code",
      "source": [
        "#METHODS\n",
        "# A class or type's methods are functions that every instance of that class or type provides\n",
        "# It's how you interact with the data in a object\n",
        "# Sorting is an example of a method that interacts with the data in the object\n",
        "#sort\n",
        "ratings=[10,9,6,5,10,8,9,6,2]\n",
        "ratings.sort()\n",
        "ratings"
      ],
      "metadata": {
        "colab": {
          "base_uri": "https://localhost:8080/"
        },
        "id": "FiplB1lB-bC6",
        "outputId": "dfde1095-6cfc-4c69-fa78-c6ee003ff554"
      },
      "execution_count": 70,
      "outputs": [
        {
          "output_type": "execute_result",
          "data": {
            "text/plain": [
              "[2, 5, 6, 6, 8, 9, 9, 10, 10]"
            ]
          },
          "metadata": {},
          "execution_count": 70
        }
      ]
    },
    {
      "cell_type": "code",
      "source": [
        "#reverse\n",
        "ratings=[2,5,6,6,8,9,9,10,10]\n",
        "ratings.reverse()\n",
        "ratings"
      ],
      "metadata": {
        "colab": {
          "base_uri": "https://localhost:8080/"
        },
        "id": "GyiiopnI_s06",
        "outputId": "e719f47b-d82b-447c-9527-d5e2e1d0e310"
      },
      "execution_count": 71,
      "outputs": [
        {
          "output_type": "execute_result",
          "data": {
            "text/plain": [
              "[10, 10, 9, 9, 8, 6, 6, 5, 2]"
            ]
          },
          "metadata": {},
          "execution_count": 71
        }
      ]
    },
    {
      "cell_type": "code",
      "source": [
        "#CREATE A CLASS\n",
        "class Circle(object): # define your class\n",
        "  def __init__(self, radius, color):   # Data attributes used to initialize each instance of the class, init es el constructor\n",
        "        self.radius = radius;\n",
        "        self.color = color;\n",
        "\n",
        "class Rectangle(object):\n",
        "  def __init__(self,color,height, width):\n",
        "    self.height=height\n",
        "    self.width = width\n",
        "    self.color = color\n",
        "\n",
        "#Create an instance of a class\n",
        "#Circle\n",
        "RedCircle = Circle (10,\"red\")\n",
        "print(\"self.radius: \", RedCircle.radius)\n",
        "print(\"self.color: \", RedCircle.color)"
      ],
      "metadata": {
        "colab": {
          "base_uri": "https://localhost:8080/"
        },
        "id": "h2AOR3HuAMF7",
        "outputId": "2aac146f-515f-4eab-9d2e-2bbf07bebd75"
      },
      "execution_count": 88,
      "outputs": [
        {
          "output_type": "stream",
          "name": "stdout",
          "text": [
            "self.radius:  10\n",
            "self.color:  red\n"
          ]
        }
      ]
    },
    {
      "cell_type": "code",
      "source": [
        "import matplotlib.pyplot as plt\n",
        "class Circle(object):\n",
        "    # Es posible agregar valors por defecto \n",
        "    def __init__(self, radius=3, color='red'):\n",
        "        self.radius = radius\n",
        "        self.color = color\n",
        "    def add_radius(self, r):\n",
        "        self.radius = self.radius + r\n",
        "    \n",
        "    # También agregamos el método draw_circle\n",
        "    def draw_circle(self):\n",
        "        plt.gca().add_patch(plt.Circle((0, 0), radius=self.radius, fc=self.color))\n",
        "        plt.axis('scaled')\n",
        "        plt.show()  "
      ],
      "metadata": {
        "id": "wRrqhnJqD-j3"
      },
      "execution_count": 92,
      "outputs": []
    },
    {
      "cell_type": "code",
      "source": [
        "RedCircle = Circle(3, 'red')\n",
        "print(\"self.radius: \", RedCircle.radius)\n",
        "print(\"self.color: \", RedCircle.color)\n",
        "RedCircle.draw_circle()"
      ],
      "metadata": {
        "colab": {
          "base_uri": "https://localhost:8080/",
          "height": 302
        },
        "id": "nqPdmUOZEHMK",
        "outputId": "459bab5e-eeb3-46bd-e335-1a03f6202f82"
      },
      "execution_count": 93,
      "outputs": [
        {
          "output_type": "stream",
          "name": "stdout",
          "text": [
            "self.radius:  3\n",
            "self.color:  red\n"
          ]
        },
        {
          "output_type": "display_data",
          "data": {
            "text/plain": [
              "<Figure size 432x288 with 1 Axes>"
            ],
            "image/png": "[encoded data removed]"
          },
          "metadata": {
            "needs_background": "light"
          }
        }
      ]
    },
    {
      "cell_type": "code",
      "source": [
        "PurpleCircle = Circle(15, 'purple')\n",
        "print(\"self.radius: \", PurpleCircle.radius)\n",
        "print(\"self.color: \", PurpleCircle.color)\n",
        "PurpleCircle.draw_circle()"
      ],
      "metadata": {
        "colab": {
          "base_uri": "https://localhost:8080/",
          "height": 302
        },
        "id": "YonOeqG6E0If",
        "outputId": "4b67e83b-9da6-463b-8777-2123cf0de35e"
      },
      "execution_count": 95,
      "outputs": [
        {
          "output_type": "stream",
          "name": "stdout",
          "text": [
            "self.radius:  15\n",
            "self.color:  purple\n"
          ]
        },
        {
          "output_type": "display_data",
          "data": {
            "text/plain": [
              "<Figure size 432x288 with 1 Axes>"
            ],
            "image/png": "[encoded data removed]"
          },
          "metadata": {
            "needs_background": "light"
          }
        }
      ]
    },
    {
      "cell_type": "code",
      "source": [
        "FatGreenRectangle = Rectangle(15, 7, 'green')\n",
        "print(\"FatGreenRectangle height: \", FatGreenRectangle.height)\n",
        "print(\"FatGreenRectangle width: \", FatGreenRectangle.width)\n",
        "FatGreenRectangle.draw_rectangle()"
      ],
      "metadata": {
        "colab": {
          "base_uri": "https://localhost:8080/",
          "height": 244
        },
        "id": "Z5VN0AvmFLYk",
        "outputId": "cfc4226c-6cc2-4990-b57a-1eb679d1e60a"
      },
      "execution_count": 101,
      "outputs": [
        {
          "output_type": "stream",
          "name": "stdout",
          "text": [
            "FatGreenRectangle height:  7\n",
            "FatGreenRectangle width:  green\n"
          ]
        },
        {
          "output_type": "error",
          "ename": "AttributeError",
          "evalue": "ignored",
          "traceback": [
            "\u001b[0;31m---------------------------------------------------------------------------\u001b[0m",
            "\u001b[0;31mAttributeError\u001b[0m                            Traceback (most recent call last)",
            "\u001b[0;32m<ipython-input-101-71706a08c962>\u001b[0m in \u001b[0;36m<module>\u001b[0;34m\u001b[0m\n\u001b[1;32m      2\u001b[0m \u001b[0mprint\u001b[0m\u001b[0;34m(\u001b[0m\u001b[0;34m\"FatGreenRectangle height: \"\u001b[0m\u001b[0;34m,\u001b[0m \u001b[0mFatGreenRectangle\u001b[0m\u001b[0;34m.\u001b[0m\u001b[0mheight\u001b[0m\u001b[0;34m)\u001b[0m\u001b[0;34m\u001b[0m\u001b[0;34m\u001b[0m\u001b[0m\n\u001b[1;32m      3\u001b[0m \u001b[0mprint\u001b[0m\u001b[0;34m(\u001b[0m\u001b[0;34m\"FatGreenRectangle width: \"\u001b[0m\u001b[0;34m,\u001b[0m \u001b[0mFatGreenRectangle\u001b[0m\u001b[0;34m.\u001b[0m\u001b[0mwidth\u001b[0m\u001b[0;34m)\u001b[0m\u001b[0;34m\u001b[0m\u001b[0;34m\u001b[0m\u001b[0m\n\u001b[0;32m----> 4\u001b[0;31m \u001b[0mFatGreenRectangle\u001b[0m\u001b[0;34m.\u001b[0m\u001b[0mdraw_rectangle\u001b[0m\u001b[0;34m(\u001b[0m\u001b[0;34m)\u001b[0m\u001b[0;34m\u001b[0m\u001b[0;34m\u001b[0m\u001b[0m\n\u001b[0m",
            "\u001b[0;31mAttributeError\u001b[0m: 'Rectangle' object has no attribute 'draw_rectangle'"
          ]
        }
      ]
    },
    {
      "cell_type": "code",
      "source": [
        "x=1\n",
        "\n",
        "if(x!=1):\n",
        "\n",
        "  print('Hello')\n",
        "\n",
        "else:\n",
        "\n",
        "  print('Hi')\n",
        "\n",
        "  print('Mike')"
      ],
      "metadata": {
        "colab": {
          "base_uri": "https://localhost:8080/"
        },
        "id": "pfmiAFrqGdDx",
        "outputId": "a3c0e299-999c-4630-e48c-f235afb3a260"
      },
      "execution_count": 103,
      "outputs": [
        {
          "output_type": "stream",
          "name": "stdout",
          "text": [
            "Hi\n",
            "Mike\n"
          ]
        }
      ]
    },
    {
      "cell_type": "code",
      "source": [
        "A = ['1','2','3']\n",
        "\n",
        "for a in A:\n",
        "\n",
        "  print(2*a)"
      ],
      "metadata": {
        "colab": {
          "base_uri": "https://localhost:8080/"
        },
        "id": "yz1ZH86uHnaH",
        "outputId": "89453f97-7396-49d1-9643-3a7760cb1a2f"
      },
      "execution_count": 104,
      "outputs": [
        {
          "output_type": "stream",
          "name": "stdout",
          "text": [
            "11\n",
            "22\n",
            "33\n"
          ]
        }
      ]
    }
  ]
}