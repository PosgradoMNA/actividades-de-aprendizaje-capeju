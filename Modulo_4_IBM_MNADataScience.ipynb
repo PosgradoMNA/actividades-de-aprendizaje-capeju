{
  "nbformat": 4,
  "nbformat_minor": 0,
  "metadata": {
    "colab": {
      "provenance": [],
      "authorship_tag": "ABX9TyPqBCim9fQmYWoQTOQIUHRN",
      "include_colab_link": true
    },
    "kernelspec": {
      "name": "python3",
      "display_name": "Python 3"
    },
    "language_info": {
      "name": "python"
    }
  },
  "cells": [
    {
      "cell_type": "markdown",
      "metadata": {
        "id": "view-in-github",
        "colab_type": "text"
      },
      "source": [
        "<a href=\"https://colab.research.google.com/github/PosgradoMNA/actividades-de-aprendizaje-capeju/blob/main/Modulo_4_IBM_MNADataScience.ipynb\" target=\"_parent\"><img src=\"https://colab.research.google.com/assets/colab-badge.svg\" alt=\"Open In Colab\"/></a>"
      ]
    },
    {
      "cell_type": "code",
      "execution_count": null,
      "metadata": {
        "id": "IaISres7AU9Q"
      },
      "outputs": [],
      "source": []
    },
    {
      "cell_type": "markdown",
      "source": [
        "**Abrir un archivo con la función Open**\n",
        "\n",
        "File1 = open (\"/resources/data/Example2.txt\", \"w\")\n",
        "\n",
        "/resources/data es el directorio\n",
        "Example2.txt es el nombre del archivo\n",
        "w para writing y r para reading, esto es el modo\n",
        "\n",
        "**Usando \"with statement\"**\n",
        "\n",
        "with open (\"Example1.txt\", \"r\") as File1:\n",
        "  file_stuff=File1.read()\n",
        "\n",
        "  print(file_stuff)\n",
        "\n",
        "print(File1.closed)\n",
        "print(file_stuff)\n"
      ],
      "metadata": {
        "id": "eZpEqLAuFggq"
      }
    },
    {
      "cell_type": "code",
      "source": [
        "#### Reading Files with Open ####\n",
        "\n",
        "df.to_csv(\"Ejemplo1.txt\") #Cargar archivo\n",
        "\n",
        "#Así puedo hacerlo en jupyter\n",
        "#path = \"C:\\\\Users\\\\carlo\\\\Documents\\\\MNA-V TEC MONTERREY\\\\Ciencia de Datos\\\\Prueba1.txt\" \n",
        "#file1 = open (path,\"r\")"
      ],
      "metadata": {
        "id": "G3Ehctm1ums6"
      },
      "execution_count": 88,
      "outputs": []
    },
    {
      "cell_type": "code",
      "source": [
        "# Writing Files with Open\n",
        "\n",
        "with open(\"Ejemplo1.txt\",\"r\") as archivo1:\n",
        "\n",
        "  file_stuff=archivo1.read()\n",
        "\n",
        "  print(file_stuff)\n",
        "\n",
        "print(archivo1.closed)\n",
        "print(file_stuff)"
      ],
      "metadata": {
        "colab": {
          "base_uri": "https://localhost:8080/"
        },
        "id": "m95iv-Ek8nOt",
        "outputId": "fcae6e7a-e1dd-43ab-f2de-729295c1c706"
      },
      "execution_count": 80,
      "outputs": [
        {
          "output_type": "stream",
          "name": "stdout",
          "text": [
            ",a,b\n",
            "0,1,1\n",
            "1,2,1\n",
            "2,1,1\n",
            "\n",
            "True\n",
            ",a,b\n",
            "0,1,1\n",
            "1,2,1\n",
            "2,1,1\n",
            "\n"
          ]
        }
      ]
    },
    {
      "cell_type": "code",
      "source": [
        "# Imprimiendo contenido\n",
        "\n",
        "print(file_stuff)"
      ],
      "metadata": {
        "colab": {
          "base_uri": "https://localhost:8080/"
        },
        "id": "gXX6iLlw-SO6",
        "outputId": "19d271b4-7b44-4e98-b748-e268f568d2b4"
      },
      "execution_count": 81,
      "outputs": [
        {
          "output_type": "stream",
          "name": "stdout",
          "text": [
            ",a,b\n",
            "0,1,1\n",
            "1,2,1\n",
            "2,1,1\n",
            "\n"
          ]
        }
      ]
    },
    {
      "cell_type": "code",
      "source": [
        "# Imprimiendo en líneas diferentes\n",
        "\n",
        "with open (\"Ejemplo1.txt\",\"r\") as archivo1:\n",
        "\n",
        "  file_stuff=archivo1.readlines()\n",
        "  print(file_stuff)"
      ],
      "metadata": {
        "colab": {
          "base_uri": "https://localhost:8080/"
        },
        "id": "nau1nx5v-obJ",
        "outputId": "c8a2d659-78d2-487f-a50b-020cf480bfcd"
      },
      "execution_count": 85,
      "outputs": [
        {
          "output_type": "stream",
          "name": "stdout",
          "text": [
            "[',a,b\\n', '0,1,1\\n', '1,2,1\\n', '2,1,1\\n']\n"
          ]
        }
      ]
    },
    {
      "cell_type": "code",
      "source": [
        "# Imprimiendo en líneas diferentes usando un loop\n",
        "\n",
        "with open (\"Ejemplo1.txt\",\"r\") as archivo1:\n",
        "\n",
        "  for line in archivo1:\n",
        "    print(line)\n"
      ],
      "metadata": {
        "colab": {
          "base_uri": "https://localhost:8080/"
        },
        "id": "w4Z3CvQn_pag",
        "outputId": "ae491ae5-9e80-403c-f85b-1cb6baf52d51"
      },
      "execution_count": 86,
      "outputs": [
        {
          "output_type": "stream",
          "name": "stdout",
          "text": [
            ",a,b\n",
            "\n",
            "0,1,1\n",
            "\n",
            "1,2,1\n",
            "\n",
            "2,1,1\n",
            "\n"
          ]
        }
      ]
    },
    {
      "cell_type": "code",
      "source": [
        "#### Writing Files with Open ####\n",
        "\n",
        "df.to_csv(\"Ejemplo2.txt\") #Cargar archivo\n",
        "\n",
        "archivo2=open(\"Ejemplo2.txt\",\"w\")\n",
        "\n",
        "with open(\"Ejemplo2.txt\",\"w\") as archivo2:\n",
        "\n",
        "  archivo2.write (\"Esta es la línea A\")\n",
        "\n",
        "# Si quiero escibir dejando espacio entre líneas uso: \\n\n",
        "\n",
        "  archivo2.write(\"Esta es la línea A\\n\")\n",
        "  archivo2.write(\"Esta es la línea B\\n\")\n",
        "\n",
        "# Otra forma\n",
        "\n",
        "Lineas = [\"Esta es la línea A\\n\",\"Esta es la línea B\\n\",\"Esta es la línea C\\n\"]\n",
        "with open(\"Ejemplo2.txt\",\"w\") as archivo2:\n",
        "\n",
        "  for line in Lineas:\n",
        "\n",
        "    archivo2.write(line)\n",
        "    print(line)\n",
        "\n"
      ],
      "metadata": {
        "colab": {
          "base_uri": "https://localhost:8080/"
        },
        "id": "gZ0XOF-uDiZ5",
        "outputId": "eee5b118-f9be-4f0b-8dea-23109adf8c00"
      },
      "execution_count": 96,
      "outputs": [
        {
          "output_type": "stream",
          "name": "stdout",
          "text": [
            "Esta es la línea A\n",
            "\n",
            "Esta es la línea B\n",
            "\n",
            "Esta es la línea C\n",
            "\n"
          ]
        }
      ]
    },
    {
      "cell_type": "code",
      "source": [
        "# Escribiendo sobre diferentes archivos\n",
        "\n",
        "with open(\"Ejemplo1.txt\",\"r\") as readfile:\n",
        "\n",
        "  with open(\"Ejemplo3.txt\",\"w\") as writefile:\n",
        "\n",
        "              for line in readfile:\n",
        "\n",
        "                        writefile.write(line)\n",
        "                        print(line)"
      ],
      "metadata": {
        "colab": {
          "base_uri": "https://localhost:8080/"
        },
        "id": "IC8LjlGRGUKj",
        "outputId": "5fbb6e26-495d-4142-baef-a331385ef844"
      },
      "execution_count": 98,
      "outputs": [
        {
          "output_type": "stream",
          "name": "stdout",
          "text": [
            ",a,b\n",
            "\n",
            "0,1,1\n",
            "\n",
            "1,2,1\n",
            "\n",
            "2,1,1\n",
            "\n"
          ]
        }
      ]
    },
    {
      "cell_type": "code",
      "source": [
        "#### Loading Data with Pandas ####\n",
        "import pandas as pd\n",
        "#Dataframes\n",
        "songs={'Album':['Thriller', 'Back in Black', 'The Dark Side of the Moon','The Bodyguard', 'Bat Out of Hell'],\n",
        "      'Released':[1982,1980,1973,1992,1977], \n",
        "      'Length': ['00:42:19','00:42:11','00:42:49','00:57:44','00:46:33']}\n",
        "\n",
        "songs_frame=pd.DataFrame(songs)\n",
        "songs_frame"
      ],
      "metadata": {
        "colab": {
          "base_uri": "https://localhost:8080/",
          "height": 206
        },
        "id": "lqbkrftXiQEc",
        "outputId": "a54710b7-25d3-4145-af99-3ebb635a419a"
      },
      "execution_count": 41,
      "outputs": [
        {
          "output_type": "execute_result",
          "data": {
            "text/plain": [
              "                       Album  Released    Length\n",
              "0                   Thriller      1982  00:42:19\n",
              "1              Back in Black      1980  00:42:11\n",
              "2  The Dark Side of the Moon      1973  00:42:49\n",
              "3              The Bodyguard      1992  00:57:44\n",
              "4            Bat Out of Hell      1977  00:46:33"
            ],
            "text/html": [
              "\n",
              "  <div id=\"df-4b8d0e4d-eae1-4023-a85d-6a3a25b90f4c\">\n",
              "    <div class=\"colab-df-container\">\n",
              "      <div>\n",
              "<style scoped>\n",
              "    .dataframe tbody tr th:only-of-type {\n",
              "        vertical-align: middle;\n",
              "    }\n",
              "\n",
              "    .dataframe tbody tr th {\n",
              "        vertical-align: top;\n",
              "    }\n",
              "\n",
              "    .dataframe thead th {\n",
              "        text-align: right;\n",
              "    }\n",
              "</style>\n",
              "<table border=\"1\" class=\"dataframe\">\n",
              "  <thead>\n",
              "    <tr style=\"text-align: right;\">\n",
              "      <th></th>\n",
              "      <th>Album</th>\n",
              "      <th>Released</th>\n",
              "      <th>Length</th>\n",
              "    </tr>\n",
              "  </thead>\n",
              "  <tbody>\n",
              "    <tr>\n",
              "      <th>0</th>\n",
              "      <td>Thriller</td>\n",
              "      <td>1982</td>\n",
              "      <td>00:42:19</td>\n",
              "    </tr>\n",
              "    <tr>\n",
              "      <th>1</th>\n",
              "      <td>Back in Black</td>\n",
              "      <td>1980</td>\n",
              "      <td>00:42:11</td>\n",
              "    </tr>\n",
              "    <tr>\n",
              "      <th>2</th>\n",
              "      <td>The Dark Side of the Moon</td>\n",
              "      <td>1973</td>\n",
              "      <td>00:42:49</td>\n",
              "    </tr>\n",
              "    <tr>\n",
              "      <th>3</th>\n",
              "      <td>The Bodyguard</td>\n",
              "      <td>1992</td>\n",
              "      <td>00:57:44</td>\n",
              "    </tr>\n",
              "    <tr>\n",
              "      <th>4</th>\n",
              "      <td>Bat Out of Hell</td>\n",
              "      <td>1977</td>\n",
              "      <td>00:46:33</td>\n",
              "    </tr>\n",
              "  </tbody>\n",
              "</table>\n",
              "</div>\n",
              "      <button class=\"colab-df-convert\" onclick=\"convertToInteractive('df-4b8d0e4d-eae1-4023-a85d-6a3a25b90f4c')\"\n",
              "              title=\"Convert this dataframe to an interactive table.\"\n",
              "              style=\"display:none;\">\n",
              "        \n",
              "  <svg xmlns=\"http://www.w3.org/2000/svg\" height=\"24px\"viewBox=\"0 0 24 24\"\n",
              "       width=\"24px\">\n",
              "    <path d=\"M0 0h24v24H0V0z\" fill=\"none\"/>\n",
              "    <path d=\"M18.56 5.44l.94 2.06.94-2.06 2.06-.94-2.06-.94-.94-2.06-.94 2.06-2.06.94zm-11 1L8.5 8.5l.94-2.06 2.06-.94-2.06-.94L8.5 2.5l-.94 2.06-2.06.94zm10 10l.94 2.06.94-2.06 2.06-.94-2.06-.94-.94-2.06-.94 2.06-2.06.94z\"/><path d=\"M17.41 7.96l-1.37-1.37c-.4-.4-.92-.59-1.43-.59-.52 0-1.04.2-1.43.59L10.3 9.45l-7.72 7.72c-.78.78-.78 2.05 0 2.83L4 21.41c.39.39.9.59 1.41.59.51 0 1.02-.2 1.41-.59l7.78-7.78 2.81-2.81c.8-.78.8-2.07 0-2.86zM5.41 20L4 18.59l7.72-7.72 1.47 1.35L5.41 20z\"/>\n",
              "  </svg>\n",
              "      </button>\n",
              "      \n",
              "  <style>\n",
              "    .colab-df-container {\n",
              "      display:flex;\n",
              "      flex-wrap:wrap;\n",
              "      gap: 12px;\n",
              "    }\n",
              "\n",
              "    .colab-df-convert {\n",
              "      background-color: #E8F0FE;\n",
              "      border: none;\n",
              "      border-radius: 50%;\n",
              "      cursor: pointer;\n",
              "      display: none;\n",
              "      fill: #1967D2;\n",
              "      height: 32px;\n",
              "      padding: 0 0 0 0;\n",
              "      width: 32px;\n",
              "    }\n",
              "\n",
              "    .colab-df-convert:hover {\n",
              "      background-color: #E2EBFA;\n",
              "      box-shadow: 0px 1px 2px rgba(60, 64, 67, 0.3), 0px 1px 3px 1px rgba(60, 64, 67, 0.15);\n",
              "      fill: #174EA6;\n",
              "    }\n",
              "\n",
              "    [theme=dark] .colab-df-convert {\n",
              "      background-color: #3B4455;\n",
              "      fill: #D2E3FC;\n",
              "    }\n",
              "\n",
              "    [theme=dark] .colab-df-convert:hover {\n",
              "      background-color: #434B5C;\n",
              "      box-shadow: 0px 1px 3px 1px rgba(0, 0, 0, 0.15);\n",
              "      filter: drop-shadow(0px 1px 2px rgba(0, 0, 0, 0.3));\n",
              "      fill: #FFFFFF;\n",
              "    }\n",
              "  </style>\n",
              "\n",
              "      <script>\n",
              "        const buttonEl =\n",
              "          document.querySelector('#df-4b8d0e4d-eae1-4023-a85d-6a3a25b90f4c button.colab-df-convert');\n",
              "        buttonEl.style.display =\n",
              "          google.colab.kernel.accessAllowed ? 'block' : 'none';\n",
              "\n",
              "        async function convertToInteractive(key) {\n",
              "          const element = document.querySelector('#df-4b8d0e4d-eae1-4023-a85d-6a3a25b90f4c');\n",
              "          const dataTable =\n",
              "            await google.colab.kernel.invokeFunction('convertToInteractive',\n",
              "                                                     [key], {});\n",
              "          if (!dataTable) return;\n",
              "\n",
              "          const docLinkHtml = 'Like what you see? Visit the ' +\n",
              "            '<a target=\"_blank\" href=https://colab.research.google.com/notebooks/data_table.ipynb>data table notebook</a>'\n",
              "            + ' to learn more about interactive tables.';\n",
              "          element.innerHTML = '';\n",
              "          dataTable['output_type'] = 'display_data';\n",
              "          await google.colab.output.renderOutput(dataTable, element);\n",
              "          const docLink = document.createElement('div');\n",
              "          docLink.innerHTML = docLinkHtml;\n",
              "          element.appendChild(docLink);\n",
              "        }\n",
              "      </script>\n",
              "    </div>\n",
              "  </div>\n",
              "  "
            ]
          },
          "metadata": {},
          "execution_count": 41
        }
      ]
    },
    {
      "cell_type": "code",
      "source": [
        "import pandas as pd\n",
        "#Creando dataframe con los datos de una de las columnas\n",
        "songs={'Album':['Thriller', 'Back in Black', 'The Dark Side of the Moon','The Bodyguard', 'Bat Out of Hell'],\n",
        "      'Released':[1982,1980,1973,1992,1977], \n",
        "      'Length': ['00:42:19','00:42:11','00:42:49','00:57:44','00:46:33']}\n",
        "\n",
        "songs_frame=pd.DataFrame(songs)\n",
        "songs_frame\n",
        "print(songs['Released'])\n",
        "\n",
        "\n",
        "\n"
      ],
      "metadata": {
        "colab": {
          "base_uri": "https://localhost:8080/"
        },
        "id": "uf8lJzill7bh",
        "outputId": "03198230-a70a-46d1-cdd0-0a78dd9eed18"
      },
      "execution_count": 37,
      "outputs": [
        {
          "output_type": "stream",
          "name": "stdout",
          "text": [
            "[1982, 1980, 1973, 1992, 1977]\n"
          ]
        }
      ]
    },
    {
      "cell_type": "code",
      "source": [
        "#Question 2 Usando Loading Data with Pandas\n",
        "\n",
        "import pandas as banana\n",
        "df=banana.DataFrame({'a':[11,21,31],'b':[21,22,23]})\n",
        "df.head()"
      ],
      "metadata": {
        "colab": {
          "base_uri": "https://localhost:8080/",
          "height": 143
        },
        "id": "qUx53G3Do2_p",
        "outputId": "f34317f0-89bd-41f5-a086-24de0adb8c28"
      },
      "execution_count": 31,
      "outputs": [
        {
          "output_type": "execute_result",
          "data": {
            "text/plain": [
              "    a   b\n",
              "0  11  21\n",
              "1  21  22\n",
              "2  31  23"
            ],
            "text/html": [
              "\n",
              "  <div id=\"df-d35ed5a3-e8e5-43ac-8a0e-c83266b9e593\">\n",
              "    <div class=\"colab-df-container\">\n",
              "      <div>\n",
              "<style scoped>\n",
              "    .dataframe tbody tr th:only-of-type {\n",
              "        vertical-align: middle;\n",
              "    }\n",
              "\n",
              "    .dataframe tbody tr th {\n",
              "        vertical-align: top;\n",
              "    }\n",
              "\n",
              "    .dataframe thead th {\n",
              "        text-align: right;\n",
              "    }\n",
              "</style>\n",
              "<table border=\"1\" class=\"dataframe\">\n",
              "  <thead>\n",
              "    <tr style=\"text-align: right;\">\n",
              "      <th></th>\n",
              "      <th>a</th>\n",
              "      <th>b</th>\n",
              "    </tr>\n",
              "  </thead>\n",
              "  <tbody>\n",
              "    <tr>\n",
              "      <th>0</th>\n",
              "      <td>11</td>\n",
              "      <td>21</td>\n",
              "    </tr>\n",
              "    <tr>\n",
              "      <th>1</th>\n",
              "      <td>21</td>\n",
              "      <td>22</td>\n",
              "    </tr>\n",
              "    <tr>\n",
              "      <th>2</th>\n",
              "      <td>31</td>\n",
              "      <td>23</td>\n",
              "    </tr>\n",
              "  </tbody>\n",
              "</table>\n",
              "</div>\n",
              "      <button class=\"colab-df-convert\" onclick=\"convertToInteractive('df-d35ed5a3-e8e5-43ac-8a0e-c83266b9e593')\"\n",
              "              title=\"Convert this dataframe to an interactive table.\"\n",
              "              style=\"display:none;\">\n",
              "        \n",
              "  <svg xmlns=\"http://www.w3.org/2000/svg\" height=\"24px\"viewBox=\"0 0 24 24\"\n",
              "       width=\"24px\">\n",
              "    <path d=\"M0 0h24v24H0V0z\" fill=\"none\"/>\n",
              "    <path d=\"M18.56 5.44l.94 2.06.94-2.06 2.06-.94-2.06-.94-.94-2.06-.94 2.06-2.06.94zm-11 1L8.5 8.5l.94-2.06 2.06-.94-2.06-.94L8.5 2.5l-.94 2.06-2.06.94zm10 10l.94 2.06.94-2.06 2.06-.94-2.06-.94-.94-2.06-.94 2.06-2.06.94z\"/><path d=\"M17.41 7.96l-1.37-1.37c-.4-.4-.92-.59-1.43-.59-.52 0-1.04.2-1.43.59L10.3 9.45l-7.72 7.72c-.78.78-.78 2.05 0 2.83L4 21.41c.39.39.9.59 1.41.59.51 0 1.02-.2 1.41-.59l7.78-7.78 2.81-2.81c.8-.78.8-2.07 0-2.86zM5.41 20L4 18.59l7.72-7.72 1.47 1.35L5.41 20z\"/>\n",
              "  </svg>\n",
              "      </button>\n",
              "      \n",
              "  <style>\n",
              "    .colab-df-container {\n",
              "      display:flex;\n",
              "      flex-wrap:wrap;\n",
              "      gap: 12px;\n",
              "    }\n",
              "\n",
              "    .colab-df-convert {\n",
              "      background-color: #E8F0FE;\n",
              "      border: none;\n",
              "      border-radius: 50%;\n",
              "      cursor: pointer;\n",
              "      display: none;\n",
              "      fill: #1967D2;\n",
              "      height: 32px;\n",
              "      padding: 0 0 0 0;\n",
              "      width: 32px;\n",
              "    }\n",
              "\n",
              "    .colab-df-convert:hover {\n",
              "      background-color: #E2EBFA;\n",
              "      box-shadow: 0px 1px 2px rgba(60, 64, 67, 0.3), 0px 1px 3px 1px rgba(60, 64, 67, 0.15);\n",
              "      fill: #174EA6;\n",
              "    }\n",
              "\n",
              "    [theme=dark] .colab-df-convert {\n",
              "      background-color: #3B4455;\n",
              "      fill: #D2E3FC;\n",
              "    }\n",
              "\n",
              "    [theme=dark] .colab-df-convert:hover {\n",
              "      background-color: #434B5C;\n",
              "      box-shadow: 0px 1px 3px 1px rgba(0, 0, 0, 0.15);\n",
              "      filter: drop-shadow(0px 1px 2px rgba(0, 0, 0, 0.3));\n",
              "      fill: #FFFFFF;\n",
              "    }\n",
              "  </style>\n",
              "\n",
              "      <script>\n",
              "        const buttonEl =\n",
              "          document.querySelector('#df-d35ed5a3-e8e5-43ac-8a0e-c83266b9e593 button.colab-df-convert');\n",
              "        buttonEl.style.display =\n",
              "          google.colab.kernel.accessAllowed ? 'block' : 'none';\n",
              "\n",
              "        async function convertToInteractive(key) {\n",
              "          const element = document.querySelector('#df-d35ed5a3-e8e5-43ac-8a0e-c83266b9e593');\n",
              "          const dataTable =\n",
              "            await google.colab.kernel.invokeFunction('convertToInteractive',\n",
              "                                                     [key], {});\n",
              "          if (!dataTable) return;\n",
              "\n",
              "          const docLinkHtml = 'Like what you see? Visit the ' +\n",
              "            '<a target=\"_blank\" href=https://colab.research.google.com/notebooks/data_table.ipynb>data table notebook</a>'\n",
              "            + ' to learn more about interactive tables.';\n",
              "          element.innerHTML = '';\n",
              "          dataTable['output_type'] = 'display_data';\n",
              "          await google.colab.output.renderOutput(dataTable, element);\n",
              "          const docLink = document.createElement('div');\n",
              "          docLink.innerHTML = docLinkHtml;\n",
              "          element.appendChild(docLink);\n",
              "        }\n",
              "      </script>\n",
              "    </div>\n",
              "  </div>\n",
              "  "
            ]
          },
          "metadata": {},
          "execution_count": 31
        }
      ]
    },
    {
      "cell_type": "code",
      "source": [
        "# Working with and Saving Data with Pandas\n",
        "\n",
        "df=songs_frame()\n",
        "df['Released']>=1980"
      ],
      "metadata": {
        "id": "cnQ2SlC8rQdd"
      },
      "execution_count": null,
      "outputs": []
    },
    {
      "cell_type": "code",
      "source": [
        "# Question 1 Working with and Saving Data with Pandas\n",
        "\n",
        "df=pd.DataFrame({'a':[1,2,1],'b':[1,1,1]})\n",
        "df['a']==1"
      ],
      "metadata": {
        "colab": {
          "base_uri": "https://localhost:8080/"
        },
        "id": "ydhP73orpThl",
        "outputId": "d576757d-580b-486d-fcc9-2f7d0715d37c"
      },
      "execution_count": 38,
      "outputs": [
        {
          "output_type": "execute_result",
          "data": {
            "text/plain": [
              "0     True\n",
              "1    False\n",
              "2     True\n",
              "Name: a, dtype: bool"
            ]
          },
          "metadata": {},
          "execution_count": 38
        }
      ]
    },
    {
      "cell_type": "code",
      "source": [
        "#Question 2\n",
        "\n",
        "df.to_csv(\"file.csv\") #Guardar Data Frame"
      ],
      "metadata": {
        "id": "6V7IJHgxq83C"
      },
      "execution_count": 44,
      "outputs": []
    },
    {
      "cell_type": "code",
      "source": [
        "#LABORATORIO\n",
        "\n",
        "# Read data from CSV file\n",
        "import urllib.request\n",
        "csv_path = \"https://us-usda-gov.linked.data.world/d/1acabe89-2436-428d-ab7b-fa17b725bf55/file/comma-separated-values-file-2.csv\"\n",
        "filename = 'comma-separated-values-file-2.csv'\n",
        "urllib.request.urlretrieve(csv_path, filename)"
      ],
      "metadata": {
        "colab": {
          "base_uri": "https://localhost:8080/"
        },
        "id": "-cI67mlYsNKv",
        "outputId": "63559998-4c7d-4993-f115-e49e8a4c905e"
      },
      "execution_count": 99,
      "outputs": [
        {
          "output_type": "execute_result",
          "data": {
            "text/plain": [
              "('comma-separated-values-file-2.csv',\n",
              " <http.client.HTTPMessage at 0x7f3896ec8a90>)"
            ]
          },
          "metadata": {},
          "execution_count": 99
        }
      ]
    },
    {
      "cell_type": "code",
      "source": [
        "#Review Question\n",
        "\n",
        "#Question 1\n",
        "\n",
        "with open(\"Ejemplo1.txt\",\"r\") as file1:\n",
        "\n",
        "  FileContent=file1.readlines()\n",
        "\n",
        "  print(FileContent)"
      ],
      "metadata": {
        "colab": {
          "base_uri": "https://localhost:8080/"
        },
        "id": "jNuS2Of-LBvj",
        "outputId": "8f77cfb2-0c7e-4f26-c68e-bac7749307d0"
      },
      "execution_count": 108,
      "outputs": [
        {
          "output_type": "stream",
          "name": "stdout",
          "text": [
            "[',a,b\\n', '0,1,1\\n', '1,2,1\\n', '2,1,1\\n']\n"
          ]
        }
      ]
    },
    {
      "cell_type": "code",
      "source": [
        "#Question 2\n",
        "\n",
        "with open(\"Ejemplo2.txt\",\"w\") as writefile:\n",
        "\n",
        "  writefile.write(\"This is line A\\n\")\n",
        "\n",
        "  writefile.write(\"This is line B\\n\")"
      ],
      "metadata": {
        "colab": {
          "base_uri": "https://localhost:8080/"
        },
        "id": "K9o_laptLaZp",
        "outputId": "989c1482-3c5d-4fbc-f3ac-ead08e18cdd2"
      },
      "execution_count": 111,
      "outputs": [
        {
          "output_type": "stream",
          "name": "stdout",
          "text": [
            "\n"
          ]
        }
      ]
    },
    {
      "cell_type": "code",
      "source": [
        "# Question 3\n",
        "\n",
        "with open(\"Ejemplo3.txt\",\"a\") as file1:\n",
        "\n",
        "  file1.write(\"This is line C\\n\")"
      ],
      "metadata": {
        "id": "x7kQdS7GLvZ8"
      },
      "execution_count": 113,
      "outputs": []
    },
    {
      "cell_type": "code",
      "source": [
        "# Question 4\n",
        "\n",
        "# What is the result of applying the following method df.head() to the dataframe \"df\"?\n"
      ],
      "metadata": {
        "id": "ebEXNpsuMPeD"
      },
      "execution_count": 115,
      "outputs": []
    }
  ]
}