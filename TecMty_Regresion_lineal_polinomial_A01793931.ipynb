{
  "nbformat": 4,
  "nbformat_minor": 0,
  "metadata": {
    "kernelspec": {
      "display_name": "Python 3",
      "language": "python",
      "name": "python3"
    },
    "language_info": {
      "codemirror_mode": {
        "name": "ipython",
        "version": 3
      },
      "file_extension": ".py",
      "mimetype": "text/x-python",
      "name": "python",
      "nbconvert_exporter": "python",
      "pygments_lexer": "ipython3",
      "version": "3.7.7"
    },
    "colab": {
      "provenance": [],
      "collapsed_sections": [
        "_Rv-RJSnVQwR",
        "TIFwAtW1pc6h"
      ],
      "include_colab_link": true
    },
    "gpuClass": "standard"
  },
  "cells": [
    {
      "cell_type": "markdown",
      "metadata": {
        "id": "view-in-github",
        "colab_type": "text"
      },
      "source": [
        "<a href=\"https://colab.research.google.com/github/PosgradoMNA/actividades-de-aprendizaje-capeju/blob/main/TecMty_Regresion_lineal_polinomial_A01793931.ipynb\" target=\"_parent\"><img src=\"https://colab.research.google.com/assets/colab-badge.svg\" alt=\"Open In Colab\"/></a>"
      ]
    },
    {
      "cell_type": "markdown",
      "source": [
        "Maestría en Inteligencia Artificial Aplicada\n",
        "\n",
        "Ciencia y Analítica de Datos\n",
        "\n",
        "Tecnológico de Monterrey\n",
        "\n",
        "**Alumno:** Carlos Jesús Peñaloza Julio -- A01793931\n",
        "\n",
        "**Profesora:** María de la Paz Rico Fernández\n",
        "\n",
        "**Fecha de entrega:** Noviembre 9 de 2022"
      ],
      "metadata": {
        "id": "gHnEU646pdx4"
      }
    },
    {
      "cell_type": "markdown",
      "metadata": {
        "id": "WUO-kdryVQwK"
      },
      "source": [
        "# Linear Models\n"
      ]
    },
    {
      "cell_type": "code",
      "source": [],
      "metadata": {
        "id": "Msm89naSzi21"
      },
      "execution_count": 56,
      "outputs": []
    },
    {
      "cell_type": "markdown",
      "metadata": {
        "id": "u3ytB4LpVQwM"
      },
      "source": [
        "- In supervised learning, the training data fed to the algorithm includes the desired solutions, called labels. \n",
        "- In **regression**, the labels are continuous quantities.\n",
        "- Linear models predict by computing a weighted sum of input features plus a bias term."
      ]
    },
    {
      "cell_type": "code",
      "source": [
        "import numpy as np\n",
        "%matplotlib inline\n",
        "import matplotlib\n",
        "import matplotlib.pyplot as plt\n",
        "import pandas as pd\n",
        "import seaborn as sns\n",
        "from sklearn import metrics, linear_model\n",
        "from sklearn.metrics import r2_score\n",
        "from sklearn.linear_model import Ridge\n",
        "from sklearn.linear_model import LinearRegression, Lasso, Ridge, ElasticNet\n",
        "import pandas as pd\n",
        "from sklearn.preprocessing import PolynomialFeatures\n",
        "from sklearn import metrics\n",
        "from sklearn.metrics import r2_score\n",
        "from sklearn.metrics import mean_squared_error, mean_absolute_percentage_error,  make_scorer\n",
        "from sklearn.preprocessing import MinMaxScaler\n",
        "from sklearn.preprocessing import power_transform\n",
        "from sklearn.model_selection import RepeatedKFold, RepeatedStratifiedKFold\n",
        "from sklearn.model_selection import cross_val_score\n",
        "from sklearn.preprocessing import StandardScaler\n",
        "from sklearn.pipeline import Pipeline\n",
        "from sklearn.model_selection import train_test_split, GridSearchCV, train_test_split, RepeatedKFold, cross_validate"
      ],
      "metadata": {
        "id": "1HwU-OFBTQur"
      },
      "execution_count": 57,
      "outputs": []
    },
    {
      "cell_type": "code",
      "source": [
        "5-2"
      ],
      "metadata": {
        "colab": {
          "base_uri": "https://localhost:8080/"
        },
        "id": "exg6xSYf3F5D",
        "outputId": "c39397a0-f27d-4622-fb71-c884a22cfdb0"
      },
      "execution_count": 58,
      "outputs": [
        {
          "output_type": "execute_result",
          "data": {
            "text/plain": [
              "3"
            ]
          },
          "metadata": {},
          "execution_count": 58
        }
      ]
    },
    {
      "cell_type": "markdown",
      "metadata": {
        "id": "szpzFXgiVQwN"
      },
      "source": [
        "## Simple Linear Regression\n",
        "\n",
        "Simple linear regression equation:\n",
        "\n",
        "$y = ax + b$\n",
        "<br>\n",
        "$a$: slope\n",
        "<br>\n",
        "$b$: intercept\n",
        "\n",
        "Generate linear-looking data with the equation:\n",
        "\n",
        "$y = 3X + 4 + noise$"
      ]
    },
    {
      "cell_type": "code",
      "metadata": {
        "colab": {
          "base_uri": "https://localhost:8080/"
        },
        "id": "mitJFYeiMQqD",
        "outputId": "2a818949-3cc7-42e9-b297-ae1b85ea4bfe"
      },
      "source": [
        "np.random.rand(100, 1)"
      ],
      "execution_count": 59,
      "outputs": [
        {
          "output_type": "execute_result",
          "data": {
            "text/plain": [
              "array([[0.90556308],\n",
              "       [0.90893773],\n",
              "       [0.02359845],\n",
              "       [0.40293213],\n",
              "       [0.64790994],\n",
              "       [0.46843257],\n",
              "       [0.81390103],\n",
              "       [0.80746461],\n",
              "       [0.14071283],\n",
              "       [0.33193806],\n",
              "       [0.78709185],\n",
              "       [0.78139456],\n",
              "       [0.67406007],\n",
              "       [0.43091391],\n",
              "       [0.97403319],\n",
              "       [0.72306901],\n",
              "       [0.54284557],\n",
              "       [0.00955456],\n",
              "       [0.75265578],\n",
              "       [0.61866274],\n",
              "       [0.60899417],\n",
              "       [0.72662087],\n",
              "       [0.43004887],\n",
              "       [0.96683575],\n",
              "       [0.4409505 ],\n",
              "       [0.78746931],\n",
              "       [0.35171743],\n",
              "       [0.44687922],\n",
              "       [0.71118926],\n",
              "       [0.02175221],\n",
              "       [0.44425935],\n",
              "       [0.9056292 ],\n",
              "       [0.15663829],\n",
              "       [0.04257653],\n",
              "       [0.47824406],\n",
              "       [0.91491893],\n",
              "       [0.6886593 ],\n",
              "       [0.69974475],\n",
              "       [0.0044667 ],\n",
              "       [0.19384119],\n",
              "       [0.94028728],\n",
              "       [0.75527621],\n",
              "       [0.37863415],\n",
              "       [0.93562125],\n",
              "       [0.10609374],\n",
              "       [0.89351595],\n",
              "       [0.2687336 ],\n",
              "       [0.98734174],\n",
              "       [0.99487947],\n",
              "       [0.45628882],\n",
              "       [0.45501587],\n",
              "       [0.44684178],\n",
              "       [0.60381401],\n",
              "       [0.06595197],\n",
              "       [0.94089164],\n",
              "       [0.58359551],\n",
              "       [0.92659814],\n",
              "       [0.2980544 ],\n",
              "       [0.9837959 ],\n",
              "       [0.76736223],\n",
              "       [0.7742337 ],\n",
              "       [0.46484529],\n",
              "       [0.52377764],\n",
              "       [0.88876495],\n",
              "       [0.22681058],\n",
              "       [0.93701917],\n",
              "       [0.23695074],\n",
              "       [0.25812268],\n",
              "       [0.71772977],\n",
              "       [0.03534606],\n",
              "       [0.25211348],\n",
              "       [0.80523336],\n",
              "       [0.06567163],\n",
              "       [0.55908557],\n",
              "       [0.27203416],\n",
              "       [0.53398918],\n",
              "       [0.67898431],\n",
              "       [0.50633485],\n",
              "       [0.41634002],\n",
              "       [0.41693046],\n",
              "       [0.1479315 ],\n",
              "       [0.13283969],\n",
              "       [0.08933834],\n",
              "       [0.97875003],\n",
              "       [0.05133801],\n",
              "       [0.12044875],\n",
              "       [0.71877308],\n",
              "       [0.87077021],\n",
              "       [0.70753584],\n",
              "       [0.56136112],\n",
              "       [0.23071923],\n",
              "       [0.24302804],\n",
              "       [0.67991334],\n",
              "       [0.60994562],\n",
              "       [0.55650652],\n",
              "       [0.79135399],\n",
              "       [0.8754623 ],\n",
              "       [0.5295139 ],\n",
              "       [0.6587202 ],\n",
              "       [0.37822661]])"
            ]
          },
          "metadata": {},
          "execution_count": 59
        }
      ]
    },
    {
      "cell_type": "code",
      "metadata": {
        "colab": {
          "base_uri": "https://localhost:8080/",
          "height": 267
        },
        "id": "QyubE1VEVQwN",
        "outputId": "2100f6d5-b60c-41e8-d69b-95b00430af53"
      },
      "source": [
        "X = 2*np.random.rand(100, 1)\n",
        "y = 4 + 3 * X + np.random.randn(100, 1)\n",
        "plt.scatter(X, y);"
      ],
      "execution_count": 60,
      "outputs": [
        {
          "output_type": "display_data",
          "data": {
            "text/plain": [
              "<Figure size 432x288 with 1 Axes>"
            ],
            "image/png": "[encoded data removed]"
          },
          "metadata": {
            "needs_background": "light"
          }
        }
      ]
    },
    {
      "cell_type": "code",
      "source": [
        "import pandas as pd\n",
        "pd.DataFrame(y)"
      ],
      "metadata": {
        "colab": {
          "base_uri": "https://localhost:8080/",
          "height": 423
        },
        "id": "M5kaENJ4bZY5",
        "outputId": "24f2af93-306c-4dd9-d24d-972f227b585f"
      },
      "execution_count": 61,
      "outputs": [
        {
          "output_type": "execute_result",
          "data": {
            "text/plain": [
              "            0\n",
              "0    5.977405\n",
              "1    6.719591\n",
              "2    6.142157\n",
              "3    8.238270\n",
              "4    5.365414\n",
              "..        ...\n",
              "95   3.868151\n",
              "96   4.951932\n",
              "97  10.109046\n",
              "98  10.388818\n",
              "99   7.058242\n",
              "\n",
              "[100 rows x 1 columns]"
            ],
            "text/html": [
              "\n",
              "  <div id=\"df-21ea53cd-8eb0-405d-9350-8d129a3d6c57\">\n",
              "    <div class=\"colab-df-container\">\n",
              "      <div>\n",
              "<style scoped>\n",
              "    .dataframe tbody tr th:only-of-type {\n",
              "        vertical-align: middle;\n",
              "    }\n",
              "\n",
              "    .dataframe tbody tr th {\n",
              "        vertical-align: top;\n",
              "    }\n",
              "\n",
              "    .dataframe thead th {\n",
              "        text-align: right;\n",
              "    }\n",
              "</style>\n",
              "<table border=\"1\" class=\"dataframe\">\n",
              "  <thead>\n",
              "    <tr style=\"text-align: right;\">\n",
              "      <th></th>\n",
              "      <th>0</th>\n",
              "    </tr>\n",
              "  </thead>\n",
              "  <tbody>\n",
              "    <tr>\n",
              "      <th>0</th>\n",
              "      <td>5.977405</td>\n",
              "    </tr>\n",
              "    <tr>\n",
              "      <th>1</th>\n",
              "      <td>6.719591</td>\n",
              "    </tr>\n",
              "    <tr>\n",
              "      <th>2</th>\n",
              "      <td>6.142157</td>\n",
              "    </tr>\n",
              "    <tr>\n",
              "      <th>3</th>\n",
              "      <td>8.238270</td>\n",
              "    </tr>\n",
              "    <tr>\n",
              "      <th>4</th>\n",
              "      <td>5.365414</td>\n",
              "    </tr>\n",
              "    <tr>\n",
              "      <th>...</th>\n",
              "      <td>...</td>\n",
              "    </tr>\n",
              "    <tr>\n",
              "      <th>95</th>\n",
              "      <td>3.868151</td>\n",
              "    </tr>\n",
              "    <tr>\n",
              "      <th>96</th>\n",
              "      <td>4.951932</td>\n",
              "    </tr>\n",
              "    <tr>\n",
              "      <th>97</th>\n",
              "      <td>10.109046</td>\n",
              "    </tr>\n",
              "    <tr>\n",
              "      <th>98</th>\n",
              "      <td>10.388818</td>\n",
              "    </tr>\n",
              "    <tr>\n",
              "      <th>99</th>\n",
              "      <td>7.058242</td>\n",
              "    </tr>\n",
              "  </tbody>\n",
              "</table>\n",
              "<p>100 rows × 1 columns</p>\n",
              "</div>\n",
              "      <button class=\"colab-df-convert\" onclick=\"convertToInteractive('df-21ea53cd-8eb0-405d-9350-8d129a3d6c57')\"\n",
              "              title=\"Convert this dataframe to an interactive table.\"\n",
              "              style=\"display:none;\">\n",
              "        \n",
              "  <svg xmlns=\"http://www.w3.org/2000/svg\" height=\"24px\"viewBox=\"0 0 24 24\"\n",
              "       width=\"24px\">\n",
              "    <path d=\"M0 0h24v24H0V0z\" fill=\"none\"/>\n",
              "    <path d=\"M18.56 5.44l.94 2.06.94-2.06 2.06-.94-2.06-.94-.94-2.06-.94 2.06-2.06.94zm-11 1L8.5 8.5l.94-2.06 2.06-.94-2.06-.94L8.5 2.5l-.94 2.06-2.06.94zm10 10l.94 2.06.94-2.06 2.06-.94-2.06-.94-.94-2.06-.94 2.06-2.06.94z\"/><path d=\"M17.41 7.96l-1.37-1.37c-.4-.4-.92-.59-1.43-.59-.52 0-1.04.2-1.43.59L10.3 9.45l-7.72 7.72c-.78.78-.78 2.05 0 2.83L4 21.41c.39.39.9.59 1.41.59.51 0 1.02-.2 1.41-.59l7.78-7.78 2.81-2.81c.8-.78.8-2.07 0-2.86zM5.41 20L4 18.59l7.72-7.72 1.47 1.35L5.41 20z\"/>\n",
              "  </svg>\n",
              "      </button>\n",
              "      \n",
              "  <style>\n",
              "    .colab-df-container {\n",
              "      display:flex;\n",
              "      flex-wrap:wrap;\n",
              "      gap: 12px;\n",
              "    }\n",
              "\n",
              "    .colab-df-convert {\n",
              "      background-color: #E8F0FE;\n",
              "      border: none;\n",
              "      border-radius: 50%;\n",
              "      cursor: pointer;\n",
              "      display: none;\n",
              "      fill: #1967D2;\n",
              "      height: 32px;\n",
              "      padding: 0 0 0 0;\n",
              "      width: 32px;\n",
              "    }\n",
              "\n",
              "    .colab-df-convert:hover {\n",
              "      background-color: #E2EBFA;\n",
              "      box-shadow: 0px 1px 2px rgba(60, 64, 67, 0.3), 0px 1px 3px 1px rgba(60, 64, 67, 0.15);\n",
              "      fill: #174EA6;\n",
              "    }\n",
              "\n",
              "    [theme=dark] .colab-df-convert {\n",
              "      background-color: #3B4455;\n",
              "      fill: #D2E3FC;\n",
              "    }\n",
              "\n",
              "    [theme=dark] .colab-df-convert:hover {\n",
              "      background-color: #434B5C;\n",
              "      box-shadow: 0px 1px 3px 1px rgba(0, 0, 0, 0.15);\n",
              "      filter: drop-shadow(0px 1px 2px rgba(0, 0, 0, 0.3));\n",
              "      fill: #FFFFFF;\n",
              "    }\n",
              "  </style>\n",
              "\n",
              "      <script>\n",
              "        const buttonEl =\n",
              "          document.querySelector('#df-21ea53cd-8eb0-405d-9350-8d129a3d6c57 button.colab-df-convert');\n",
              "        buttonEl.style.display =\n",
              "          google.colab.kernel.accessAllowed ? 'block' : 'none';\n",
              "\n",
              "        async function convertToInteractive(key) {\n",
              "          const element = document.querySelector('#df-21ea53cd-8eb0-405d-9350-8d129a3d6c57');\n",
              "          const dataTable =\n",
              "            await google.colab.kernel.invokeFunction('convertToInteractive',\n",
              "                                                     [key], {});\n",
              "          if (!dataTable) return;\n",
              "\n",
              "          const docLinkHtml = 'Like what you see? Visit the ' +\n",
              "            '<a target=\"_blank\" href=https://colab.research.google.com/notebooks/data_table.ipynb>data table notebook</a>'\n",
              "            + ' to learn more about interactive tables.';\n",
              "          element.innerHTML = '';\n",
              "          dataTable['output_type'] = 'display_data';\n",
              "          await google.colab.output.renderOutput(dataTable, element);\n",
              "          const docLink = document.createElement('div');\n",
              "          docLink.innerHTML = docLinkHtml;\n",
              "          element.appendChild(docLink);\n",
              "        }\n",
              "      </script>\n",
              "    </div>\n",
              "  </div>\n",
              "  "
            ]
          },
          "metadata": {},
          "execution_count": 61
        }
      ]
    },
    {
      "cell_type": "code",
      "metadata": {
        "colab": {
          "base_uri": "https://localhost:8080/"
        },
        "id": "x6XGt_iAVQwO",
        "outputId": "da1bae98-93c6-49c1-d541-b7f153e22c3b"
      },
      "source": [
        "from sklearn.linear_model import LinearRegression\n",
        "\n",
        "linear_reg = LinearRegression(fit_intercept=True)\n",
        "linear_reg.fit(X, y)"
      ],
      "execution_count": 62,
      "outputs": [
        {
          "output_type": "execute_result",
          "data": {
            "text/plain": [
              "LinearRegression()"
            ]
          },
          "metadata": {},
          "execution_count": 62
        }
      ]
    },
    {
      "cell_type": "markdown",
      "metadata": {
        "id": "Hnm9YgjbVQwO"
      },
      "source": [
        "Plot the model's predictions:"
      ]
    },
    {
      "cell_type": "code",
      "metadata": {
        "id": "9NtrLfGGVQwP"
      },
      "source": [
        "#X_fit[]"
      ],
      "execution_count": 63,
      "outputs": []
    },
    {
      "cell_type": "code",
      "metadata": {
        "colab": {
          "base_uri": "https://localhost:8080/",
          "height": 289
        },
        "id": "1ZTT31igVQwP",
        "outputId": "fc8c43a9-9650-4c82-c6ca-aa3b328555bd"
      },
      "source": [
        "# construct best fit line\n",
        "X_fit = np.linspace(0, 2, 100)\n",
        "y_fit = linear_reg.predict(X_fit[:, np.newaxis])\n",
        "\n",
        "plt.scatter(X, y)\n",
        "plt.plot(X_fit, y_fit, \"r-\", linewidth=2, label=\"Predictions\")\n",
        "plt.xlabel(\"$X$\", fontsize=18)\n",
        "plt.ylabel(\"$y$\", rotation=0, fontsize=18)\n",
        "plt.legend(loc=\"upper left\", fontsize=14);"
      ],
      "execution_count": 64,
      "outputs": [
        {
          "output_type": "display_data",
          "data": {
            "text/plain": [
              "<Figure size 432x288 with 1 Axes>"
            ],
            "image/png": "[encoded data removed]"
          },
          "metadata": {
            "needs_background": "light"
          }
        }
      ]
    },
    {
      "cell_type": "markdown",
      "metadata": {
        "id": "kIfOsEcWVQwP"
      },
      "source": [
        "Predictions are a good fit."
      ]
    },
    {
      "cell_type": "markdown",
      "metadata": {
        "id": "z2VYUeGrVQwQ"
      },
      "source": [
        "Generate new data to make predictions with the model:"
      ]
    },
    {
      "cell_type": "code",
      "metadata": {
        "colab": {
          "base_uri": "https://localhost:8080/"
        },
        "id": "FuEd0Wp0VQwQ",
        "outputId": "0a851685-b6af-4246-ad48-8704d32815f9"
      },
      "source": [
        "X_new = np.array([[0], [2]])\n",
        "X_new"
      ],
      "execution_count": 65,
      "outputs": [
        {
          "output_type": "execute_result",
          "data": {
            "text/plain": [
              "array([[0],\n",
              "       [2]])"
            ]
          },
          "metadata": {},
          "execution_count": 65
        }
      ]
    },
    {
      "cell_type": "code",
      "metadata": {
        "colab": {
          "base_uri": "https://localhost:8080/"
        },
        "id": "lLCnLm7_VQwQ",
        "outputId": "ad7aeb31-0cd3-40c7-8ea6-f4039bded913"
      },
      "source": [
        "X_new.shape"
      ],
      "execution_count": 66,
      "outputs": [
        {
          "output_type": "execute_result",
          "data": {
            "text/plain": [
              "(2, 1)"
            ]
          },
          "metadata": {},
          "execution_count": 66
        }
      ]
    },
    {
      "cell_type": "code",
      "metadata": {
        "colab": {
          "base_uri": "https://localhost:8080/"
        },
        "id": "zJIzUfZsVQwQ",
        "outputId": "48c1dd7c-aedf-426e-dc10-567fabc0002e"
      },
      "source": [
        "y_new = linear_reg.predict(X_new)\n",
        "y_new"
      ],
      "execution_count": 67,
      "outputs": [
        {
          "output_type": "execute_result",
          "data": {
            "text/plain": [
              "array([[ 3.98336294],\n",
              "       [10.05437677]])"
            ]
          },
          "metadata": {},
          "execution_count": 67
        }
      ]
    },
    {
      "cell_type": "code",
      "metadata": {
        "colab": {
          "base_uri": "https://localhost:8080/"
        },
        "id": "ICiEnkbdVQwQ",
        "outputId": "248f8459-a5d4-49cf-d895-4983c0d46f03"
      },
      "source": [
        " linear_reg.coef_, linear_reg.intercept_"
      ],
      "execution_count": 68,
      "outputs": [
        {
          "output_type": "execute_result",
          "data": {
            "text/plain": [
              "(array([[3.03550692]]), array([3.98336294]))"
            ]
          },
          "metadata": {},
          "execution_count": 68
        }
      ]
    },
    {
      "cell_type": "markdown",
      "metadata": {
        "id": "iBXzOecgVQwR"
      },
      "source": [
        "The model estimates:\n",
        "\n",
        "$\\hat{y} = 3.36X + 3.74$"
      ]
    },
    {
      "cell_type": "code",
      "metadata": {
        "id": "ZNvipq0wQYfj"
      },
      "source": [
        "#|VENTAS|GANANCIAS|\n",
        "#COEF*VENTAS+B\n",
        "#|VENTAS|COMPRAS|GANANCIAS|\n",
        "#COEF1*X1+COEF2*X2+B=Y"
      ],
      "execution_count": 69,
      "outputs": []
    },
    {
      "cell_type": "markdown",
      "metadata": {
        "id": "_Rv-RJSnVQwR"
      },
      "source": [
        "## Polynomial Regression\n",
        "\n",
        "If data is more complex than a straight line, you can use a linear model ti fit non-linear data adding powers of each feature as new features and then train a linear model on the extended set of features. "
      ]
    },
    {
      "cell_type": "markdown",
      "metadata": {
        "id": "dPrpAVsZVQwR"
      },
      "source": [
        "$$y = a_0 + a_1x_1 + a_2x_2 + a_3x_3 + ...$$ to $$y = a_0 + a_1x + a_2x^2 + a_3x^3+ ...$$ "
      ]
    },
    {
      "cell_type": "markdown",
      "metadata": {
        "id": "9kjMWzEfVQwR"
      },
      "source": [
        "This is still a linear model, the linearity refers to the fact that the coefficients never multiply or divide each other."
      ]
    },
    {
      "cell_type": "markdown",
      "metadata": {
        "id": "2M3fp_CSVQwR"
      },
      "source": [
        "To generate polynomial data we use the function:\n",
        "\n",
        "$y = 0.50X^2 + X + 2 + noise$"
      ]
    },
    {
      "cell_type": "code",
      "metadata": {
        "id": "sSrueMnPVQwR"
      },
      "source": [
        "# generate non-linear data e.g. quadratic equation\n",
        "m = 100\n",
        "X = 6 * np.random.rand(m, 1) - 3\n",
        "y = 0.5 * X**2 + X + 2 + np.random.randn(m, 1)"
      ],
      "execution_count": 70,
      "outputs": []
    },
    {
      "cell_type": "code",
      "metadata": {
        "colab": {
          "base_uri": "https://localhost:8080/",
          "height": 0
        },
        "id": "GNQQoXkMVQwS",
        "outputId": "886e8625-31f8-47c8-8c36-e23e790a300d"
      },
      "source": [
        "plt.plot(X, y, \"b.\")\n",
        "plt.xlabel(\"$x_1$\", fontsize=18)\n",
        "plt.ylabel(\"$y$\", rotation=0, fontsize=18)\n",
        "plt.axis([-3, 3, 0, 10]);"
      ],
      "execution_count": 71,
      "outputs": [
        {
          "output_type": "display_data",
          "data": {
            "text/plain": [
              "<Figure size 432x288 with 1 Axes>"
            ],
            "image/png": "[encoded data removed]"
          },
          "metadata": {
            "needs_background": "light"
          }
        }
      ]
    },
    {
      "cell_type": "code",
      "source": [
        "import pandas as pd\n",
        "pd.DataFrame(y)"
      ],
      "metadata": {
        "id": "YtaK_dsidNcP",
        "outputId": "e7f0a6ae-f34a-4106-aaa1-0a7d31aa9dc0",
        "colab": {
          "base_uri": "https://localhost:8080/",
          "height": 0
        }
      },
      "execution_count": 72,
      "outputs": [
        {
          "output_type": "execute_result",
          "data": {
            "text/plain": [
              "           0\n",
              "0   7.085920\n",
              "1   5.288454\n",
              "2   5.611701\n",
              "3   3.279081\n",
              "4   3.632998\n",
              "..       ...\n",
              "95  2.211921\n",
              "96  5.179965\n",
              "97  1.817782\n",
              "98  0.119109\n",
              "99  0.581474\n",
              "\n",
              "[100 rows x 1 columns]"
            ],
            "text/html": [
              "\n",
              "  <div id=\"df-9acf4c27-aaa3-43e1-b2a2-4da8878da2d1\">\n",
              "    <div class=\"colab-df-container\">\n",
              "      <div>\n",
              "<style scoped>\n",
              "    .dataframe tbody tr th:only-of-type {\n",
              "        vertical-align: middle;\n",
              "    }\n",
              "\n",
              "    .dataframe tbody tr th {\n",
              "        vertical-align: top;\n",
              "    }\n",
              "\n",
              "    .dataframe thead th {\n",
              "        text-align: right;\n",
              "    }\n",
              "</style>\n",
              "<table border=\"1\" class=\"dataframe\">\n",
              "  <thead>\n",
              "    <tr style=\"text-align: right;\">\n",
              "      <th></th>\n",
              "      <th>0</th>\n",
              "    </tr>\n",
              "  </thead>\n",
              "  <tbody>\n",
              "    <tr>\n",
              "      <th>0</th>\n",
              "      <td>7.085920</td>\n",
              "    </tr>\n",
              "    <tr>\n",
              "      <th>1</th>\n",
              "      <td>5.288454</td>\n",
              "    </tr>\n",
              "    <tr>\n",
              "      <th>2</th>\n",
              "      <td>5.611701</td>\n",
              "    </tr>\n",
              "    <tr>\n",
              "      <th>3</th>\n",
              "      <td>3.279081</td>\n",
              "    </tr>\n",
              "    <tr>\n",
              "      <th>4</th>\n",
              "      <td>3.632998</td>\n",
              "    </tr>\n",
              "    <tr>\n",
              "      <th>...</th>\n",
              "      <td>...</td>\n",
              "    </tr>\n",
              "    <tr>\n",
              "      <th>95</th>\n",
              "      <td>2.211921</td>\n",
              "    </tr>\n",
              "    <tr>\n",
              "      <th>96</th>\n",
              "      <td>5.179965</td>\n",
              "    </tr>\n",
              "    <tr>\n",
              "      <th>97</th>\n",
              "      <td>1.817782</td>\n",
              "    </tr>\n",
              "    <tr>\n",
              "      <th>98</th>\n",
              "      <td>0.119109</td>\n",
              "    </tr>\n",
              "    <tr>\n",
              "      <th>99</th>\n",
              "      <td>0.581474</td>\n",
              "    </tr>\n",
              "  </tbody>\n",
              "</table>\n",
              "<p>100 rows × 1 columns</p>\n",
              "</div>\n",
              "      <button class=\"colab-df-convert\" onclick=\"convertToInteractive('df-9acf4c27-aaa3-43e1-b2a2-4da8878da2d1')\"\n",
              "              title=\"Convert this dataframe to an interactive table.\"\n",
              "              style=\"display:none;\">\n",
              "        \n",
              "  <svg xmlns=\"http://www.w3.org/2000/svg\" height=\"24px\"viewBox=\"0 0 24 24\"\n",
              "       width=\"24px\">\n",
              "    <path d=\"M0 0h24v24H0V0z\" fill=\"none\"/>\n",
              "    <path d=\"M18.56 5.44l.94 2.06.94-2.06 2.06-.94-2.06-.94-.94-2.06-.94 2.06-2.06.94zm-11 1L8.5 8.5l.94-2.06 2.06-.94-2.06-.94L8.5 2.5l-.94 2.06-2.06.94zm10 10l.94 2.06.94-2.06 2.06-.94-2.06-.94-.94-2.06-.94 2.06-2.06.94z\"/><path d=\"M17.41 7.96l-1.37-1.37c-.4-.4-.92-.59-1.43-.59-.52 0-1.04.2-1.43.59L10.3 9.45l-7.72 7.72c-.78.78-.78 2.05 0 2.83L4 21.41c.39.39.9.59 1.41.59.51 0 1.02-.2 1.41-.59l7.78-7.78 2.81-2.81c.8-.78.8-2.07 0-2.86zM5.41 20L4 18.59l7.72-7.72 1.47 1.35L5.41 20z\"/>\n",
              "  </svg>\n",
              "      </button>\n",
              "      \n",
              "  <style>\n",
              "    .colab-df-container {\n",
              "      display:flex;\n",
              "      flex-wrap:wrap;\n",
              "      gap: 12px;\n",
              "    }\n",
              "\n",
              "    .colab-df-convert {\n",
              "      background-color: #E8F0FE;\n",
              "      border: none;\n",
              "      border-radius: 50%;\n",
              "      cursor: pointer;\n",
              "      display: none;\n",
              "      fill: #1967D2;\n",
              "      height: 32px;\n",
              "      padding: 0 0 0 0;\n",
              "      width: 32px;\n",
              "    }\n",
              "\n",
              "    .colab-df-convert:hover {\n",
              "      background-color: #E2EBFA;\n",
              "      box-shadow: 0px 1px 2px rgba(60, 64, 67, 0.3), 0px 1px 3px 1px rgba(60, 64, 67, 0.15);\n",
              "      fill: #174EA6;\n",
              "    }\n",
              "\n",
              "    [theme=dark] .colab-df-convert {\n",
              "      background-color: #3B4455;\n",
              "      fill: #D2E3FC;\n",
              "    }\n",
              "\n",
              "    [theme=dark] .colab-df-convert:hover {\n",
              "      background-color: #434B5C;\n",
              "      box-shadow: 0px 1px 3px 1px rgba(0, 0, 0, 0.15);\n",
              "      filter: drop-shadow(0px 1px 2px rgba(0, 0, 0, 0.3));\n",
              "      fill: #FFFFFF;\n",
              "    }\n",
              "  </style>\n",
              "\n",
              "      <script>\n",
              "        const buttonEl =\n",
              "          document.querySelector('#df-9acf4c27-aaa3-43e1-b2a2-4da8878da2d1 button.colab-df-convert');\n",
              "        buttonEl.style.display =\n",
              "          google.colab.kernel.accessAllowed ? 'block' : 'none';\n",
              "\n",
              "        async function convertToInteractive(key) {\n",
              "          const element = document.querySelector('#df-9acf4c27-aaa3-43e1-b2a2-4da8878da2d1');\n",
              "          const dataTable =\n",
              "            await google.colab.kernel.invokeFunction('convertToInteractive',\n",
              "                                                     [key], {});\n",
              "          if (!dataTable) return;\n",
              "\n",
              "          const docLinkHtml = 'Like what you see? Visit the ' +\n",
              "            '<a target=\"_blank\" href=https://colab.research.google.com/notebooks/data_table.ipynb>data table notebook</a>'\n",
              "            + ' to learn more about interactive tables.';\n",
              "          element.innerHTML = '';\n",
              "          dataTable['output_type'] = 'display_data';\n",
              "          await google.colab.output.renderOutput(dataTable, element);\n",
              "          const docLink = document.createElement('div');\n",
              "          docLink.innerHTML = docLinkHtml;\n",
              "          element.appendChild(docLink);\n",
              "        }\n",
              "      </script>\n",
              "    </div>\n",
              "  </div>\n",
              "  "
            ]
          },
          "metadata": {},
          "execution_count": 72
        }
      ]
    },
    {
      "cell_type": "markdown",
      "metadata": {
        "id": "vrZTRaLNVQwS"
      },
      "source": [
        "Now we can use `PolynomialFeatues` to transform training data adding the square of each feature as new features."
      ]
    },
    {
      "cell_type": "code",
      "metadata": {
        "id": "BXo0Hm56VQwS"
      },
      "source": [
        "from sklearn.preprocessing import PolynomialFeatures\n",
        "\n",
        "poly_features = PolynomialFeatures(degree=2, include_bias=False)\n",
        "X_poly = poly_features.fit_transform(X)"
      ],
      "execution_count": 73,
      "outputs": []
    },
    {
      "cell_type": "code",
      "metadata": {
        "colab": {
          "base_uri": "https://localhost:8080/"
        },
        "id": "1FqY9-I4VQwS",
        "outputId": "02f84c5d-69ee-4f73-f842-f66bf0012005"
      },
      "source": [
        "X_poly"
      ],
      "execution_count": 74,
      "outputs": [
        {
          "output_type": "execute_result",
          "data": {
            "text/plain": [
              "array([[ 1.99064399e+00,  3.96266348e+00],\n",
              "       [ 1.79842965e+00,  3.23434920e+00],\n",
              "       [ 1.91292012e+00,  3.65926339e+00],\n",
              "       [ 2.34495069e-01,  5.49879373e-02],\n",
              "       [-2.80772127e+00,  7.88329873e+00],\n",
              "       [ 6.02763778e-01,  3.63324172e-01],\n",
              "       [ 1.17469575e+00,  1.37991011e+00],\n",
              "       [ 1.99411975e+00,  3.97651357e+00],\n",
              "       [ 1.09034810e+00,  1.18885898e+00],\n",
              "       [-7.81954201e-01,  6.11452372e-01],\n",
              "       [ 1.88173459e+00,  3.54092505e+00],\n",
              "       [ 1.26397546e-01,  1.59763396e-02],\n",
              "       [ 8.91009073e-02,  7.93897168e-03],\n",
              "       [ 8.61676599e-01,  7.42486561e-01],\n",
              "       [-2.63550010e+00,  6.94586077e+00],\n",
              "       [-2.60529018e+00,  6.78753692e+00],\n",
              "       [-1.49781301e+00,  2.24344380e+00],\n",
              "       [ 1.14279377e+00,  1.30597759e+00],\n",
              "       [ 8.65243784e-01,  7.48646806e-01],\n",
              "       [-1.23022492e+00,  1.51345335e+00],\n",
              "       [-2.67576319e+00,  7.15970863e+00],\n",
              "       [-2.05096227e+00,  4.20644625e+00],\n",
              "       [-1.61586814e+00,  2.61102983e+00],\n",
              "       [ 2.70889849e+00,  7.33813105e+00],\n",
              "       [ 1.78151700e+00,  3.17380282e+00],\n",
              "       [ 2.04581495e+00,  4.18535882e+00],\n",
              "       [ 2.35364990e+00,  5.53966786e+00],\n",
              "       [ 1.46722683e+00,  2.15275456e+00],\n",
              "       [ 2.60265459e+00,  6.77381094e+00],\n",
              "       [ 8.06233805e-02,  6.50012948e-03],\n",
              "       [-1.57182781e+00,  2.47064265e+00],\n",
              "       [-1.99138159e+00,  3.96560064e+00],\n",
              "       [-1.34873761e+00,  1.81909315e+00],\n",
              "       [ 7.24212571e-02,  5.24483848e-03],\n",
              "       [-2.18088772e+00,  4.75627124e+00],\n",
              "       [-2.87583113e+00,  8.27040470e+00],\n",
              "       [ 1.68827402e+00,  2.85026917e+00],\n",
              "       [-3.15958424e-01,  9.98297254e-02],\n",
              "       [ 5.83458208e-01,  3.40423481e-01],\n",
              "       [-1.01131113e+00,  1.02275021e+00],\n",
              "       [ 1.65370086e+00,  2.73472655e+00],\n",
              "       [ 1.69970395e+00,  2.88899353e+00],\n",
              "       [ 1.87851661e+00,  3.52882465e+00],\n",
              "       [ 1.89075155e-01,  3.57494144e-02],\n",
              "       [ 1.23954678e+00,  1.53647623e+00],\n",
              "       [ 2.84502910e+00,  8.09419057e+00],\n",
              "       [ 2.41196572e+00,  5.81757863e+00],\n",
              "       [ 3.08043011e-01,  9.48904968e-02],\n",
              "       [ 2.96751325e+00,  8.80613490e+00],\n",
              "       [-8.78750222e-01,  7.72201953e-01],\n",
              "       [ 1.57240486e+00,  2.47245705e+00],\n",
              "       [ 4.31971086e-01,  1.86599019e-01],\n",
              "       [ 1.75941918e+00,  3.09555586e+00],\n",
              "       [ 2.41112289e+00,  5.81351358e+00],\n",
              "       [ 2.25324314e+00,  5.07710464e+00],\n",
              "       [-1.40878286e+00,  1.98466915e+00],\n",
              "       [-2.77203419e+00,  7.68417354e+00],\n",
              "       [-1.87402835e+00,  3.51198224e+00],\n",
              "       [-2.40653792e+00,  5.79142478e+00],\n",
              "       [ 1.10361275e+00,  1.21796110e+00],\n",
              "       [-1.55054871e+00,  2.40420129e+00],\n",
              "       [ 6.47849229e-01,  4.19708624e-01],\n",
              "       [-3.51395044e-01,  1.23478477e-01],\n",
              "       [-2.60962267e+00,  6.81013046e+00],\n",
              "       [ 8.83721387e-01,  7.80963489e-01],\n",
              "       [-1.91494461e+00,  3.66701284e+00],\n",
              "       [ 1.03003072e-01,  1.06096328e-02],\n",
              "       [-2.83235705e+00,  8.02224647e+00],\n",
              "       [ 1.99268745e+00,  3.97080326e+00],\n",
              "       [ 2.18223059e+00,  4.76213033e+00],\n",
              "       [-1.16976639e+00,  1.36835341e+00],\n",
              "       [ 9.25115806e-01,  8.55839254e-01],\n",
              "       [ 2.24083939e-01,  5.02136118e-02],\n",
              "       [ 1.48182569e+00,  2.19580738e+00],\n",
              "       [ 2.30804753e+00,  5.32708340e+00],\n",
              "       [ 4.66782304e-02,  2.17885720e-03],\n",
              "       [-2.63106607e-02,  6.92250864e-04],\n",
              "       [ 1.80029389e+00,  3.24105810e+00],\n",
              "       [-1.05474558e+00,  1.11248824e+00],\n",
              "       [ 1.50475496e+00,  2.26428748e+00],\n",
              "       [-1.33027119e-01,  1.76962143e-02],\n",
              "       [-1.56583853e-01,  2.45185029e-02],\n",
              "       [ 4.23093995e-01,  1.79008529e-01],\n",
              "       [-8.73806668e-01,  7.63538093e-01],\n",
              "       [-2.61800329e+00,  6.85394122e+00],\n",
              "       [ 5.48029121e-02,  3.00335917e-03],\n",
              "       [-2.40936131e+00,  5.80502190e+00],\n",
              "       [-2.83573292e+00,  8.04138120e+00],\n",
              "       [ 9.00324139e-01,  8.10583556e-01],\n",
              "       [ 2.46409875e+00,  6.07178265e+00],\n",
              "       [ 2.34012083e+00,  5.47616550e+00],\n",
              "       [ 1.16827797e+00,  1.36487342e+00],\n",
              "       [-2.29083200e+00,  5.24791124e+00],\n",
              "       [-5.41888039e-02,  2.93642647e-03],\n",
              "       [ 1.19625899e+00,  1.43103558e+00],\n",
              "       [-8.09570142e-01,  6.55403815e-01],\n",
              "       [ 2.01466115e+00,  4.05885955e+00],\n",
              "       [-1.88792864e+00,  3.56427456e+00],\n",
              "       [-1.20421175e+00,  1.45012593e+00],\n",
              "       [-1.37405805e+00,  1.88803551e+00]])"
            ]
          },
          "metadata": {},
          "execution_count": 74
        }
      ]
    },
    {
      "cell_type": "markdown",
      "metadata": {
        "id": "GrFMRU_eVQwS"
      },
      "source": [
        "`X_poly` now contains the original feature of X plus the square of the feature:"
      ]
    },
    {
      "cell_type": "code",
      "metadata": {
        "colab": {
          "base_uri": "https://localhost:8080/"
        },
        "id": "M8FH1dY2UwgN",
        "outputId": "b567b786-eb15-4046-f308-ebf0d6064ada"
      },
      "source": [
        "print(X[0])\n",
        "print(X[0]*X[0])\n"
      ],
      "execution_count": 75,
      "outputs": [
        {
          "output_type": "stream",
          "name": "stdout",
          "text": [
            "[1.99064399]\n",
            "[3.96266348]\n"
          ]
        }
      ]
    },
    {
      "cell_type": "code",
      "metadata": {
        "colab": {
          "base_uri": "https://localhost:8080/"
        },
        "id": "PSflPniWVQwT",
        "outputId": "d9bcae38-3532-4b70-de99-2e6a35d787f9"
      },
      "source": [
        "X_poly[0]"
      ],
      "execution_count": 76,
      "outputs": [
        {
          "output_type": "execute_result",
          "data": {
            "text/plain": [
              "array([1.99064399, 3.96266348])"
            ]
          },
          "metadata": {},
          "execution_count": 76
        }
      ]
    },
    {
      "cell_type": "markdown",
      "metadata": {
        "id": "HaXjXg7FVQwT"
      },
      "source": [
        "Fit the model to this extended training data:"
      ]
    },
    {
      "cell_type": "code",
      "metadata": {
        "colab": {
          "base_uri": "https://localhost:8080/"
        },
        "id": "c0Qu93dgVQwT",
        "outputId": "2d2f7971-caae-42ef-ba50-7d5241c624e2"
      },
      "source": [
        "lin_reg = LinearRegression(fit_intercept=True)\n",
        "lin_reg.fit(X_poly, y)\n",
        "lin_reg.coef_, lin_reg.intercept_"
      ],
      "execution_count": 77,
      "outputs": [
        {
          "output_type": "execute_result",
          "data": {
            "text/plain": [
              "(array([[0.94415593, 0.52370936]]), array([1.91807363]))"
            ]
          },
          "metadata": {},
          "execution_count": 77
        }
      ]
    },
    {
      "cell_type": "markdown",
      "metadata": {
        "id": "rKOSwvnmVQwT"
      },
      "source": [
        "The model estimates:\n",
        "\n",
        "$\\hat{y} =  0.89X +0.48X^2 + 2.09$"
      ]
    },
    {
      "cell_type": "markdown",
      "metadata": {
        "id": "_EtZEKz5VQwT"
      },
      "source": [
        "Plot the data and the predictions:"
      ]
    },
    {
      "cell_type": "code",
      "metadata": {
        "colab": {
          "base_uri": "https://localhost:8080/",
          "height": 0
        },
        "id": "6Q8dHRgdVQwT",
        "outputId": "33e5509d-00d7-4183-987d-0e9c1dd0a3ac"
      },
      "source": [
        "X_new=np.linspace(-3, 3, 100).reshape(100, 1)\n",
        "X_new_poly = poly_features.transform(X_new)\n",
        "y_new = lin_reg.predict(X_new_poly)\n",
        "plt.plot(X, y, \"b.\")\n",
        "plt.plot(X_new, y_new, \"r-\", linewidth=2, label=\"Predictions\")\n",
        "plt.xlabel(\"$x_1$\", fontsize=18)\n",
        "plt.ylabel(\"$y$\", rotation=0, fontsize=18)\n",
        "plt.legend(loc=\"upper left\", fontsize=14)\n",
        "plt.axis([-3, 3, 0, 10]);"
      ],
      "execution_count": 78,
      "outputs": [
        {
          "output_type": "display_data",
          "data": {
            "text/plain": [
              "<Figure size 432x288 with 1 Axes>"
            ],
            "image/png": "[encoded data removed]"
          },
          "metadata": {
            "needs_background": "light"
          }
        }
      ]
    },
    {
      "cell_type": "code",
      "source": [],
      "metadata": {
        "id": "vyq0o8f2pcqa"
      },
      "execution_count": 78,
      "outputs": []
    },
    {
      "cell_type": "markdown",
      "source": [
        "## R square\n",
        "\n",
        "R² es una medida estadística de qué tan cerca están los datos de la línea de regresión ajustada. También se conoce como el coeficiente de determinación o el coeficiente de determinación múltiple para la regresión múltiple. Para decirlo en un lenguaje más simple, R² es una medida de ajuste para los modelos de regresión lineal.\n",
        "\n",
        "\n",
        "\n",
        "R² no indica si un modelo de regresión se ajusta adecuadamente a sus datos. Un buen modelo puede tener un valor R² bajo. Por otro lado, un modelo sesgado puede tener un valor alto de R².\n",
        "\n",
        " SSres + SSreg = SStot, R² = Explained variation / Total Variation\n",
        " \n",
        " ![image.png](https://i.stack.imgur.com/xb1VY.png)\n",
        " \n",
        "![image.png](https://3.bp.blogspot.com/-MFqQLwbGwd4/WMO7tz39beI/AAAAAAAAF9I/Bjpfohgv_5E4lu7HzHJBQtXsBM--byqPwCLcB/s1600/rsquared.png)\n"
      ],
      "metadata": {
        "id": "TIFwAtW1pc6h"
      }
    },
    {
      "cell_type": "markdown",
      "metadata": {
        "id": "nTKFj4x9LMXm"
      },
      "source": [
        "# Ejercicio 1\n",
        "\n",
        "Utiliza la base de datos de \n",
        "https://www.kaggle.com/vinicius150987/manufacturing-cost\n",
        "\n",
        "Suponga que trabaja como consultor de una empresa de nueva creación que busca desarrollar un modelo para estimar el costo de los bienes vendidos a medida que varían el volumen de producción (número de unidades producidas). La startup recopiló datos y le pidió que desarrollara un modelo para predecir su costo frente a la cantidad de unidades vendidas."
      ]
    },
    {
      "cell_type": "code",
      "metadata": {
        "colab": {
          "base_uri": "https://localhost:8080/",
          "height": 363
        },
        "id": "oTnErQOkL3oa",
        "outputId": "fb0c3980-b84e-40a4-8587-6e461d7b2833"
      },
      "source": [
        "import pandas as pd\n",
        "df = pd.read_csv('https://raw.githubusercontent.com/marypazrf/bdd/main/EconomiesOfScale.csv')\n",
        "df.sample(10)"
      ],
      "execution_count": 79,
      "outputs": [
        {
          "output_type": "execute_result",
          "data": {
            "text/plain": [
              "     Number of Units  Manufacturing Cost\n",
              "221         3.410349           51.814720\n",
              "394         4.119537           56.980989\n",
              "884         6.013319           33.623890\n",
              "648         4.992818           33.948027\n",
              "955         6.851837           28.753978\n",
              "600         4.794625           43.501171\n",
              "218         3.406138           48.173608\n",
              "775         5.454202           37.720622\n",
              "65          2.502705           44.442539\n",
              "848         5.756110           37.902433"
            ],
            "text/html": [
              "\n",
              "  <div id=\"df-75fa40d6-16fa-466d-93b7-65fcc5a9e243\">\n",
              "    <div class=\"colab-df-container\">\n",
              "      <div>\n",
              "<style scoped>\n",
              "    .dataframe tbody tr th:only-of-type {\n",
              "        vertical-align: middle;\n",
              "    }\n",
              "\n",
              "    .dataframe tbody tr th {\n",
              "        vertical-align: top;\n",
              "    }\n",
              "\n",
              "    .dataframe thead th {\n",
              "        text-align: right;\n",
              "    }\n",
              "</style>\n",
              "<table border=\"1\" class=\"dataframe\">\n",
              "  <thead>\n",
              "    <tr style=\"text-align: right;\">\n",
              "      <th></th>\n",
              "      <th>Number of Units</th>\n",
              "      <th>Manufacturing Cost</th>\n",
              "    </tr>\n",
              "  </thead>\n",
              "  <tbody>\n",
              "    <tr>\n",
              "      <th>221</th>\n",
              "      <td>3.410349</td>\n",
              "      <td>51.814720</td>\n",
              "    </tr>\n",
              "    <tr>\n",
              "      <th>394</th>\n",
              "      <td>4.119537</td>\n",
              "      <td>56.980989</td>\n",
              "    </tr>\n",
              "    <tr>\n",
              "      <th>884</th>\n",
              "      <td>6.013319</td>\n",
              "      <td>33.623890</td>\n",
              "    </tr>\n",
              "    <tr>\n",
              "      <th>648</th>\n",
              "      <td>4.992818</td>\n",
              "      <td>33.948027</td>\n",
              "    </tr>\n",
              "    <tr>\n",
              "      <th>955</th>\n",
              "      <td>6.851837</td>\n",
              "      <td>28.753978</td>\n",
              "    </tr>\n",
              "    <tr>\n",
              "      <th>600</th>\n",
              "      <td>4.794625</td>\n",
              "      <td>43.501171</td>\n",
              "    </tr>\n",
              "    <tr>\n",
              "      <th>218</th>\n",
              "      <td>3.406138</td>\n",
              "      <td>48.173608</td>\n",
              "    </tr>\n",
              "    <tr>\n",
              "      <th>775</th>\n",
              "      <td>5.454202</td>\n",
              "      <td>37.720622</td>\n",
              "    </tr>\n",
              "    <tr>\n",
              "      <th>65</th>\n",
              "      <td>2.502705</td>\n",
              "      <td>44.442539</td>\n",
              "    </tr>\n",
              "    <tr>\n",
              "      <th>848</th>\n",
              "      <td>5.756110</td>\n",
              "      <td>37.902433</td>\n",
              "    </tr>\n",
              "  </tbody>\n",
              "</table>\n",
              "</div>\n",
              "      <button class=\"colab-df-convert\" onclick=\"convertToInteractive('df-75fa40d6-16fa-466d-93b7-65fcc5a9e243')\"\n",
              "              title=\"Convert this dataframe to an interactive table.\"\n",
              "              style=\"display:none;\">\n",
              "        \n",
              "  <svg xmlns=\"http://www.w3.org/2000/svg\" height=\"24px\"viewBox=\"0 0 24 24\"\n",
              "       width=\"24px\">\n",
              "    <path d=\"M0 0h24v24H0V0z\" fill=\"none\"/>\n",
              "    <path d=\"M18.56 5.44l.94 2.06.94-2.06 2.06-.94-2.06-.94-.94-2.06-.94 2.06-2.06.94zm-11 1L8.5 8.5l.94-2.06 2.06-.94-2.06-.94L8.5 2.5l-.94 2.06-2.06.94zm10 10l.94 2.06.94-2.06 2.06-.94-2.06-.94-.94-2.06-.94 2.06-2.06.94z\"/><path d=\"M17.41 7.96l-1.37-1.37c-.4-.4-.92-.59-1.43-.59-.52 0-1.04.2-1.43.59L10.3 9.45l-7.72 7.72c-.78.78-.78 2.05 0 2.83L4 21.41c.39.39.9.59 1.41.59.51 0 1.02-.2 1.41-.59l7.78-7.78 2.81-2.81c.8-.78.8-2.07 0-2.86zM5.41 20L4 18.59l7.72-7.72 1.47 1.35L5.41 20z\"/>\n",
              "  </svg>\n",
              "      </button>\n",
              "      \n",
              "  <style>\n",
              "    .colab-df-container {\n",
              "      display:flex;\n",
              "      flex-wrap:wrap;\n",
              "      gap: 12px;\n",
              "    }\n",
              "\n",
              "    .colab-df-convert {\n",
              "      background-color: #E8F0FE;\n",
              "      border: none;\n",
              "      border-radius: 50%;\n",
              "      cursor: pointer;\n",
              "      display: none;\n",
              "      fill: #1967D2;\n",
              "      height: 32px;\n",
              "      padding: 0 0 0 0;\n",
              "      width: 32px;\n",
              "    }\n",
              "\n",
              "    .colab-df-convert:hover {\n",
              "      background-color: #E2EBFA;\n",
              "      box-shadow: 0px 1px 2px rgba(60, 64, 67, 0.3), 0px 1px 3px 1px rgba(60, 64, 67, 0.15);\n",
              "      fill: #174EA6;\n",
              "    }\n",
              "\n",
              "    [theme=dark] .colab-df-convert {\n",
              "      background-color: #3B4455;\n",
              "      fill: #D2E3FC;\n",
              "    }\n",
              "\n",
              "    [theme=dark] .colab-df-convert:hover {\n",
              "      background-color: #434B5C;\n",
              "      box-shadow: 0px 1px 3px 1px rgba(0, 0, 0, 0.15);\n",
              "      filter: drop-shadow(0px 1px 2px rgba(0, 0, 0, 0.3));\n",
              "      fill: #FFFFFF;\n",
              "    }\n",
              "  </style>\n",
              "\n",
              "      <script>\n",
              "        const buttonEl =\n",
              "          document.querySelector('#df-75fa40d6-16fa-466d-93b7-65fcc5a9e243 button.colab-df-convert');\n",
              "        buttonEl.style.display =\n",
              "          google.colab.kernel.accessAllowed ? 'block' : 'none';\n",
              "\n",
              "        async function convertToInteractive(key) {\n",
              "          const element = document.querySelector('#df-75fa40d6-16fa-466d-93b7-65fcc5a9e243');\n",
              "          const dataTable =\n",
              "            await google.colab.kernel.invokeFunction('convertToInteractive',\n",
              "                                                     [key], {});\n",
              "          if (!dataTable) return;\n",
              "\n",
              "          const docLinkHtml = 'Like what you see? Visit the ' +\n",
              "            '<a target=\"_blank\" href=https://colab.research.google.com/notebooks/data_table.ipynb>data table notebook</a>'\n",
              "            + ' to learn more about interactive tables.';\n",
              "          element.innerHTML = '';\n",
              "          dataTable['output_type'] = 'display_data';\n",
              "          await google.colab.output.renderOutput(dataTable, element);\n",
              "          const docLink = document.createElement('div');\n",
              "          docLink.innerHTML = docLinkHtml;\n",
              "          element.appendChild(docLink);\n",
              "        }\n",
              "      </script>\n",
              "    </div>\n",
              "  </div>\n",
              "  "
            ]
          },
          "metadata": {},
          "execution_count": 79
        }
      ]
    },
    {
      "cell_type": "code",
      "metadata": {
        "id": "14kGO5nkMGlV"
      },
      "source": [
        "X = df[['Number of Units']]\n",
        "y = df['Manufacturing Cost']"
      ],
      "execution_count": 80,
      "outputs": []
    },
    {
      "cell_type": "code",
      "source": [
        "len(X)"
      ],
      "metadata": {
        "id": "ksh_OrkjY3GW",
        "outputId": "c1ee6d89-5b7b-448f-a42f-b9850fb6d448",
        "colab": {
          "base_uri": "https://localhost:8080/"
        }
      },
      "execution_count": 81,
      "outputs": [
        {
          "output_type": "execute_result",
          "data": {
            "text/plain": [
              "1000"
            ]
          },
          "metadata": {},
          "execution_count": 81
        }
      ]
    },
    {
      "cell_type": "code",
      "source": [
        "y.describe"
      ],
      "metadata": {
        "colab": {
          "base_uri": "https://localhost:8080/"
        },
        "id": "bwR6SSqQDfC2",
        "outputId": "ef7f64bf-5ad4-4f8f-e043-e6456576c4b1"
      },
      "execution_count": 82,
      "outputs": [
        {
          "output_type": "execute_result",
          "data": {
            "text/plain": [
              "<bound method NDFrame.describe of 0      95.066056\n",
              "1      96.531750\n",
              "2      73.661311\n",
              "3      95.566843\n",
              "4      98.777013\n",
              "         ...    \n",
              "995    23.855067\n",
              "996    27.536542\n",
              "997    25.973787\n",
              "998    25.138311\n",
              "999    21.547777\n",
              "Name: Manufacturing Cost, Length: 1000, dtype: float64>"
            ]
          },
          "metadata": {},
          "execution_count": 82
        }
      ]
    },
    {
      "cell_type": "code",
      "metadata": {
        "colab": {
          "base_uri": "https://localhost:8080/",
          "height": 282
        },
        "id": "idoEjfEhMoxk",
        "outputId": "7093a6c8-6970-430b-a94a-20cfcd51c39e"
      },
      "source": [
        "plt.plot(X,y,'b.')"
      ],
      "execution_count": 83,
      "outputs": [
        {
          "output_type": "execute_result",
          "data": {
            "text/plain": [
              "[<matplotlib.lines.Line2D at 0x7fd3fcbfe690>]"
            ]
          },
          "metadata": {},
          "execution_count": 83
        },
        {
          "output_type": "display_data",
          "data": {
            "text/plain": [
              "<Figure size 432x288 with 1 Axes>"
            ],
            "image/png": "[encoded data removed]"
          },
          "metadata": {
            "needs_background": "light"
          }
        }
      ]
    },
    {
      "cell_type": "markdown",
      "source": [
        "**REGRESIÓN LINEAL**"
      ],
      "metadata": {
        "id": "9AUnt4OUWH8i"
      }
    },
    {
      "cell_type": "code",
      "source": [
        "#Defino los conjuntos de prueba y entrenamiento\n",
        "X_train, X_test, y_train, y_test = train_test_split(X, y, test_size = 0.1, random_state = 101)\n",
        "\n",
        "#El modelo de regresión lineal sería:\n",
        "lineal_reg = LinearRegression(fit_intercept=True)\n",
        "lineal_reg.fit(X_train, y_train)\n",
        "\n",
        "X_reg = X_test\n",
        "y_reg = lineal_reg.predict(X_reg)\n",
        "\n",
        "plt.scatter(X_train, y_train)\n",
        "plt.plot(X_reg, y_reg, \"r-\", linewidth=2, label=\"Predicciones\")\n",
        "plt.xlabel(\"$X$\", fontsize=18)\n",
        "plt.ylabel(\"$y$\", rotation=0, fontsize=18)\n",
        "plt.legend(loc=\"upper left\", fontsize=14);"
      ],
      "metadata": {
        "id": "kMmOy97puOLE",
        "colab": {
          "base_uri": "https://localhost:8080/",
          "height": 287
        },
        "outputId": "817a2908-6d66-4eb9-cdcd-3ff6e41497c4"
      },
      "execution_count": 84,
      "outputs": [
        {
          "output_type": "display_data",
          "data": {
            "text/plain": [
              "<Figure size 432x288 with 1 Axes>"
            ],
            "image/png": "[encoded data removed]"
          },
          "metadata": {
            "needs_background": "light"
          }
        }
      ]
    },
    {
      "cell_type": "code",
      "source": [
        "#La ecuación es:\n",
        "\n",
        "print('La ecuación es: y =', linear_reg.coef_,'x +', linear_reg.intercept_)"
      ],
      "metadata": {
        "colab": {
          "base_uri": "https://localhost:8080/"
        },
        "id": "TX_p8cWmcPhz",
        "outputId": "7160d561-5703-4987-d2fc-826f66224e8a"
      },
      "execution_count": 85,
      "outputs": [
        {
          "output_type": "stream",
          "name": "stdout",
          "text": [
            "La ecuación es: y = [[3.03550692]] x + [3.98336294]\n"
          ]
        }
      ]
    },
    {
      "cell_type": "code",
      "source": [
        "#Los errores MAE y RMSE estarían dados por:\n",
        "print('Error Medio Absoluto (MAE):', metrics.mean_absolute_error(y_test,y_reg))\n",
        "print('Error Medio Cuadrado (RMSE):', np.sqrt(metrics.mean_squared_error(y_test, y_reg)))\n",
        "#La R2 sería:\n",
        "print('R2_Score:', r2_score(y_test,y_reg))"
      ],
      "metadata": {
        "colab": {
          "base_uri": "https://localhost:8080/"
        },
        "id": "c4ehLVYedC38",
        "outputId": "78bbb1f2-41e1-4456-fc05-2f007d86e3bb"
      },
      "execution_count": 86,
      "outputs": [
        {
          "output_type": "stream",
          "name": "stdout",
          "text": [
            "Error Medio Absoluto (MAE): 5.013587781954963\n",
            "Error Medio Cuadrado (RMSE): 7.108963321847682\n",
            "R2_Score: 0.6116251549562579\n"
          ]
        }
      ]
    },
    {
      "cell_type": "markdown",
      "source": [
        "**REGRESIÓN POLINOMIAL**"
      ],
      "metadata": {
        "id": "HQDw5IFzsCgh"
      }
    },
    {
      "cell_type": "code",
      "source": [
        "#polinomial\n",
        "\n",
        "pol_features = PolynomialFeatures(degree=2, include_bias=False)\n",
        "#X_train_pol_reg = pol_features.fit_transform(X_train)\n",
        "#X_test_pol_reg = pol_features.fit_transform(X_test)\n",
        "\n",
        "X_pol_reg = pol_features.fit_transform(X_train)\n",
        "X_pol_reg\n",
        "\n"
      ],
      "metadata": {
        "id": "LWvfEDGKuoLJ",
        "colab": {
          "base_uri": "https://localhost:8080/"
        },
        "outputId": "24d93e85-d330-4428-b255-29e75afd6460"
      },
      "execution_count": 87,
      "outputs": [
        {
          "output_type": "execute_result",
          "data": {
            "text/plain": [
              "array([[ 7.97424764, 63.58862541],\n",
              "       [ 1.89573077,  3.59379517],\n",
              "       [ 3.5765014 , 12.79136229],\n",
              "       ...,\n",
              "       [ 3.94046305, 15.52724904],\n",
              "       [ 4.52448429, 20.4709581 ],\n",
              "       [ 5.86814353, 34.43510849]])"
            ]
          },
          "metadata": {},
          "execution_count": 87
        }
      ]
    },
    {
      "cell_type": "code",
      "source": [
        "pol_reg = LinearRegression(fit_intercept=True)\n",
        "pol_reg.fit(X_pol_reg, y_train)\n",
        "pol_reg.coef_, pol_reg.intercept_"
      ],
      "metadata": {
        "colab": {
          "base_uri": "https://localhost:8080/"
        },
        "id": "dlJ7e3EKSMXq",
        "outputId": "9aa32f9e-aa97-4f0c-9af9-fb1ba8930776"
      },
      "execution_count": 88,
      "outputs": [
        {
          "output_type": "execute_result",
          "data": {
            "text/plain": [
              "(array([-16.40638102,   1.13136095]), 88.80179909112496)"
            ]
          },
          "metadata": {},
          "execution_count": 88
        }
      ]
    },
    {
      "cell_type": "code",
      "source": [
        "X_pol_reg.shape"
      ],
      "metadata": {
        "colab": {
          "base_uri": "https://localhost:8080/"
        },
        "id": "FVBdhx-owTee",
        "outputId": "0ab3b2d5-d185-4652-d1a9-9d74e51c5c4c"
      },
      "execution_count": 89,
      "outputs": [
        {
          "output_type": "execute_result",
          "data": {
            "text/plain": [
              "(900, 2)"
            ]
          },
          "metadata": {},
          "execution_count": 89
        }
      ]
    },
    {
      "cell_type": "code",
      "source": [
        "X_pol_reg_test = pol_features.fit_transform(X_test)\n",
        "X_pol_reg_test.shape"
      ],
      "metadata": {
        "colab": {
          "base_uri": "https://localhost:8080/"
        },
        "id": "i9PZKfgjUGV4",
        "outputId": "5433246b-2f2b-4468-f49d-db80cbf841ed"
      },
      "execution_count": 90,
      "outputs": [
        {
          "output_type": "execute_result",
          "data": {
            "text/plain": [
              "(100, 2)"
            ]
          },
          "metadata": {},
          "execution_count": 90
        }
      ]
    },
    {
      "cell_type": "code",
      "source": [
        "y_pol_reg = pol_reg.predict(X_pol_reg_test)\n",
        "y_pol_reg.shape"
      ],
      "metadata": {
        "colab": {
          "base_uri": "https://localhost:8080/"
        },
        "id": "ZLxyBAgCUg2N",
        "outputId": "e631b9e4-ef56-41e1-e72d-8ae3577766b5"
      },
      "execution_count": 91,
      "outputs": [
        {
          "output_type": "execute_result",
          "data": {
            "text/plain": [
              "(100,)"
            ]
          },
          "metadata": {},
          "execution_count": 91
        }
      ]
    },
    {
      "cell_type": "code",
      "source": [
        "X_new=np.linspace(-3, 3, 100).reshape(100, 1)\n",
        "X_new_poly = pol_features.transform(X_new)\n",
        "y_pred = pol_reg.predict(X_new_poly)\n",
        "\n",
        "plt.plot(X, y, \"b.\")\n",
        "plt.plot(X_new, y_pred, \"r-\", linewidth=2, label=\"Predictions\")\n",
        "plt.xlabel(\"$x_1$\", fontsize=18)\n",
        "plt.ylabel(\"$y$\", rotation=0, fontsize=18)\n",
        "plt.legend(loc=\"upper left\", fontsize=14)\n",
        "plt.axis([-3, 10, 10, 100]);"
      ],
      "metadata": {
        "colab": {
          "base_uri": "https://localhost:8080/",
          "height": 326
        },
        "id": "lQBaei8myN8n",
        "outputId": "8c397829-1271-466f-c4b8-3517e18e6041"
      },
      "execution_count": 92,
      "outputs": [
        {
          "output_type": "stream",
          "name": "stderr",
          "text": [
            "/usr/local/lib/python3.7/dist-packages/sklearn/base.py:451: UserWarning: X does not have valid feature names, but PolynomialFeatures was fitted with feature names\n",
            "  \"X does not have valid feature names, but\"\n"
          ]
        },
        {
          "output_type": "display_data",
          "data": {
            "text/plain": [
              "<Figure size 432x288 with 1 Axes>"
            ],
            "image/png": "[encoded data removed]"
          },
          "metadata": {
            "needs_background": "light"
          }
        }
      ]
    },
    {
      "cell_type": "code",
      "source": [
        "#La ecuación es:\n",
        "\n",
        "print('La ecuación es: y =', pol_reg.coef_[1],'x^2 +', pol_reg.coef_[0],'x +',pol_reg.intercept_)"
      ],
      "metadata": {
        "colab": {
          "base_uri": "https://localhost:8080/"
        },
        "id": "fhcUXez5Wc7M",
        "outputId": "54c446ad-a805-4143-f3c5-0d340115665a"
      },
      "execution_count": 93,
      "outputs": [
        {
          "output_type": "stream",
          "name": "stdout",
          "text": [
            "La ecuación es: y = 1.1313609537119216 x^2 + -16.406381017212386 x + 88.80179909112496\n"
          ]
        }
      ]
    },
    {
      "cell_type": "code",
      "metadata": {
        "id": "-VDz4zLK9Q0K",
        "colab": {
          "base_uri": "https://localhost:8080/"
        },
        "outputId": "4f2ccce6-b665-42ca-f0a2-e39f848d3ef2"
      },
      "source": [
        "#Los errores MAE y RMSE estarían dados por:\n",
        "print('Error medio Absoluto (MAE):', metrics.mean_absolute_error(y_test, y_pol_reg))\n",
        "print('Root Mean Squared Error:', np.sqrt(metrics.mean_squared_error(y_test, y_pol_reg)))\n",
        "#La R2 sería:\n",
        "print('R2_Score',r2_score(y_test, y_pol_reg))"
      ],
      "execution_count": 94,
      "outputs": [
        {
          "output_type": "stream",
          "name": "stdout",
          "text": [
            "Error medio Absoluto (MAE): 4.3833025759681075\n",
            "Root Mean Squared Error: 5.832771301068423\n",
            "R2_Score 0.7385501224942537\n"
          ]
        }
      ]
    },
    {
      "cell_type": "markdown",
      "source": [
        "**RIDGE**"
      ],
      "metadata": {
        "id": "LaOqdo6rNmBf"
      }
    },
    {
      "cell_type": "code",
      "source": [
        "ridge_reg = Ridge(alpha=5.0,fit_intercept=True) \n",
        "ridge_reg.fit(X_train, y_train)\n",
        "X_ridge_reg = X_test  \n",
        "y_ridge_reg = ridge_reg.predict(X_ridge_reg)\n",
        "plt.scatter(X_train, y_train)\n",
        "plt.plot(X_ridge_reg, y_ridge_reg, \"r-\", linewidth=2, label=\"Predicciones\")\n",
        "plt.xlabel(\"$X$\", fontsize=18)\n",
        "plt.ylabel(\"$y$\", rotation=0, fontsize=18)\n",
        "plt.legend(loc=\"upper left\", fontsize=14);"
      ],
      "metadata": {
        "colab": {
          "base_uri": "https://localhost:8080/",
          "height": 287
        },
        "id": "AYmJRLXGNkbP",
        "outputId": "98f812ab-347e-4a70-e28e-786279568a25"
      },
      "execution_count": 95,
      "outputs": [
        {
          "output_type": "display_data",
          "data": {
            "text/plain": [
              "<Figure size 432x288 with 1 Axes>"
            ],
            "image/png": "[encoded data removed]"
          },
          "metadata": {
            "needs_background": "light"
          }
        }
      ]
    },
    {
      "cell_type": "code",
      "source": [
        "#Imprimimos los errores y la R2\n",
        "\n",
        "from sklearn import metrics\n",
        "from sklearn.metrics import r2_score\n",
        "\n",
        "print('Error medio Absoluto (MAE):', metrics.mean_absolute_error(y_test, y_ridge_reg))\n",
        "print('Root Mean Squared Error:', np.sqrt(metrics.mean_squared_error(y_test, y_ridge_reg)))\n",
        "print('R2_Score',r2_score(y_test, y_ridge_reg))"
      ],
      "metadata": {
        "colab": {
          "base_uri": "https://localhost:8080/"
        },
        "id": "InfzuetFSBSn",
        "outputId": "92c9af60-071b-4879-f795-4fdb7e2f919e"
      },
      "execution_count": 96,
      "outputs": [
        {
          "output_type": "stream",
          "name": "stdout",
          "text": [
            "Error medio Absoluto (MAE): 5.0162057389928325\n",
            "Root Mean Squared Error: 7.1111119498200965\n",
            "R2_Score 0.6113903530239646\n"
          ]
        }
      ]
    },
    {
      "cell_type": "code",
      "source": [
        "#La ecuación es:\n",
        "\n",
        "print('La ecuación es: y =', ridge_reg.coef_,'x +', ridge_reg.intercept_)"
      ],
      "metadata": {
        "colab": {
          "base_uri": "https://localhost:8080/"
        },
        "id": "mowGXeUFXhZo",
        "outputId": "ad7ff1ec-17e7-421e-cbc3-487e2eaa1fa5"
      },
      "execution_count": 97,
      "outputs": [
        {
          "output_type": "stream",
          "name": "stdout",
          "text": [
            "La ecuación es: y = [-5.97003397] x + 66.75243237759665\n"
          ]
        }
      ]
    },
    {
      "cell_type": "markdown",
      "source": [
        "**LASSO**"
      ],
      "metadata": {
        "id": "gf5k6-GTNxZA"
      }
    },
    {
      "cell_type": "code",
      "source": [
        "lasso_reg = Lasso(alpha=5.0,fit_intercept=True) \n",
        "lasso_reg.fit(X_train, y_train)\n",
        "X_lasso_reg = X_test  \n",
        "y_lasso_reg = lasso_reg.predict(X_lasso_reg)\n",
        "plt.scatter(X_train, y_train)\n",
        "plt.plot(X_lasso_reg, y_lasso_reg, \"r-\", linewidth=2, label=\"Predicciones\")\n",
        "plt.xlabel(\"$X$\", fontsize=18)\n",
        "plt.ylabel(\"$y$\", rotation=0, fontsize=18)\n",
        "plt.legend(loc=\"upper left\", fontsize=14);"
      ],
      "metadata": {
        "colab": {
          "base_uri": "https://localhost:8080/",
          "height": 287
        },
        "id": "yXaqVQSiNzh6",
        "outputId": "e3990723-2e8f-44fe-8967-3316fda5625c"
      },
      "execution_count": 98,
      "outputs": [
        {
          "output_type": "display_data",
          "data": {
            "text/plain": [
              "<Figure size 432x288 with 1 Axes>"
            ],
            "image/png": "[encoded data removed]"
          },
          "metadata": {
            "needs_background": "light"
          }
        }
      ]
    },
    {
      "cell_type": "code",
      "source": [
        "#Imprimimos los errores y la R2\n",
        "\n",
        "from sklearn import metrics\n",
        "from sklearn.metrics import r2_score\n",
        "\n",
        "print('Error medio Absoluto (MAE):', metrics.mean_absolute_error(y_test, y_lasso_reg))\n",
        "print('Root Mean Squared Error:', np.sqrt(metrics.mean_squared_error(y_test, y_lasso_reg)))\n",
        "print('R2_Score',r2_score(y_test, y_lasso_reg))"
      ],
      "metadata": {
        "colab": {
          "base_uri": "https://localhost:8080/"
        },
        "id": "T8fPe2IKSRTx",
        "outputId": "84a3db9c-2142-4d89-ca99-885e1695cd72"
      },
      "execution_count": 99,
      "outputs": [
        {
          "output_type": "stream",
          "name": "stdout",
          "text": [
            "Error medio Absoluto (MAE): 5.681207654677401\n",
            "Root Mean Squared Error: 8.409660991642687\n",
            "R2_Score 0.456505036516648\n"
          ]
        }
      ]
    },
    {
      "cell_type": "code",
      "source": [
        "#La ecuación es:\n",
        "\n",
        "print('La ecuación es: y =', lasso_reg.coef_,'x +', lasso_reg.intercept_)"
      ],
      "metadata": {
        "colab": {
          "base_uri": "https://localhost:8080/"
        },
        "id": "L2Fn60JuXuwQ",
        "outputId": "0bbdd3b7-32f3-4dbd-91ab-77605cc6a635"
      },
      "execution_count": 100,
      "outputs": [
        {
          "output_type": "stream",
          "name": "stdout",
          "text": [
            "La ecuación es: y = [-3.15572458] x + 54.16195119377413\n"
          ]
        }
      ]
    },
    {
      "cell_type": "markdown",
      "source": [
        "**Graficas de todas las regresiones**"
      ],
      "metadata": {
        "id": "IwTu__rdTmg8"
      }
    },
    {
      "cell_type": "code",
      "source": [
        "#Antes de crear la lista para graficar cada una de las regresiones, se crea la lista de MAE y R2 para cada una de las regresiones contemplatas\n",
        "\n",
        "lista_mae =[] \n",
        "lista_r2 =[]\n",
        "\n",
        "#Lista MAE y R2 Regresión Lineal (RL)\n",
        "mae_lineal_reg = metrics.mean_absolute_error(y_test,y_reg)\n",
        "lista_mae.append(mae_lineal_reg) \n",
        "\n",
        "r2_lineal_reg = r2_score(y_test,y_reg)\n",
        "lista_r2.append(r2_lineal_reg)\n",
        "\n",
        "#Lista MAE y R2 Regresión Lineal Polinomial (RLP)\n",
        "mae_lineal_reg = metrics.mean_absolute_error(y_test,y_pol_reg)\n",
        "lista_mae.append(mae_lineal_reg) \n",
        "\n",
        "r2_pol_reg = r2_score(y_test,y_pol_reg)\n",
        "lista_r2.append(r2_pol_reg)\n",
        "\n",
        "#Lista MAE y R2 Ridge\n",
        "mae_ridge_reg = metrics.mean_absolute_error(y_test,y_ridge_reg)\n",
        "lista_mae.append(mae_ridge_reg) \n",
        "\n",
        "r2_ridge_reg = r2_score(y_test,y_ridge_reg)\n",
        "lista_r2.append(r2_ridge_reg)\n",
        "\n",
        "#Lista MAE y R2 Lasso\n",
        "mae_lasso_reg = metrics.mean_absolute_error(y_test,y_lasso_reg)\n",
        "lista_mae.append(mae_lasso_reg) \n",
        "\n",
        "r2_lasso_reg = r2_score(y_test,y_lasso_reg)\n",
        "lista_r2.append(r2_lasso_reg)\n",
        "\n",
        "\n",
        "print(lista_mae)\n",
        "print(lista_r2)"
      ],
      "metadata": {
        "colab": {
          "base_uri": "https://localhost:8080/"
        },
        "id": "7yAXiDNPVCD_",
        "outputId": "8bbe4da7-5541-4420-afd5-24b9d8c1fbec"
      },
      "execution_count": 101,
      "outputs": [
        {
          "output_type": "stream",
          "name": "stdout",
          "text": [
            "[5.013587781954963, 4.3833025759681075, 5.0162057389928325, 5.681207654677401]\n",
            "[0.6116251549562579, 0.7385501224942537, 0.6113903530239646, 0.456505036516648]\n"
          ]
        }
      ]
    },
    {
      "cell_type": "code",
      "source": [
        "nombres=list()\n",
        "nombres.append('RL')\n",
        "nombres.append('RLP')\n",
        "nombres.append('Ridge')\n",
        "nombres.append('Lasso')\n",
        "\n",
        "plt.bar(nombres, lista_mae)\n",
        "plt.show()"
      ],
      "metadata": {
        "colab": {
          "base_uri": "https://localhost:8080/",
          "height": 265
        },
        "id": "LyekhepbTsnE",
        "outputId": "6d35f9c7-5f54-495b-d14d-89dd7c675e09"
      },
      "execution_count": 102,
      "outputs": [
        {
          "output_type": "display_data",
          "data": {
            "text/plain": [
              "<Figure size 432x288 with 1 Axes>"
            ],
            "image/png": "[encoded data removed]"
          },
          "metadata": {
            "needs_background": "light"
          }
        }
      ]
    },
    {
      "cell_type": "code",
      "source": [
        "#Grafico de r cuadrada\n",
        "nombres=list()\n",
        "nombres.append('RL')\n",
        "nombres.append('RLP')\n",
        "nombres.append('Ridge')\n",
        "nombres.append('Lasso')\n",
        "\n",
        "plt.bar(nombres,lista_r2)\n",
        "plt.show()"
      ],
      "metadata": {
        "colab": {
          "base_uri": "https://localhost:8080/",
          "height": 265
        },
        "id": "fQpze7kdyA6_",
        "outputId": "332ca66c-ec5e-4a52-dc12-5ebb7c990f2a"
      },
      "execution_count": 103,
      "outputs": [
        {
          "output_type": "display_data",
          "data": {
            "text/plain": [
              "<Figure size 432x288 with 1 Axes>"
            ],
            "image/png": "[encoded data removed]"
          },
          "metadata": {
            "needs_background": "light"
          }
        }
      ]
    },
    {
      "cell_type": "markdown",
      "source": [
        "**Conclusiones:**\n",
        "\n",
        "Luego de realizar todos los modelos, se puede concluir que los errores MAE para el de Regresión Lineal y Ridge dieron valores muy similares, del mismo modo se obtuvo para R2, pero si revisamos la Regresión Lineal Polinomial el MAE estuvo por debajo y el R2 por encima a los mencionados inicialmente. Por su parte los errores cuando se aplicó la regresión Lasso, devolvieron valores fuera del rango. Esto lo podemos explicar porque al parecer el conjunto de datos obedece más a un polinomio lineal y en ese sentido RL y Ridge deben mostrarnos un mejor comportamiento.\n",
        "\n",
        "Tendríamos que seguir haciendo iteraciones e incluso sacar una gráfica box-plot para ver el comportamiento estadístico del residuo ya que de este dependería el ajuste que habría que hacer a los modelos.\n",
        "\n",
        "Mi conjunto de entrenamiento fue del 90% y podríamos ajustarlo bajando a 80%. Sin embargo, si en este punto fuese necesario brindar un avance a la empresa o entregar un informe preliminar, recomendaría el uso de RL y Ridge para comparar y corregir desviaciones importantes."
      ],
      "metadata": {
        "id": "XMblW34IrOn7"
      }
    }
  ]
}