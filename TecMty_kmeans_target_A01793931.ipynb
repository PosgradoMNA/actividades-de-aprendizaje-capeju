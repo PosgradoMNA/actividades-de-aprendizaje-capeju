{
  "nbformat": 4,
  "nbformat_minor": 0,
  "metadata": {
    "colab": {
      "provenance": [],
      "collapsed_sections": [],
      "include_colab_link": true
    },
    "kernelspec": {
      "name": "python3",
      "display_name": "Python 3"
    },
    "language_info": {
      "name": "python"
    }
  },
  "cells": [
    {
      "cell_type": "markdown",
      "metadata": {
        "id": "view-in-github",
        "colab_type": "text"
      },
      "source": [
        "<a href=\"https://colab.research.google.com/github/PosgradoMNA/actividades-de-aprendizaje-capeju/blob/main/TecMty_kmeans_target_A01793931.ipynb\" target=\"_parent\"><img src=\"https://colab.research.google.com/assets/colab-badge.svg\" alt=\"Open In Colab\"/></a>"
      ]
    },
    {
      "cell_type": "markdown",
      "source": [
        "Maestría en Inteligencia Artificial Aplicada\n",
        "\n",
        "Ciencia y Analítica de Datos\n",
        "\n",
        "Tecnológico de Monterrey\n",
        "\n",
        "**Alumno:** Carlos Jesús Peñaloza Julio -- A01793931\n",
        "\n",
        "**Profesora:** María de la Paz Rico Fernández\n",
        "\n",
        "**Fecha de entrega:** Noviembre 9 de 2022"
      ],
      "metadata": {
        "id": "hio-n1qBodb9"
      }
    },
    {
      "cell_type": "markdown",
      "source": [
        "Este notebook se basa en información de target\n",
        "![imagen.png](https://www.america-retail.com/static//2020/12/target01.jpg)\n",
        "\n",
        "\n",
        "Ahora imagina que somos parte del equipo de data science de la empresa Target, una de las tiendas con mayor presencia en Estados Unidos. El departamento de logistica acude a nosotros para saber donde le conviene poner sus almacenes, para que se optimice el gasto de gasolina, los tiempos de entrega de los productos y se disminuyan costos. Para ello, nos pasan los datos de latitud y longitud de cada una de las tiendas.\n",
        "\n",
        "https://www.kaggle.com/datasets/saejinmahlauheinert/target-store-locations?select=target-locations.csv\n",
        "\n",
        "Si quieres saber un poco más de graficas geográficas consulta el siguiente notebook\n",
        "https://colab.research.google.com/github/QuantEcon/quantecon-notebooks-datascience/blob/master/applications/maps.ipynb#scrollTo=uo2oPtSCeAOz"
      ],
      "metadata": {
        "id": "6mUW5QNwhz5T"
      }
    },
    {
      "cell_type": "code",
      "source": [
        "! pip install qeds fiona geopandas xgboost gensim folium pyLDAvis descartes"
      ],
      "metadata": {
        "colab": {
          "base_uri": "https://localhost:8080/",
          "height": 0
        },
        "id": "YwkfEqinwESD",
        "outputId": "b3c110c3-67bc-40e2-ccbd-209e46a35593"
      },
      "execution_count": 1,
      "outputs": [
        {
          "output_type": "stream",
          "name": "stdout",
          "text": [
            "Looking in indexes: https://pypi.org/simple, https://us-python.pkg.dev/colab-wheels/public/simple/\n",
            "Collecting qeds\n",
            "  Downloading qeds-0.7.0.tar.gz (24 kB)\n",
            "Collecting fiona\n",
            "  Downloading Fiona-1.8.22-cp37-cp37m-manylinux2014_x86_64.whl (16.7 MB)\n",
            "\u001b[K     |████████████████████████████████| 16.7 MB 545 kB/s \n",
            "\u001b[?25hCollecting geopandas\n",
            "  Downloading geopandas-0.10.2-py2.py3-none-any.whl (1.0 MB)\n",
            "\u001b[K     |████████████████████████████████| 1.0 MB 3.8 MB/s \n",
            "\u001b[?25hRequirement already satisfied: xgboost in /usr/local/lib/python3.7/dist-packages (0.90)\n",
            "Requirement already satisfied: gensim in /usr/local/lib/python3.7/dist-packages (3.6.0)\n",
            "Requirement already satisfied: folium in /usr/local/lib/python3.7/dist-packages (0.12.1.post1)\n",
            "Collecting pyLDAvis\n",
            "  Downloading pyLDAvis-3.3.1.tar.gz (1.7 MB)\n",
            "\u001b[K     |████████████████████████████████| 1.7 MB 44.9 MB/s \n",
            "\u001b[?25h  Installing build dependencies ... \u001b[?25l\u001b[?25hdone\n",
            "  Getting requirements to build wheel ... \u001b[?25l\u001b[?25hdone\n",
            "  Installing backend dependencies ... \u001b[?25l\u001b[?25hdone\n",
            "    Preparing wheel metadata ... \u001b[?25l\u001b[?25hdone\n",
            "Requirement already satisfied: descartes in /usr/local/lib/python3.7/dist-packages (1.1.0)\n",
            "Requirement already satisfied: pandas in /usr/local/lib/python3.7/dist-packages (from qeds) (1.3.5)\n",
            "Requirement already satisfied: requests in /usr/local/lib/python3.7/dist-packages (from qeds) (2.23.0)\n",
            "Collecting quandl\n",
            "  Downloading Quandl-3.7.0-py2.py3-none-any.whl (26 kB)\n",
            "Requirement already satisfied: scipy in /usr/local/lib/python3.7/dist-packages (from qeds) (1.7.3)\n",
            "Requirement already satisfied: numpy in /usr/local/lib/python3.7/dist-packages (from qeds) (1.21.6)\n",
            "Collecting quantecon\n",
            "  Downloading quantecon-0.5.3-py3-none-any.whl (179 kB)\n",
            "\u001b[K     |████████████████████████████████| 179 kB 65.0 MB/s \n",
            "\u001b[?25hRequirement already satisfied: matplotlib in /usr/local/lib/python3.7/dist-packages (from qeds) (3.2.2)\n",
            "Requirement already satisfied: pyarrow in /usr/local/lib/python3.7/dist-packages (from qeds) (6.0.1)\n",
            "Requirement already satisfied: openpyxl in /usr/local/lib/python3.7/dist-packages (from qeds) (3.0.10)\n",
            "Requirement already satisfied: plotly in /usr/local/lib/python3.7/dist-packages (from qeds) (5.5.0)\n",
            "Requirement already satisfied: pandas_datareader in /usr/local/lib/python3.7/dist-packages (from qeds) (0.9.0)\n",
            "Requirement already satisfied: scikit-learn in /usr/local/lib/python3.7/dist-packages (from qeds) (1.0.2)\n",
            "Requirement already satisfied: seaborn in /usr/local/lib/python3.7/dist-packages (from qeds) (0.11.2)\n",
            "Requirement already satisfied: statsmodels in /usr/local/lib/python3.7/dist-packages (from qeds) (0.12.2)\n",
            "Requirement already satisfied: attrs>=17 in /usr/local/lib/python3.7/dist-packages (from fiona) (22.1.0)\n",
            "Requirement already satisfied: six>=1.7 in /usr/local/lib/python3.7/dist-packages (from fiona) (1.15.0)\n",
            "Collecting munch\n",
            "  Downloading munch-2.5.0-py2.py3-none-any.whl (10 kB)\n",
            "Collecting cligj>=0.5\n",
            "  Downloading cligj-0.7.2-py3-none-any.whl (7.1 kB)\n",
            "Requirement already satisfied: setuptools in /usr/local/lib/python3.7/dist-packages (from fiona) (57.4.0)\n",
            "Collecting click-plugins>=1.0\n",
            "  Downloading click_plugins-1.1.1-py2.py3-none-any.whl (7.5 kB)\n",
            "Requirement already satisfied: click>=4.0 in /usr/local/lib/python3.7/dist-packages (from fiona) (7.1.2)\n",
            "Requirement already satisfied: certifi in /usr/local/lib/python3.7/dist-packages (from fiona) (2022.9.24)\n",
            "Requirement already satisfied: shapely>=1.6 in /usr/local/lib/python3.7/dist-packages (from geopandas) (1.8.5.post1)\n",
            "Collecting pyproj>=2.2.0\n",
            "  Downloading pyproj-3.2.1-cp37-cp37m-manylinux2010_x86_64.whl (6.3 MB)\n",
            "\u001b[K     |████████████████████████████████| 6.3 MB 37.7 MB/s \n",
            "\u001b[?25hRequirement already satisfied: pytz>=2017.3 in /usr/local/lib/python3.7/dist-packages (from pandas->qeds) (2022.6)\n",
            "Requirement already satisfied: python-dateutil>=2.7.3 in /usr/local/lib/python3.7/dist-packages (from pandas->qeds) (2.8.2)\n",
            "Requirement already satisfied: smart-open>=1.2.1 in /usr/local/lib/python3.7/dist-packages (from gensim) (5.2.1)\n",
            "Requirement already satisfied: branca>=0.3.0 in /usr/local/lib/python3.7/dist-packages (from folium) (0.5.0)\n",
            "Requirement already satisfied: jinja2>=2.9 in /usr/local/lib/python3.7/dist-packages (from folium) (2.11.3)\n",
            "Requirement already satisfied: MarkupSafe>=0.23 in /usr/local/lib/python3.7/dist-packages (from jinja2>=2.9->folium) (2.0.1)\n",
            "Requirement already satisfied: joblib in /usr/local/lib/python3.7/dist-packages (from pyLDAvis) (1.2.0)\n",
            "Collecting funcy\n",
            "  Downloading funcy-1.17-py2.py3-none-any.whl (33 kB)\n",
            "Requirement already satisfied: numexpr in /usr/local/lib/python3.7/dist-packages (from pyLDAvis) (2.8.4)\n",
            "Collecting sklearn\n",
            "  Downloading sklearn-0.0.post1.tar.gz (3.6 kB)\n",
            "Requirement already satisfied: future in /usr/local/lib/python3.7/dist-packages (from pyLDAvis) (0.16.0)\n",
            "Requirement already satisfied: pyparsing!=2.0.4,!=2.1.2,!=2.1.6,>=2.0.1 in /usr/local/lib/python3.7/dist-packages (from matplotlib->qeds) (3.0.9)\n",
            "Requirement already satisfied: kiwisolver>=1.0.1 in /usr/local/lib/python3.7/dist-packages (from matplotlib->qeds) (1.4.4)\n",
            "Requirement already satisfied: cycler>=0.10 in /usr/local/lib/python3.7/dist-packages (from matplotlib->qeds) (0.11.0)\n",
            "Requirement already satisfied: typing-extensions in /usr/local/lib/python3.7/dist-packages (from kiwisolver>=1.0.1->matplotlib->qeds) (4.1.1)\n",
            "Requirement already satisfied: et-xmlfile in /usr/local/lib/python3.7/dist-packages (from openpyxl->qeds) (1.1.0)\n",
            "Requirement already satisfied: lxml in /usr/local/lib/python3.7/dist-packages (from pandas_datareader->qeds) (4.9.1)\n",
            "Requirement already satisfied: chardet<4,>=3.0.2 in /usr/local/lib/python3.7/dist-packages (from requests->qeds) (3.0.4)\n",
            "Requirement already satisfied: urllib3!=1.25.0,!=1.25.1,<1.26,>=1.21.1 in /usr/local/lib/python3.7/dist-packages (from requests->qeds) (1.24.3)\n",
            "Requirement already satisfied: idna<3,>=2.5 in /usr/local/lib/python3.7/dist-packages (from requests->qeds) (2.10)\n",
            "Requirement already satisfied: tenacity>=6.2.0 in /usr/local/lib/python3.7/dist-packages (from plotly->qeds) (8.1.0)\n",
            "Collecting inflection>=0.3.1\n",
            "  Downloading inflection-0.5.1-py2.py3-none-any.whl (9.5 kB)\n",
            "Requirement already satisfied: more-itertools in /usr/local/lib/python3.7/dist-packages (from quandl->qeds) (9.0.0)\n",
            "Requirement already satisfied: sympy in /usr/local/lib/python3.7/dist-packages (from quantecon->qeds) (1.7.1)\n",
            "Requirement already satisfied: numba in /usr/local/lib/python3.7/dist-packages (from quantecon->qeds) (0.56.4)\n",
            "Requirement already satisfied: llvmlite<0.40,>=0.39.0dev0 in /usr/local/lib/python3.7/dist-packages (from numba->quantecon->qeds) (0.39.1)\n",
            "Requirement already satisfied: importlib-metadata in /usr/local/lib/python3.7/dist-packages (from numba->quantecon->qeds) (4.13.0)\n",
            "Requirement already satisfied: zipp>=0.5 in /usr/local/lib/python3.7/dist-packages (from importlib-metadata->numba->quantecon->qeds) (3.10.0)\n",
            "Requirement already satisfied: threadpoolctl>=2.0.0 in /usr/local/lib/python3.7/dist-packages (from scikit-learn->qeds) (3.1.0)\n",
            "Requirement already satisfied: patsy>=0.5 in /usr/local/lib/python3.7/dist-packages (from statsmodels->qeds) (0.5.3)\n",
            "Requirement already satisfied: mpmath>=0.19 in /usr/local/lib/python3.7/dist-packages (from sympy->quantecon->qeds) (1.2.1)\n",
            "Building wheels for collected packages: qeds, pyLDAvis, sklearn\n",
            "  Building wheel for qeds (setup.py) ... \u001b[?25l\u001b[?25hdone\n",
            "  Created wheel for qeds: filename=qeds-0.7.0-py3-none-any.whl size=27812 sha256=137a25cfa478a1d4274eb30c6fe384eeb91b35ba77ab7f4aa191067533bd7db5\n",
            "  Stored in directory: /root/.cache/pip/wheels/fc/8c/52/0cc036b9730b75850b9845770780f8d05ed08ff38a67cbaa29\n",
            "  Building wheel for pyLDAvis (PEP 517) ... \u001b[?25l\u001b[?25hdone\n",
            "  Created wheel for pyLDAvis: filename=pyLDAvis-3.3.1-py2.py3-none-any.whl size=136897 sha256=0b0137f4e1fa90ae4975c2c3fd877628235513bc3faead1f5842ef7684609612\n",
            "  Stored in directory: /root/.cache/pip/wheels/c9/21/f6/17bcf2667e8a68532ba2fbf6d5c72fdf4c7f7d9abfa4852d2f\n",
            "  Building wheel for sklearn (setup.py) ... \u001b[?25l\u001b[?25hdone\n",
            "  Created wheel for sklearn: filename=sklearn-0.0.post1-py3-none-any.whl size=2344 sha256=418fce520fa68ecc6e8ad8bdc5c647dd68447d8e001599457143455c3a4b4dd1\n",
            "  Stored in directory: /root/.cache/pip/wheels/42/56/cc/4a8bf86613aafd5b7f1b310477667c1fca5c51c3ae4124a003\n",
            "Successfully built qeds pyLDAvis sklearn\n",
            "Installing collected packages: munch, inflection, cligj, click-plugins, sklearn, quantecon, quandl, pyproj, funcy, fiona, qeds, pyLDAvis, geopandas\n",
            "Successfully installed click-plugins-1.1.1 cligj-0.7.2 fiona-1.8.22 funcy-1.17 geopandas-0.10.2 inflection-0.5.1 munch-2.5.0 pyLDAvis-3.3.1 pyproj-3.2.1 qeds-0.7.0 quandl-3.7.0 quantecon-0.5.3 sklearn-0.0.post1\n"
          ]
        }
      ]
    },
    {
      "cell_type": "code",
      "source": [
        "import pandas as pd\n",
        "import numpy as np\n",
        "from tqdm import tqdm\n",
        "%matplotlib inline\n",
        "import numpy as np\n",
        "import matplotlib.pyplot as plt\n",
        "import geopandas"
      ],
      "metadata": {
        "id": "WBpdGjbquQii"
      },
      "execution_count": 2,
      "outputs": []
    },
    {
      "cell_type": "markdown",
      "source": [
        "Importa la base de datos"
      ],
      "metadata": {
        "id": "KNTIoZlGvPum"
      }
    },
    {
      "cell_type": "code",
      "source": [
        "url=\"https://raw.githubusercontent.com/marypazrf/bdd/main/target-locations.csv\"\n",
        "df=pd.read_csv(url)"
      ],
      "metadata": {
        "id": "PAJWHRVN781V"
      },
      "execution_count": 3,
      "outputs": []
    },
    {
      "cell_type": "markdown",
      "source": [
        "Exploremos los datos."
      ],
      "metadata": {
        "id": "sH4hvPAYvUGY"
      }
    },
    {
      "cell_type": "code",
      "source": [
        "\n",
        "df.head()\n"
      ],
      "metadata": {
        "colab": {
          "base_uri": "https://localhost:8080/",
          "height": 206
        },
        "id": "DuzNp7KseyBg",
        "outputId": "fcb58a46-9987-43dc-d184-257b39803f6b"
      },
      "execution_count": 4,
      "outputs": [
        {
          "output_type": "execute_result",
          "data": {
            "text/plain": [
              "        name   latitude  longitude  \\\n",
              "0  Alabaster  33.224225 -86.804174   \n",
              "1   Bessemer  33.334550 -86.989778   \n",
              "2     Daphne  30.602875 -87.895932   \n",
              "3    Decatur  34.560148 -86.971559   \n",
              "4     Dothan  31.266061 -85.446422   \n",
              "\n",
              "                                             address         phone  \\\n",
              "0        250 S Colonial Dr, Alabaster, AL 35007-4657  205-564-2608   \n",
              "1       4889 Promenade Pkwy, Bessemer, AL 35022-7305  205-565-3760   \n",
              "2          1698 US Highway 98, Daphne, AL 36526-4252  251-621-3540   \n",
              "3  1235 Point Mallard Pkwy SE, Decatur, AL 35601-...  256-898-3036   \n",
              "4         4601 Montgomery Hwy, Dothan, AL 36303-1522  334-340-1112   \n",
              "\n",
              "                                    website  \n",
              "0  https://www.target.com/sl/alabaster/2276  \n",
              "1   https://www.target.com/sl/bessemer/2375  \n",
              "2     https://www.target.com/sl/daphne/1274  \n",
              "3    https://www.target.com/sl/decatur/2084  \n",
              "4     https://www.target.com/sl/dothan/1468  "
            ],
            "text/html": [
              "\n",
              "  <div id=\"df-ad6b35bc-1602-4a1c-8690-0f961dfcdc11\">\n",
              "    <div class=\"colab-df-container\">\n",
              "      <div>\n",
              "<style scoped>\n",
              "    .dataframe tbody tr th:only-of-type {\n",
              "        vertical-align: middle;\n",
              "    }\n",
              "\n",
              "    .dataframe tbody tr th {\n",
              "        vertical-align: top;\n",
              "    }\n",
              "\n",
              "    .dataframe thead th {\n",
              "        text-align: right;\n",
              "    }\n",
              "</style>\n",
              "<table border=\"1\" class=\"dataframe\">\n",
              "  <thead>\n",
              "    <tr style=\"text-align: right;\">\n",
              "      <th></th>\n",
              "      <th>name</th>\n",
              "      <th>latitude</th>\n",
              "      <th>longitude</th>\n",
              "      <th>address</th>\n",
              "      <th>phone</th>\n",
              "      <th>website</th>\n",
              "    </tr>\n",
              "  </thead>\n",
              "  <tbody>\n",
              "    <tr>\n",
              "      <th>0</th>\n",
              "      <td>Alabaster</td>\n",
              "      <td>33.224225</td>\n",
              "      <td>-86.804174</td>\n",
              "      <td>250 S Colonial Dr, Alabaster, AL 35007-4657</td>\n",
              "      <td>205-564-2608</td>\n",
              "      <td>https://www.target.com/sl/alabaster/2276</td>\n",
              "    </tr>\n",
              "    <tr>\n",
              "      <th>1</th>\n",
              "      <td>Bessemer</td>\n",
              "      <td>33.334550</td>\n",
              "      <td>-86.989778</td>\n",
              "      <td>4889 Promenade Pkwy, Bessemer, AL 35022-7305</td>\n",
              "      <td>205-565-3760</td>\n",
              "      <td>https://www.target.com/sl/bessemer/2375</td>\n",
              "    </tr>\n",
              "    <tr>\n",
              "      <th>2</th>\n",
              "      <td>Daphne</td>\n",
              "      <td>30.602875</td>\n",
              "      <td>-87.895932</td>\n",
              "      <td>1698 US Highway 98, Daphne, AL 36526-4252</td>\n",
              "      <td>251-621-3540</td>\n",
              "      <td>https://www.target.com/sl/daphne/1274</td>\n",
              "    </tr>\n",
              "    <tr>\n",
              "      <th>3</th>\n",
              "      <td>Decatur</td>\n",
              "      <td>34.560148</td>\n",
              "      <td>-86.971559</td>\n",
              "      <td>1235 Point Mallard Pkwy SE, Decatur, AL 35601-...</td>\n",
              "      <td>256-898-3036</td>\n",
              "      <td>https://www.target.com/sl/decatur/2084</td>\n",
              "    </tr>\n",
              "    <tr>\n",
              "      <th>4</th>\n",
              "      <td>Dothan</td>\n",
              "      <td>31.266061</td>\n",
              "      <td>-85.446422</td>\n",
              "      <td>4601 Montgomery Hwy, Dothan, AL 36303-1522</td>\n",
              "      <td>334-340-1112</td>\n",
              "      <td>https://www.target.com/sl/dothan/1468</td>\n",
              "    </tr>\n",
              "  </tbody>\n",
              "</table>\n",
              "</div>\n",
              "      <button class=\"colab-df-convert\" onclick=\"convertToInteractive('df-ad6b35bc-1602-4a1c-8690-0f961dfcdc11')\"\n",
              "              title=\"Convert this dataframe to an interactive table.\"\n",
              "              style=\"display:none;\">\n",
              "        \n",
              "  <svg xmlns=\"http://www.w3.org/2000/svg\" height=\"24px\"viewBox=\"0 0 24 24\"\n",
              "       width=\"24px\">\n",
              "    <path d=\"M0 0h24v24H0V0z\" fill=\"none\"/>\n",
              "    <path d=\"M18.56 5.44l.94 2.06.94-2.06 2.06-.94-2.06-.94-.94-2.06-.94 2.06-2.06.94zm-11 1L8.5 8.5l.94-2.06 2.06-.94-2.06-.94L8.5 2.5l-.94 2.06-2.06.94zm10 10l.94 2.06.94-2.06 2.06-.94-2.06-.94-.94-2.06-.94 2.06-2.06.94z\"/><path d=\"M17.41 7.96l-1.37-1.37c-.4-.4-.92-.59-1.43-.59-.52 0-1.04.2-1.43.59L10.3 9.45l-7.72 7.72c-.78.78-.78 2.05 0 2.83L4 21.41c.39.39.9.59 1.41.59.51 0 1.02-.2 1.41-.59l7.78-7.78 2.81-2.81c.8-.78.8-2.07 0-2.86zM5.41 20L4 18.59l7.72-7.72 1.47 1.35L5.41 20z\"/>\n",
              "  </svg>\n",
              "      </button>\n",
              "      \n",
              "  <style>\n",
              "    .colab-df-container {\n",
              "      display:flex;\n",
              "      flex-wrap:wrap;\n",
              "      gap: 12px;\n",
              "    }\n",
              "\n",
              "    .colab-df-convert {\n",
              "      background-color: #E8F0FE;\n",
              "      border: none;\n",
              "      border-radius: 50%;\n",
              "      cursor: pointer;\n",
              "      display: none;\n",
              "      fill: #1967D2;\n",
              "      height: 32px;\n",
              "      padding: 0 0 0 0;\n",
              "      width: 32px;\n",
              "    }\n",
              "\n",
              "    .colab-df-convert:hover {\n",
              "      background-color: #E2EBFA;\n",
              "      box-shadow: 0px 1px 2px rgba(60, 64, 67, 0.3), 0px 1px 3px 1px rgba(60, 64, 67, 0.15);\n",
              "      fill: #174EA6;\n",
              "    }\n",
              "\n",
              "    [theme=dark] .colab-df-convert {\n",
              "      background-color: #3B4455;\n",
              "      fill: #D2E3FC;\n",
              "    }\n",
              "\n",
              "    [theme=dark] .colab-df-convert:hover {\n",
              "      background-color: #434B5C;\n",
              "      box-shadow: 0px 1px 3px 1px rgba(0, 0, 0, 0.15);\n",
              "      filter: drop-shadow(0px 1px 2px rgba(0, 0, 0, 0.3));\n",
              "      fill: #FFFFFF;\n",
              "    }\n",
              "  </style>\n",
              "\n",
              "      <script>\n",
              "        const buttonEl =\n",
              "          document.querySelector('#df-ad6b35bc-1602-4a1c-8690-0f961dfcdc11 button.colab-df-convert');\n",
              "        buttonEl.style.display =\n",
              "          google.colab.kernel.accessAllowed ? 'block' : 'none';\n",
              "\n",
              "        async function convertToInteractive(key) {\n",
              "          const element = document.querySelector('#df-ad6b35bc-1602-4a1c-8690-0f961dfcdc11');\n",
              "          const dataTable =\n",
              "            await google.colab.kernel.invokeFunction('convertToInteractive',\n",
              "                                                     [key], {});\n",
              "          if (!dataTable) return;\n",
              "\n",
              "          const docLinkHtml = 'Like what you see? Visit the ' +\n",
              "            '<a target=\"_blank\" href=https://colab.research.google.com/notebooks/data_table.ipynb>data table notebook</a>'\n",
              "            + ' to learn more about interactive tables.';\n",
              "          element.innerHTML = '';\n",
              "          dataTable['output_type'] = 'display_data';\n",
              "          await google.colab.output.renderOutput(dataTable, element);\n",
              "          const docLink = document.createElement('div');\n",
              "          docLink.innerHTML = docLinkHtml;\n",
              "          element.appendChild(docLink);\n",
              "        }\n",
              "      </script>\n",
              "    </div>\n",
              "  </div>\n",
              "  "
            ]
          },
          "metadata": {},
          "execution_count": 4
        }
      ]
    },
    {
      "cell_type": "code",
      "source": [
        "df.info()"
      ],
      "metadata": {
        "colab": {
          "base_uri": "https://localhost:8080/",
          "height": 0
        },
        "id": "MxbhdLkavl7Q",
        "outputId": "14a1a440-0fba-48dc-ad44-2379bb1edc50"
      },
      "execution_count": 5,
      "outputs": [
        {
          "output_type": "stream",
          "name": "stdout",
          "text": [
            "<class 'pandas.core.frame.DataFrame'>\n",
            "RangeIndex: 1839 entries, 0 to 1838\n",
            "Data columns (total 6 columns):\n",
            " #   Column     Non-Null Count  Dtype  \n",
            "---  ------     --------------  -----  \n",
            " 0   name       1839 non-null   object \n",
            " 1   latitude   1839 non-null   float64\n",
            " 2   longitude  1839 non-null   float64\n",
            " 3   address    1839 non-null   object \n",
            " 4   phone      1839 non-null   object \n",
            " 5   website    1839 non-null   object \n",
            "dtypes: float64(2), object(4)\n",
            "memory usage: 86.3+ KB\n"
          ]
        }
      ]
    },
    {
      "cell_type": "markdown",
      "source": [
        "**Definición de Latitud y Longitud**\n",
        "\n",
        "**Latitud** Es la distancia en grados, minutos y segundos que hay con respecto al paralelo principal, que es el ecuador (0º). La latitud puede ser norte y sur.\n",
        "\n",
        "**Longitud**: Es la distancia en grados, minutos y segundos que hay con respecto al meridiano principal, que es el meridiano de Greenwich (0º).La longitud puede ser este y oeste."
      ],
      "metadata": {
        "id": "cpfqKT4qxAZz"
      }
    },
    {
      "cell_type": "code",
      "source": [
        "latlong=df[[\"latitude\",\"longitude\"]]"
      ],
      "metadata": {
        "id": "oPzX3DGju0As"
      },
      "execution_count": 6,
      "outputs": []
    },
    {
      "cell_type": "code",
      "source": [],
      "metadata": {
        "id": "n4QKgxn4e6V0"
      },
      "execution_count": 6,
      "outputs": []
    },
    {
      "cell_type": "markdown",
      "source": [
        "¡Visualizemos los datos!, para empezar a notar algún patron. \n",
        "\n",
        "A simple vista pudieramos pensar que tenemos algunos datos atípicos u outliers, pero .... no es así, simplemente esta grafica no nos está dando toda la información."
      ],
      "metadata": {
        "id": "gMk6UVE2e67y"
      }
    },
    {
      "cell_type": "code",
      "source": [
        "#extrae los datos interesantes\n",
        "latlong.plot.scatter( \"longitude\",\"latitude\")"
      ],
      "metadata": {
        "colab": {
          "base_uri": "https://localhost:8080/",
          "height": 296
        },
        "id": "-QZRqKiDfj2J",
        "outputId": "5059393e-b1c3-4d79-b424-d215bf548623"
      },
      "execution_count": 7,
      "outputs": [
        {
          "output_type": "execute_result",
          "data": {
            "text/plain": [
              "<matplotlib.axes._subplots.AxesSubplot at 0x7f1f60944c10>"
            ]
          },
          "metadata": {},
          "execution_count": 7
        },
        {
          "output_type": "display_data",
          "data": {
            "text/plain": [
              "<Figure size 432x288 with 1 Axes>"
            ],
            "image/png": "[encoded data removed]"
          },
          "metadata": {
            "needs_background": "light"
          }
        }
      ]
    },
    {
      "cell_type": "code",
      "source": [
        "latlong.describe()"
      ],
      "metadata": {
        "colab": {
          "base_uri": "https://localhost:8080/",
          "height": 300
        },
        "id": "O6b3QguyyjM_",
        "outputId": "b5e99450-5a8b-430f-eba8-d6bac905e8d6"
      },
      "execution_count": 8,
      "outputs": [
        {
          "output_type": "execute_result",
          "data": {
            "text/plain": [
              "          latitude    longitude\n",
              "count  1839.000000  1839.000000\n",
              "mean     37.791238   -91.986881\n",
              "std       5.272299    16.108046\n",
              "min      19.647855  -159.376962\n",
              "25%      33.882605   -98.268828\n",
              "50%      38.955432   -87.746346\n",
              "75%      41.658341   -80.084833\n",
              "max      61.577919   -68.742331"
            ],
            "text/html": [
              "\n",
              "  <div id=\"df-0cd34ce1-4959-4e3a-a048-24eece5008b9\">\n",
              "    <div class=\"colab-df-container\">\n",
              "      <div>\n",
              "<style scoped>\n",
              "    .dataframe tbody tr th:only-of-type {\n",
              "        vertical-align: middle;\n",
              "    }\n",
              "\n",
              "    .dataframe tbody tr th {\n",
              "        vertical-align: top;\n",
              "    }\n",
              "\n",
              "    .dataframe thead th {\n",
              "        text-align: right;\n",
              "    }\n",
              "</style>\n",
              "<table border=\"1\" class=\"dataframe\">\n",
              "  <thead>\n",
              "    <tr style=\"text-align: right;\">\n",
              "      <th></th>\n",
              "      <th>latitude</th>\n",
              "      <th>longitude</th>\n",
              "    </tr>\n",
              "  </thead>\n",
              "  <tbody>\n",
              "    <tr>\n",
              "      <th>count</th>\n",
              "      <td>1839.000000</td>\n",
              "      <td>1839.000000</td>\n",
              "    </tr>\n",
              "    <tr>\n",
              "      <th>mean</th>\n",
              "      <td>37.791238</td>\n",
              "      <td>-91.986881</td>\n",
              "    </tr>\n",
              "    <tr>\n",
              "      <th>std</th>\n",
              "      <td>5.272299</td>\n",
              "      <td>16.108046</td>\n",
              "    </tr>\n",
              "    <tr>\n",
              "      <th>min</th>\n",
              "      <td>19.647855</td>\n",
              "      <td>-159.376962</td>\n",
              "    </tr>\n",
              "    <tr>\n",
              "      <th>25%</th>\n",
              "      <td>33.882605</td>\n",
              "      <td>-98.268828</td>\n",
              "    </tr>\n",
              "    <tr>\n",
              "      <th>50%</th>\n",
              "      <td>38.955432</td>\n",
              "      <td>-87.746346</td>\n",
              "    </tr>\n",
              "    <tr>\n",
              "      <th>75%</th>\n",
              "      <td>41.658341</td>\n",
              "      <td>-80.084833</td>\n",
              "    </tr>\n",
              "    <tr>\n",
              "      <th>max</th>\n",
              "      <td>61.577919</td>\n",
              "      <td>-68.742331</td>\n",
              "    </tr>\n",
              "  </tbody>\n",
              "</table>\n",
              "</div>\n",
              "      <button class=\"colab-df-convert\" onclick=\"convertToInteractive('df-0cd34ce1-4959-4e3a-a048-24eece5008b9')\"\n",
              "              title=\"Convert this dataframe to an interactive table.\"\n",
              "              style=\"display:none;\">\n",
              "        \n",
              "  <svg xmlns=\"http://www.w3.org/2000/svg\" height=\"24px\"viewBox=\"0 0 24 24\"\n",
              "       width=\"24px\">\n",
              "    <path d=\"M0 0h24v24H0V0z\" fill=\"none\"/>\n",
              "    <path d=\"M18.56 5.44l.94 2.06.94-2.06 2.06-.94-2.06-.94-.94-2.06-.94 2.06-2.06.94zm-11 1L8.5 8.5l.94-2.06 2.06-.94-2.06-.94L8.5 2.5l-.94 2.06-2.06.94zm10 10l.94 2.06.94-2.06 2.06-.94-2.06-.94-.94-2.06-.94 2.06-2.06.94z\"/><path d=\"M17.41 7.96l-1.37-1.37c-.4-.4-.92-.59-1.43-.59-.52 0-1.04.2-1.43.59L10.3 9.45l-7.72 7.72c-.78.78-.78 2.05 0 2.83L4 21.41c.39.39.9.59 1.41.59.51 0 1.02-.2 1.41-.59l7.78-7.78 2.81-2.81c.8-.78.8-2.07 0-2.86zM5.41 20L4 18.59l7.72-7.72 1.47 1.35L5.41 20z\"/>\n",
              "  </svg>\n",
              "      </button>\n",
              "      \n",
              "  <style>\n",
              "    .colab-df-container {\n",
              "      display:flex;\n",
              "      flex-wrap:wrap;\n",
              "      gap: 12px;\n",
              "    }\n",
              "\n",
              "    .colab-df-convert {\n",
              "      background-color: #E8F0FE;\n",
              "      border: none;\n",
              "      border-radius: 50%;\n",
              "      cursor: pointer;\n",
              "      display: none;\n",
              "      fill: #1967D2;\n",
              "      height: 32px;\n",
              "      padding: 0 0 0 0;\n",
              "      width: 32px;\n",
              "    }\n",
              "\n",
              "    .colab-df-convert:hover {\n",
              "      background-color: #E2EBFA;\n",
              "      box-shadow: 0px 1px 2px rgba(60, 64, 67, 0.3), 0px 1px 3px 1px rgba(60, 64, 67, 0.15);\n",
              "      fill: #174EA6;\n",
              "    }\n",
              "\n",
              "    [theme=dark] .colab-df-convert {\n",
              "      background-color: #3B4455;\n",
              "      fill: #D2E3FC;\n",
              "    }\n",
              "\n",
              "    [theme=dark] .colab-df-convert:hover {\n",
              "      background-color: #434B5C;\n",
              "      box-shadow: 0px 1px 3px 1px rgba(0, 0, 0, 0.15);\n",
              "      filter: drop-shadow(0px 1px 2px rgba(0, 0, 0, 0.3));\n",
              "      fill: #FFFFFF;\n",
              "    }\n",
              "  </style>\n",
              "\n",
              "      <script>\n",
              "        const buttonEl =\n",
              "          document.querySelector('#df-0cd34ce1-4959-4e3a-a048-24eece5008b9 button.colab-df-convert');\n",
              "        buttonEl.style.display =\n",
              "          google.colab.kernel.accessAllowed ? 'block' : 'none';\n",
              "\n",
              "        async function convertToInteractive(key) {\n",
              "          const element = document.querySelector('#df-0cd34ce1-4959-4e3a-a048-24eece5008b9');\n",
              "          const dataTable =\n",
              "            await google.colab.kernel.invokeFunction('convertToInteractive',\n",
              "                                                     [key], {});\n",
              "          if (!dataTable) return;\n",
              "\n",
              "          const docLinkHtml = 'Like what you see? Visit the ' +\n",
              "            '<a target=\"_blank\" href=https://colab.research.google.com/notebooks/data_table.ipynb>data table notebook</a>'\n",
              "            + ' to learn more about interactive tables.';\n",
              "          element.innerHTML = '';\n",
              "          dataTable['output_type'] = 'display_data';\n",
              "          await google.colab.output.renderOutput(dataTable, element);\n",
              "          const docLink = document.createElement('div');\n",
              "          docLink.innerHTML = docLinkHtml;\n",
              "          element.appendChild(docLink);\n",
              "        }\n",
              "      </script>\n",
              "    </div>\n",
              "  </div>\n",
              "  "
            ]
          },
          "metadata": {},
          "execution_count": 8
        }
      ]
    },
    {
      "cell_type": "markdown",
      "source": [
        "Para entender un poco más, nos auxiliaremos de una librería para graficar datos geográficos. Esto nos ayudara a tener un mejor entendimiento de ellos.\n",
        "\n",
        "\n"
      ],
      "metadata": {
        "id": "hkPMyAyIDunz"
      }
    },
    {
      "cell_type": "code",
      "source": [
        "import geopandas as gpd\n",
        "import matplotlib.pyplot as plt\n",
        "import pandas as pd\n",
        "\n",
        "from shapely.geometry import Point\n",
        "\n",
        "%matplotlib inline\n",
        "# activate plot theme\n",
        "import qeds\n",
        "qeds.themes.mpl_style();"
      ],
      "metadata": {
        "id": "_blyM4esyJTu"
      },
      "execution_count": 9,
      "outputs": []
    },
    {
      "cell_type": "code",
      "source": [
        "df[\"Coordinates\"] = list(zip(df.longitude, df.latitude))\n",
        "df[\"Coordinates\"] = df[\"Coordinates\"].apply(Point)\n",
        "df.head()"
      ],
      "metadata": {
        "colab": {
          "base_uri": "https://localhost:8080/",
          "height": 337
        },
        "id": "01i0TciKfPco",
        "outputId": "85fed3a5-1448-48b7-d97a-3dfe51be1401"
      },
      "execution_count": 10,
      "outputs": [
        {
          "output_type": "execute_result",
          "data": {
            "text/plain": [
              "        name   latitude  longitude  \\\n",
              "0  Alabaster  33.224225 -86.804174   \n",
              "1   Bessemer  33.334550 -86.989778   \n",
              "2     Daphne  30.602875 -87.895932   \n",
              "3    Decatur  34.560148 -86.971559   \n",
              "4     Dothan  31.266061 -85.446422   \n",
              "\n",
              "                                             address         phone  \\\n",
              "0        250 S Colonial Dr, Alabaster, AL 35007-4657  205-564-2608   \n",
              "1       4889 Promenade Pkwy, Bessemer, AL 35022-7305  205-565-3760   \n",
              "2          1698 US Highway 98, Daphne, AL 36526-4252  251-621-3540   \n",
              "3  1235 Point Mallard Pkwy SE, Decatur, AL 35601-...  256-898-3036   \n",
              "4         4601 Montgomery Hwy, Dothan, AL 36303-1522  334-340-1112   \n",
              "\n",
              "                                    website  \\\n",
              "0  https://www.target.com/sl/alabaster/2276   \n",
              "1   https://www.target.com/sl/bessemer/2375   \n",
              "2     https://www.target.com/sl/daphne/1274   \n",
              "3    https://www.target.com/sl/decatur/2084   \n",
              "4     https://www.target.com/sl/dothan/1468   \n",
              "\n",
              "                             Coordinates  \n",
              "0  POINT (-86.80417369999999 33.2242254)  \n",
              "1  POINT (-86.98977789999999 33.3345501)  \n",
              "2  POINT (-87.89593169999999 30.6028747)  \n",
              "3         POINT (-86.9715595 34.5601477)  \n",
              "4         POINT (-85.4464222 31.2660613)  "
            ],
            "text/html": [
              "\n",
              "  <div id=\"df-40fe0121-55d8-4a88-8cd6-4ad120789d1d\">\n",
              "    <div class=\"colab-df-container\">\n",
              "      <div>\n",
              "<style scoped>\n",
              "    .dataframe tbody tr th:only-of-type {\n",
              "        vertical-align: middle;\n",
              "    }\n",
              "\n",
              "    .dataframe tbody tr th {\n",
              "        vertical-align: top;\n",
              "    }\n",
              "\n",
              "    .dataframe thead th {\n",
              "        text-align: right;\n",
              "    }\n",
              "</style>\n",
              "<table border=\"1\" class=\"dataframe\">\n",
              "  <thead>\n",
              "    <tr style=\"text-align: right;\">\n",
              "      <th></th>\n",
              "      <th>name</th>\n",
              "      <th>latitude</th>\n",
              "      <th>longitude</th>\n",
              "      <th>address</th>\n",
              "      <th>phone</th>\n",
              "      <th>website</th>\n",
              "      <th>Coordinates</th>\n",
              "    </tr>\n",
              "  </thead>\n",
              "  <tbody>\n",
              "    <tr>\n",
              "      <th>0</th>\n",
              "      <td>Alabaster</td>\n",
              "      <td>33.224225</td>\n",
              "      <td>-86.804174</td>\n",
              "      <td>250 S Colonial Dr, Alabaster, AL 35007-4657</td>\n",
              "      <td>205-564-2608</td>\n",
              "      <td>https://www.target.com/sl/alabaster/2276</td>\n",
              "      <td>POINT (-86.80417369999999 33.2242254)</td>\n",
              "    </tr>\n",
              "    <tr>\n",
              "      <th>1</th>\n",
              "      <td>Bessemer</td>\n",
              "      <td>33.334550</td>\n",
              "      <td>-86.989778</td>\n",
              "      <td>4889 Promenade Pkwy, Bessemer, AL 35022-7305</td>\n",
              "      <td>205-565-3760</td>\n",
              "      <td>https://www.target.com/sl/bessemer/2375</td>\n",
              "      <td>POINT (-86.98977789999999 33.3345501)</td>\n",
              "    </tr>\n",
              "    <tr>\n",
              "      <th>2</th>\n",
              "      <td>Daphne</td>\n",
              "      <td>30.602875</td>\n",
              "      <td>-87.895932</td>\n",
              "      <td>1698 US Highway 98, Daphne, AL 36526-4252</td>\n",
              "      <td>251-621-3540</td>\n",
              "      <td>https://www.target.com/sl/daphne/1274</td>\n",
              "      <td>POINT (-87.89593169999999 30.6028747)</td>\n",
              "    </tr>\n",
              "    <tr>\n",
              "      <th>3</th>\n",
              "      <td>Decatur</td>\n",
              "      <td>34.560148</td>\n",
              "      <td>-86.971559</td>\n",
              "      <td>1235 Point Mallard Pkwy SE, Decatur, AL 35601-...</td>\n",
              "      <td>256-898-3036</td>\n",
              "      <td>https://www.target.com/sl/decatur/2084</td>\n",
              "      <td>POINT (-86.9715595 34.5601477)</td>\n",
              "    </tr>\n",
              "    <tr>\n",
              "      <th>4</th>\n",
              "      <td>Dothan</td>\n",
              "      <td>31.266061</td>\n",
              "      <td>-85.446422</td>\n",
              "      <td>4601 Montgomery Hwy, Dothan, AL 36303-1522</td>\n",
              "      <td>334-340-1112</td>\n",
              "      <td>https://www.target.com/sl/dothan/1468</td>\n",
              "      <td>POINT (-85.4464222 31.2660613)</td>\n",
              "    </tr>\n",
              "  </tbody>\n",
              "</table>\n",
              "</div>\n",
              "      <button class=\"colab-df-convert\" onclick=\"convertToInteractive('df-40fe0121-55d8-4a88-8cd6-4ad120789d1d')\"\n",
              "              title=\"Convert this dataframe to an interactive table.\"\n",
              "              style=\"display:none;\">\n",
              "        \n",
              "  <svg xmlns=\"http://www.w3.org/2000/svg\" height=\"24px\"viewBox=\"0 0 24 24\"\n",
              "       width=\"24px\">\n",
              "    <path d=\"M0 0h24v24H0V0z\" fill=\"none\"/>\n",
              "    <path d=\"M18.56 5.44l.94 2.06.94-2.06 2.06-.94-2.06-.94-.94-2.06-.94 2.06-2.06.94zm-11 1L8.5 8.5l.94-2.06 2.06-.94-2.06-.94L8.5 2.5l-.94 2.06-2.06.94zm10 10l.94 2.06.94-2.06 2.06-.94-2.06-.94-.94-2.06-.94 2.06-2.06.94z\"/><path d=\"M17.41 7.96l-1.37-1.37c-.4-.4-.92-.59-1.43-.59-.52 0-1.04.2-1.43.59L10.3 9.45l-7.72 7.72c-.78.78-.78 2.05 0 2.83L4 21.41c.39.39.9.59 1.41.59.51 0 1.02-.2 1.41-.59l7.78-7.78 2.81-2.81c.8-.78.8-2.07 0-2.86zM5.41 20L4 18.59l7.72-7.72 1.47 1.35L5.41 20z\"/>\n",
              "  </svg>\n",
              "      </button>\n",
              "      \n",
              "  <style>\n",
              "    .colab-df-container {\n",
              "      display:flex;\n",
              "      flex-wrap:wrap;\n",
              "      gap: 12px;\n",
              "    }\n",
              "\n",
              "    .colab-df-convert {\n",
              "      background-color: #E8F0FE;\n",
              "      border: none;\n",
              "      border-radius: 50%;\n",
              "      cursor: pointer;\n",
              "      display: none;\n",
              "      fill: #1967D2;\n",
              "      height: 32px;\n",
              "      padding: 0 0 0 0;\n",
              "      width: 32px;\n",
              "    }\n",
              "\n",
              "    .colab-df-convert:hover {\n",
              "      background-color: #E2EBFA;\n",
              "      box-shadow: 0px 1px 2px rgba(60, 64, 67, 0.3), 0px 1px 3px 1px rgba(60, 64, 67, 0.15);\n",
              "      fill: #174EA6;\n",
              "    }\n",
              "\n",
              "    [theme=dark] .colab-df-convert {\n",
              "      background-color: #3B4455;\n",
              "      fill: #D2E3FC;\n",
              "    }\n",
              "\n",
              "    [theme=dark] .colab-df-convert:hover {\n",
              "      background-color: #434B5C;\n",
              "      box-shadow: 0px 1px 3px 1px rgba(0, 0, 0, 0.15);\n",
              "      filter: drop-shadow(0px 1px 2px rgba(0, 0, 0, 0.3));\n",
              "      fill: #FFFFFF;\n",
              "    }\n",
              "  </style>\n",
              "\n",
              "      <script>\n",
              "        const buttonEl =\n",
              "          document.querySelector('#df-40fe0121-55d8-4a88-8cd6-4ad120789d1d button.colab-df-convert');\n",
              "        buttonEl.style.display =\n",
              "          google.colab.kernel.accessAllowed ? 'block' : 'none';\n",
              "\n",
              "        async function convertToInteractive(key) {\n",
              "          const element = document.querySelector('#df-40fe0121-55d8-4a88-8cd6-4ad120789d1d');\n",
              "          const dataTable =\n",
              "            await google.colab.kernel.invokeFunction('convertToInteractive',\n",
              "                                                     [key], {});\n",
              "          if (!dataTable) return;\n",
              "\n",
              "          const docLinkHtml = 'Like what you see? Visit the ' +\n",
              "            '<a target=\"_blank\" href=https://colab.research.google.com/notebooks/data_table.ipynb>data table notebook</a>'\n",
              "            + ' to learn more about interactive tables.';\n",
              "          element.innerHTML = '';\n",
              "          dataTable['output_type'] = 'display_data';\n",
              "          await google.colab.output.renderOutput(dataTable, element);\n",
              "          const docLink = document.createElement('div');\n",
              "          docLink.innerHTML = docLinkHtml;\n",
              "          element.appendChild(docLink);\n",
              "        }\n",
              "      </script>\n",
              "    </div>\n",
              "  </div>\n",
              "  "
            ]
          },
          "metadata": {},
          "execution_count": 10
        }
      ]
    },
    {
      "cell_type": "code",
      "source": [
        "gdf = gpd.GeoDataFrame(df, geometry=\"Coordinates\")\n",
        "gdf.head()"
      ],
      "metadata": {
        "colab": {
          "base_uri": "https://localhost:8080/",
          "height": 206
        },
        "id": "SBTBrsvlfIU_",
        "outputId": "7c77abb6-f4b5-481d-ef08-a558e63d4051"
      },
      "execution_count": 11,
      "outputs": [
        {
          "output_type": "execute_result",
          "data": {
            "text/plain": [
              "        name   latitude  longitude  \\\n",
              "0  Alabaster  33.224225 -86.804174   \n",
              "1   Bessemer  33.334550 -86.989778   \n",
              "2     Daphne  30.602875 -87.895932   \n",
              "3    Decatur  34.560148 -86.971559   \n",
              "4     Dothan  31.266061 -85.446422   \n",
              "\n",
              "                                             address         phone  \\\n",
              "0        250 S Colonial Dr, Alabaster, AL 35007-4657  205-564-2608   \n",
              "1       4889 Promenade Pkwy, Bessemer, AL 35022-7305  205-565-3760   \n",
              "2          1698 US Highway 98, Daphne, AL 36526-4252  251-621-3540   \n",
              "3  1235 Point Mallard Pkwy SE, Decatur, AL 35601-...  256-898-3036   \n",
              "4         4601 Montgomery Hwy, Dothan, AL 36303-1522  334-340-1112   \n",
              "\n",
              "                                    website                 Coordinates  \n",
              "0  https://www.target.com/sl/alabaster/2276  POINT (-86.80417 33.22423)  \n",
              "1   https://www.target.com/sl/bessemer/2375  POINT (-86.98978 33.33455)  \n",
              "2     https://www.target.com/sl/daphne/1274  POINT (-87.89593 30.60287)  \n",
              "3    https://www.target.com/sl/decatur/2084  POINT (-86.97156 34.56015)  \n",
              "4     https://www.target.com/sl/dothan/1468  POINT (-85.44642 31.26606)  "
            ],
            "text/html": [
              "\n",
              "  <div id=\"df-926d4a87-fd2b-4c69-b2e6-e84e26a75882\">\n",
              "    <div class=\"colab-df-container\">\n",
              "      <div>\n",
              "<style scoped>\n",
              "    .dataframe tbody tr th:only-of-type {\n",
              "        vertical-align: middle;\n",
              "    }\n",
              "\n",
              "    .dataframe tbody tr th {\n",
              "        vertical-align: top;\n",
              "    }\n",
              "\n",
              "    .dataframe thead th {\n",
              "        text-align: right;\n",
              "    }\n",
              "</style>\n",
              "<table border=\"1\" class=\"dataframe\">\n",
              "  <thead>\n",
              "    <tr style=\"text-align: right;\">\n",
              "      <th></th>\n",
              "      <th>name</th>\n",
              "      <th>latitude</th>\n",
              "      <th>longitude</th>\n",
              "      <th>address</th>\n",
              "      <th>phone</th>\n",
              "      <th>website</th>\n",
              "      <th>Coordinates</th>\n",
              "    </tr>\n",
              "  </thead>\n",
              "  <tbody>\n",
              "    <tr>\n",
              "      <th>0</th>\n",
              "      <td>Alabaster</td>\n",
              "      <td>33.224225</td>\n",
              "      <td>-86.804174</td>\n",
              "      <td>250 S Colonial Dr, Alabaster, AL 35007-4657</td>\n",
              "      <td>205-564-2608</td>\n",
              "      <td>https://www.target.com/sl/alabaster/2276</td>\n",
              "      <td>POINT (-86.80417 33.22423)</td>\n",
              "    </tr>\n",
              "    <tr>\n",
              "      <th>1</th>\n",
              "      <td>Bessemer</td>\n",
              "      <td>33.334550</td>\n",
              "      <td>-86.989778</td>\n",
              "      <td>4889 Promenade Pkwy, Bessemer, AL 35022-7305</td>\n",
              "      <td>205-565-3760</td>\n",
              "      <td>https://www.target.com/sl/bessemer/2375</td>\n",
              "      <td>POINT (-86.98978 33.33455)</td>\n",
              "    </tr>\n",
              "    <tr>\n",
              "      <th>2</th>\n",
              "      <td>Daphne</td>\n",
              "      <td>30.602875</td>\n",
              "      <td>-87.895932</td>\n",
              "      <td>1698 US Highway 98, Daphne, AL 36526-4252</td>\n",
              "      <td>251-621-3540</td>\n",
              "      <td>https://www.target.com/sl/daphne/1274</td>\n",
              "      <td>POINT (-87.89593 30.60287)</td>\n",
              "    </tr>\n",
              "    <tr>\n",
              "      <th>3</th>\n",
              "      <td>Decatur</td>\n",
              "      <td>34.560148</td>\n",
              "      <td>-86.971559</td>\n",
              "      <td>1235 Point Mallard Pkwy SE, Decatur, AL 35601-...</td>\n",
              "      <td>256-898-3036</td>\n",
              "      <td>https://www.target.com/sl/decatur/2084</td>\n",
              "      <td>POINT (-86.97156 34.56015)</td>\n",
              "    </tr>\n",
              "    <tr>\n",
              "      <th>4</th>\n",
              "      <td>Dothan</td>\n",
              "      <td>31.266061</td>\n",
              "      <td>-85.446422</td>\n",
              "      <td>4601 Montgomery Hwy, Dothan, AL 36303-1522</td>\n",
              "      <td>334-340-1112</td>\n",
              "      <td>https://www.target.com/sl/dothan/1468</td>\n",
              "      <td>POINT (-85.44642 31.26606)</td>\n",
              "    </tr>\n",
              "  </tbody>\n",
              "</table>\n",
              "</div>\n",
              "      <button class=\"colab-df-convert\" onclick=\"convertToInteractive('df-926d4a87-fd2b-4c69-b2e6-e84e26a75882')\"\n",
              "              title=\"Convert this dataframe to an interactive table.\"\n",
              "              style=\"display:none;\">\n",
              "        \n",
              "  <svg xmlns=\"http://www.w3.org/2000/svg\" height=\"24px\"viewBox=\"0 0 24 24\"\n",
              "       width=\"24px\">\n",
              "    <path d=\"M0 0h24v24H0V0z\" fill=\"none\"/>\n",
              "    <path d=\"M18.56 5.44l.94 2.06.94-2.06 2.06-.94-2.06-.94-.94-2.06-.94 2.06-2.06.94zm-11 1L8.5 8.5l.94-2.06 2.06-.94-2.06-.94L8.5 2.5l-.94 2.06-2.06.94zm10 10l.94 2.06.94-2.06 2.06-.94-2.06-.94-.94-2.06-.94 2.06-2.06.94z\"/><path d=\"M17.41 7.96l-1.37-1.37c-.4-.4-.92-.59-1.43-.59-.52 0-1.04.2-1.43.59L10.3 9.45l-7.72 7.72c-.78.78-.78 2.05 0 2.83L4 21.41c.39.39.9.59 1.41.59.51 0 1.02-.2 1.41-.59l7.78-7.78 2.81-2.81c.8-.78.8-2.07 0-2.86zM5.41 20L4 18.59l7.72-7.72 1.47 1.35L5.41 20z\"/>\n",
              "  </svg>\n",
              "      </button>\n",
              "      \n",
              "  <style>\n",
              "    .colab-df-container {\n",
              "      display:flex;\n",
              "      flex-wrap:wrap;\n",
              "      gap: 12px;\n",
              "    }\n",
              "\n",
              "    .colab-df-convert {\n",
              "      background-color: #E8F0FE;\n",
              "      border: none;\n",
              "      border-radius: 50%;\n",
              "      cursor: pointer;\n",
              "      display: none;\n",
              "      fill: #1967D2;\n",
              "      height: 32px;\n",
              "      padding: 0 0 0 0;\n",
              "      width: 32px;\n",
              "    }\n",
              "\n",
              "    .colab-df-convert:hover {\n",
              "      background-color: #E2EBFA;\n",
              "      box-shadow: 0px 1px 2px rgba(60, 64, 67, 0.3), 0px 1px 3px 1px rgba(60, 64, 67, 0.15);\n",
              "      fill: #174EA6;\n",
              "    }\n",
              "\n",
              "    [theme=dark] .colab-df-convert {\n",
              "      background-color: #3B4455;\n",
              "      fill: #D2E3FC;\n",
              "    }\n",
              "\n",
              "    [theme=dark] .colab-df-convert:hover {\n",
              "      background-color: #434B5C;\n",
              "      box-shadow: 0px 1px 3px 1px rgba(0, 0, 0, 0.15);\n",
              "      filter: drop-shadow(0px 1px 2px rgba(0, 0, 0, 0.3));\n",
              "      fill: #FFFFFF;\n",
              "    }\n",
              "  </style>\n",
              "\n",
              "      <script>\n",
              "        const buttonEl =\n",
              "          document.querySelector('#df-926d4a87-fd2b-4c69-b2e6-e84e26a75882 button.colab-df-convert');\n",
              "        buttonEl.style.display =\n",
              "          google.colab.kernel.accessAllowed ? 'block' : 'none';\n",
              "\n",
              "        async function convertToInteractive(key) {\n",
              "          const element = document.querySelector('#df-926d4a87-fd2b-4c69-b2e6-e84e26a75882');\n",
              "          const dataTable =\n",
              "            await google.colab.kernel.invokeFunction('convertToInteractive',\n",
              "                                                     [key], {});\n",
              "          if (!dataTable) return;\n",
              "\n",
              "          const docLinkHtml = 'Like what you see? Visit the ' +\n",
              "            '<a target=\"_blank\" href=https://colab.research.google.com/notebooks/data_table.ipynb>data table notebook</a>'\n",
              "            + ' to learn more about interactive tables.';\n",
              "          element.innerHTML = '';\n",
              "          dataTable['output_type'] = 'display_data';\n",
              "          await google.colab.output.renderOutput(dataTable, element);\n",
              "          const docLink = document.createElement('div');\n",
              "          docLink.innerHTML = docLinkHtml;\n",
              "          element.appendChild(docLink);\n",
              "        }\n",
              "      </script>\n",
              "    </div>\n",
              "  </div>\n",
              "  "
            ]
          },
          "metadata": {},
          "execution_count": 11
        }
      ]
    },
    {
      "cell_type": "code",
      "source": [
        "#mapa\n",
        "\n",
        "world = gpd.read_file(gpd.datasets.get_path(\"naturalearth_lowres\"))\n",
        "world = world.set_index(\"iso_a3\")\n",
        "\n",
        "world.head()"
      ],
      "metadata": {
        "colab": {
          "base_uri": "https://localhost:8080/",
          "height": 237
        },
        "id": "wB6Jkrvbfef1",
        "outputId": "7413b558-b9b0-44b6-e3bc-25c7f11a9799"
      },
      "execution_count": 12,
      "outputs": [
        {
          "output_type": "execute_result",
          "data": {
            "text/plain": [
              "          pop_est      continent                      name  gdp_md_est  \\\n",
              "iso_a3                                                                   \n",
              "FJI        920938        Oceania                      Fiji      8374.0   \n",
              "TZA      53950935         Africa                  Tanzania    150600.0   \n",
              "ESH        603253         Africa                 W. Sahara       906.5   \n",
              "CAN      35623680  North America                    Canada   1674000.0   \n",
              "USA     326625791  North America  United States of America  18560000.0   \n",
              "\n",
              "                                                 geometry  \n",
              "iso_a3                                                     \n",
              "FJI     MULTIPOLYGON (((180.00000 -16.06713, 180.00000...  \n",
              "TZA     POLYGON ((33.90371 -0.95000, 34.07262 -1.05982...  \n",
              "ESH     POLYGON ((-8.66559 27.65643, -8.66512 27.58948...  \n",
              "CAN     MULTIPOLYGON (((-122.84000 49.00000, -122.9742...  \n",
              "USA     MULTIPOLYGON (((-122.84000 49.00000, -120.0000...  "
            ],
            "text/html": [
              "\n",
              "  <div id=\"df-b9691673-7555-4fe4-ab9a-617768260a88\">\n",
              "    <div class=\"colab-df-container\">\n",
              "      <div>\n",
              "<style scoped>\n",
              "    .dataframe tbody tr th:only-of-type {\n",
              "        vertical-align: middle;\n",
              "    }\n",
              "\n",
              "    .dataframe tbody tr th {\n",
              "        vertical-align: top;\n",
              "    }\n",
              "\n",
              "    .dataframe thead th {\n",
              "        text-align: right;\n",
              "    }\n",
              "</style>\n",
              "<table border=\"1\" class=\"dataframe\">\n",
              "  <thead>\n",
              "    <tr style=\"text-align: right;\">\n",
              "      <th></th>\n",
              "      <th>pop_est</th>\n",
              "      <th>continent</th>\n",
              "      <th>name</th>\n",
              "      <th>gdp_md_est</th>\n",
              "      <th>geometry</th>\n",
              "    </tr>\n",
              "    <tr>\n",
              "      <th>iso_a3</th>\n",
              "      <th></th>\n",
              "      <th></th>\n",
              "      <th></th>\n",
              "      <th></th>\n",
              "      <th></th>\n",
              "    </tr>\n",
              "  </thead>\n",
              "  <tbody>\n",
              "    <tr>\n",
              "      <th>FJI</th>\n",
              "      <td>920938</td>\n",
              "      <td>Oceania</td>\n",
              "      <td>Fiji</td>\n",
              "      <td>8374.0</td>\n",
              "      <td>MULTIPOLYGON (((180.00000 -16.06713, 180.00000...</td>\n",
              "    </tr>\n",
              "    <tr>\n",
              "      <th>TZA</th>\n",
              "      <td>53950935</td>\n",
              "      <td>Africa</td>\n",
              "      <td>Tanzania</td>\n",
              "      <td>150600.0</td>\n",
              "      <td>POLYGON ((33.90371 -0.95000, 34.07262 -1.05982...</td>\n",
              "    </tr>\n",
              "    <tr>\n",
              "      <th>ESH</th>\n",
              "      <td>603253</td>\n",
              "      <td>Africa</td>\n",
              "      <td>W. Sahara</td>\n",
              "      <td>906.5</td>\n",
              "      <td>POLYGON ((-8.66559 27.65643, -8.66512 27.58948...</td>\n",
              "    </tr>\n",
              "    <tr>\n",
              "      <th>CAN</th>\n",
              "      <td>35623680</td>\n",
              "      <td>North America</td>\n",
              "      <td>Canada</td>\n",
              "      <td>1674000.0</td>\n",
              "      <td>MULTIPOLYGON (((-122.84000 49.00000, -122.9742...</td>\n",
              "    </tr>\n",
              "    <tr>\n",
              "      <th>USA</th>\n",
              "      <td>326625791</td>\n",
              "      <td>North America</td>\n",
              "      <td>United States of America</td>\n",
              "      <td>18560000.0</td>\n",
              "      <td>MULTIPOLYGON (((-122.84000 49.00000, -120.0000...</td>\n",
              "    </tr>\n",
              "  </tbody>\n",
              "</table>\n",
              "</div>\n",
              "      <button class=\"colab-df-convert\" onclick=\"convertToInteractive('df-b9691673-7555-4fe4-ab9a-617768260a88')\"\n",
              "              title=\"Convert this dataframe to an interactive table.\"\n",
              "              style=\"display:none;\">\n",
              "        \n",
              "  <svg xmlns=\"http://www.w3.org/2000/svg\" height=\"24px\"viewBox=\"0 0 24 24\"\n",
              "       width=\"24px\">\n",
              "    <path d=\"M0 0h24v24H0V0z\" fill=\"none\"/>\n",
              "    <path d=\"M18.56 5.44l.94 2.06.94-2.06 2.06-.94-2.06-.94-.94-2.06-.94 2.06-2.06.94zm-11 1L8.5 8.5l.94-2.06 2.06-.94-2.06-.94L8.5 2.5l-.94 2.06-2.06.94zm10 10l.94 2.06.94-2.06 2.06-.94-2.06-.94-.94-2.06-.94 2.06-2.06.94z\"/><path d=\"M17.41 7.96l-1.37-1.37c-.4-.4-.92-.59-1.43-.59-.52 0-1.04.2-1.43.59L10.3 9.45l-7.72 7.72c-.78.78-.78 2.05 0 2.83L4 21.41c.39.39.9.59 1.41.59.51 0 1.02-.2 1.41-.59l7.78-7.78 2.81-2.81c.8-.78.8-2.07 0-2.86zM5.41 20L4 18.59l7.72-7.72 1.47 1.35L5.41 20z\"/>\n",
              "  </svg>\n",
              "      </button>\n",
              "      \n",
              "  <style>\n",
              "    .colab-df-container {\n",
              "      display:flex;\n",
              "      flex-wrap:wrap;\n",
              "      gap: 12px;\n",
              "    }\n",
              "\n",
              "    .colab-df-convert {\n",
              "      background-color: #E8F0FE;\n",
              "      border: none;\n",
              "      border-radius: 50%;\n",
              "      cursor: pointer;\n",
              "      display: none;\n",
              "      fill: #1967D2;\n",
              "      height: 32px;\n",
              "      padding: 0 0 0 0;\n",
              "      width: 32px;\n",
              "    }\n",
              "\n",
              "    .colab-df-convert:hover {\n",
              "      background-color: #E2EBFA;\n",
              "      box-shadow: 0px 1px 2px rgba(60, 64, 67, 0.3), 0px 1px 3px 1px rgba(60, 64, 67, 0.15);\n",
              "      fill: #174EA6;\n",
              "    }\n",
              "\n",
              "    [theme=dark] .colab-df-convert {\n",
              "      background-color: #3B4455;\n",
              "      fill: #D2E3FC;\n",
              "    }\n",
              "\n",
              "    [theme=dark] .colab-df-convert:hover {\n",
              "      background-color: #434B5C;\n",
              "      box-shadow: 0px 1px 3px 1px rgba(0, 0, 0, 0.15);\n",
              "      filter: drop-shadow(0px 1px 2px rgba(0, 0, 0, 0.3));\n",
              "      fill: #FFFFFF;\n",
              "    }\n",
              "  </style>\n",
              "\n",
              "      <script>\n",
              "        const buttonEl =\n",
              "          document.querySelector('#df-b9691673-7555-4fe4-ab9a-617768260a88 button.colab-df-convert');\n",
              "        buttonEl.style.display =\n",
              "          google.colab.kernel.accessAllowed ? 'block' : 'none';\n",
              "\n",
              "        async function convertToInteractive(key) {\n",
              "          const element = document.querySelector('#df-b9691673-7555-4fe4-ab9a-617768260a88');\n",
              "          const dataTable =\n",
              "            await google.colab.kernel.invokeFunction('convertToInteractive',\n",
              "                                                     [key], {});\n",
              "          if (!dataTable) return;\n",
              "\n",
              "          const docLinkHtml = 'Like what you see? Visit the ' +\n",
              "            '<a target=\"_blank\" href=https://colab.research.google.com/notebooks/data_table.ipynb>data table notebook</a>'\n",
              "            + ' to learn more about interactive tables.';\n",
              "          element.innerHTML = '';\n",
              "          dataTable['output_type'] = 'display_data';\n",
              "          await google.colab.output.renderOutput(dataTable, element);\n",
              "          const docLink = document.createElement('div');\n",
              "          docLink.innerHTML = docLinkHtml;\n",
              "          element.appendChild(docLink);\n",
              "        }\n",
              "      </script>\n",
              "    </div>\n",
              "  </div>\n",
              "  "
            ]
          },
          "metadata": {},
          "execution_count": 12
        }
      ]
    },
    {
      "cell_type": "code",
      "source": [
        "#graficar el mapa\n",
        "world.name.unique()"
      ],
      "metadata": {
        "colab": {
          "base_uri": "https://localhost:8080/",
          "height": 0
        },
        "id": "0qkBCMSUflw_",
        "outputId": "de280587-9ab3-42d0-a72c-03e2c2b229d6"
      },
      "execution_count": 13,
      "outputs": [
        {
          "output_type": "execute_result",
          "data": {
            "text/plain": [
              "array(['Fiji', 'Tanzania', 'W. Sahara', 'Canada',\n",
              "       'United States of America', 'Kazakhstan', 'Uzbekistan',\n",
              "       'Papua New Guinea', 'Indonesia', 'Argentina', 'Chile',\n",
              "       'Dem. Rep. Congo', 'Somalia', 'Kenya', 'Sudan', 'Chad', 'Haiti',\n",
              "       'Dominican Rep.', 'Russia', 'Bahamas', 'Falkland Is.', 'Norway',\n",
              "       'Greenland', 'Fr. S. Antarctic Lands', 'Timor-Leste',\n",
              "       'South Africa', 'Lesotho', 'Mexico', 'Uruguay', 'Brazil',\n",
              "       'Bolivia', 'Peru', 'Colombia', 'Panama', 'Costa Rica', 'Nicaragua',\n",
              "       'Honduras', 'El Salvador', 'Guatemala', 'Belize', 'Venezuela',\n",
              "       'Guyana', 'Suriname', 'France', 'Ecuador', 'Puerto Rico',\n",
              "       'Jamaica', 'Cuba', 'Zimbabwe', 'Botswana', 'Namibia', 'Senegal',\n",
              "       'Mali', 'Mauritania', 'Benin', 'Niger', 'Nigeria', 'Cameroon',\n",
              "       'Togo', 'Ghana', \"Côte d'Ivoire\", 'Guinea', 'Guinea-Bissau',\n",
              "       'Liberia', 'Sierra Leone', 'Burkina Faso', 'Central African Rep.',\n",
              "       'Congo', 'Gabon', 'Eq. Guinea', 'Zambia', 'Malawi', 'Mozambique',\n",
              "       'eSwatini', 'Angola', 'Burundi', 'Israel', 'Lebanon', 'Madagascar',\n",
              "       'Palestine', 'Gambia', 'Tunisia', 'Algeria', 'Jordan',\n",
              "       'United Arab Emirates', 'Qatar', 'Kuwait', 'Iraq', 'Oman',\n",
              "       'Vanuatu', 'Cambodia', 'Thailand', 'Laos', 'Myanmar', 'Vietnam',\n",
              "       'North Korea', 'South Korea', 'Mongolia', 'India', 'Bangladesh',\n",
              "       'Bhutan', 'Nepal', 'Pakistan', 'Afghanistan', 'Tajikistan',\n",
              "       'Kyrgyzstan', 'Turkmenistan', 'Iran', 'Syria', 'Armenia', 'Sweden',\n",
              "       'Belarus', 'Ukraine', 'Poland', 'Austria', 'Hungary', 'Moldova',\n",
              "       'Romania', 'Lithuania', 'Latvia', 'Estonia', 'Germany', 'Bulgaria',\n",
              "       'Greece', 'Turkey', 'Albania', 'Croatia', 'Switzerland',\n",
              "       'Luxembourg', 'Belgium', 'Netherlands', 'Portugal', 'Spain',\n",
              "       'Ireland', 'New Caledonia', 'Solomon Is.', 'New Zealand',\n",
              "       'Australia', 'Sri Lanka', 'China', 'Taiwan', 'Italy', 'Denmark',\n",
              "       'United Kingdom', 'Iceland', 'Azerbaijan', 'Georgia',\n",
              "       'Philippines', 'Malaysia', 'Brunei', 'Slovenia', 'Finland',\n",
              "       'Slovakia', 'Czechia', 'Eritrea', 'Japan', 'Paraguay', 'Yemen',\n",
              "       'Saudi Arabia', 'Antarctica', 'N. Cyprus', 'Cyprus', 'Morocco',\n",
              "       'Egypt', 'Libya', 'Ethiopia', 'Djibouti', 'Somaliland', 'Uganda',\n",
              "       'Rwanda', 'Bosnia and Herz.', 'Macedonia', 'Serbia', 'Montenegro',\n",
              "       'Kosovo', 'Trinidad and Tobago', 'S. Sudan'], dtype=object)"
            ]
          },
          "metadata": {},
          "execution_count": 13
        }
      ]
    },
    {
      "cell_type": "code",
      "source": [
        "fig, gax = plt.subplots(figsize=(10,10))\n",
        "\n",
        "# By only plotting rows in which the continent is 'South America' we only plot SA.\n",
        "world.query(\"name == 'United States of America'\").plot(ax=gax, edgecolor='black',color='white')\n",
        "\n",
        "# By the way, if you haven't read the book 'longitude' by Dava Sobel, you should...\n",
        "gax.set_xlabel('longitude')\n",
        "gax.set_ylabel('latitude')\n",
        "\n",
        "gax.spines['top'].set_visible(False)\n",
        "gax.spines['right'].set_visible(False)"
      ],
      "metadata": {
        "colab": {
          "base_uri": "https://localhost:8080/",
          "height": 476
        },
        "id": "swDogh7dfusl",
        "outputId": "8fbf99e2-067e-4c04-8c4c-48439621aa12"
      },
      "execution_count": 14,
      "outputs": [
        {
          "output_type": "display_data",
          "data": {
            "text/plain": [
              "<Figure size 720x720 with 1 Axes>"
            ],
            "image/png": "[encoded data removed]"
          },
          "metadata": {}
        }
      ]
    },
    {
      "cell_type": "code",
      "source": [
        "# Step 3: Plot the cities onto the map\n",
        "# We mostly use the code from before --- we still want the country borders plotted --- and we\n",
        "# add a command to plot the cities\n",
        "fig, gax = plt.subplots(figsize=(10,10))\n",
        "\n",
        "# By only plotting rows in which the continent is 'South America' we only plot, well,\n",
        "# South America.\n",
        "world.query(\"name == 'United States of America'\").plot(ax = gax, edgecolor='black', color='white')\n",
        "\n",
        "# This plot the cities. It's the same syntax, but we are plotting from a different GeoDataFrame.\n",
        "# I want the cities as pale red dots.\n",
        "gdf.plot(ax=gax, color='red', alpha = 0.5)\n",
        "\n",
        "gax.set_xlabel('longitude')\n",
        "gax.set_ylabel('latitude')\n",
        "gax.set_title('Target en Estados Unidos')\n",
        "\n",
        "gax.spines['top'].set_visible(False)\n",
        "gax.spines['right'].set_visible(False)\n",
        "\n",
        "plt.show()"
      ],
      "metadata": {
        "colab": {
          "base_uri": "https://localhost:8080/",
          "height": 381
        },
        "id": "OR0ydTOvf_Xp",
        "outputId": "4c37a164-764c-4d38-aa8b-b2cf72ff4d6d"
      },
      "execution_count": 15,
      "outputs": [
        {
          "output_type": "display_data",
          "data": {
            "text/plain": [
              "<Figure size 720x720 with 1 Axes>"
            ],
            "image/png": "[encoded data removed]"
          },
          "metadata": {}
        }
      ]
    },
    {
      "cell_type": "markdown",
      "source": [
        "¿qué tal ahora?, tiene mayor sentido verdad, entonces los datos lejanos no eran atípicos, de aquí la importancia de ver los datos con el tipo de gráfica correcta.\n",
        "\n",
        "Ahora sí, implementa K means a los datos de latitud y longitud :) y encuentra donde colocar los almacenes. \n",
        "\n",
        "Nota: si te llama la atención implementar alguna otra visualización con otra librería, lo puedes hacer, no hay restricciones."
      ],
      "metadata": {
        "id": "SMkonhsqfgSf"
      }
    },
    {
      "cell_type": "code",
      "source": [
        "#tu codigo aquí"
      ],
      "metadata": {
        "id": "IfXq2ieSgD2e"
      },
      "execution_count": 16,
      "outputs": []
    },
    {
      "cell_type": "code",
      "source": [
        "from sklearn.cluster import KMeans\n",
        "\n",
        "K_clusters = range(1,20)\n",
        "kmeans = [KMeans(n_clusters=i) for i in K_clusters]\n",
        "\n",
        "Y_axis = latlong[['latitude']]\n",
        "X_axis = latlong[['longitude']]\n",
        "score = [kmeans[i].fit(Y_axis).score(Y_axis) for i in range(len(kmeans))]\n",
        "\n",
        "plt.plot(K_clusters, score)\n",
        "plt.xlabel('Número de Clusters')\n",
        "plt.ylabel('Score')\n",
        "plt.title('Elbow Curve')\n",
        "plt.show()"
      ],
      "metadata": {
        "colab": {
          "base_uri": "https://localhost:8080/",
          "height": 319
        },
        "id": "PRSzN2mEKXl6",
        "outputId": "87110d06-53fc-44c1-cc80-0b8d95e27596"
      },
      "execution_count": 44,
      "outputs": [
        {
          "output_type": "display_data",
          "data": {
            "text/plain": [
              "<Figure size 432x288 with 1 Axes>"
            ],
            "image/png": "[encoded data removed]"
          },
          "metadata": {}
        }
      ]
    },
    {
      "cell_type": "markdown",
      "source": [
        "**Coordenadas halladas:**"
      ],
      "metadata": {
        "id": "6e_Q58lmNJBw"
      }
    },
    {
      "cell_type": "code",
      "source": [
        "X = df[[\"longitude\",\"latitude\"]]\n",
        "X"
      ],
      "metadata": {
        "colab": {
          "base_uri": "https://localhost:8080/",
          "height": 423
        },
        "id": "5ypj3IpzNM_2",
        "outputId": "d27bc366-c4fb-4bdf-ea9a-ca6d75920c3a"
      },
      "execution_count": 43,
      "outputs": [
        {
          "output_type": "execute_result",
          "data": {
            "text/plain": [
              "       longitude   latitude\n",
              "0     -86.804174  33.224225\n",
              "1     -86.989778  33.334550\n",
              "2     -87.895932  30.602875\n",
              "3     -86.971559  34.560148\n",
              "4     -85.446422  31.266061\n",
              "...          ...        ...\n",
              "1834  -88.176840  43.034293\n",
              "1835  -88.259806  42.989604\n",
              "1836 -106.264166  42.846799\n",
              "1837 -104.800048  41.162019\n",
              "1838 -110.789456  43.469617\n",
              "\n",
              "[1839 rows x 2 columns]"
            ],
            "text/html": [
              "\n",
              "  <div id=\"df-6b79bdb0-9622-4a14-850e-ab64066d185f\">\n",
              "    <div class=\"colab-df-container\">\n",
              "      <div>\n",
              "<style scoped>\n",
              "    .dataframe tbody tr th:only-of-type {\n",
              "        vertical-align: middle;\n",
              "    }\n",
              "\n",
              "    .dataframe tbody tr th {\n",
              "        vertical-align: top;\n",
              "    }\n",
              "\n",
              "    .dataframe thead th {\n",
              "        text-align: right;\n",
              "    }\n",
              "</style>\n",
              "<table border=\"1\" class=\"dataframe\">\n",
              "  <thead>\n",
              "    <tr style=\"text-align: right;\">\n",
              "      <th></th>\n",
              "      <th>longitude</th>\n",
              "      <th>latitude</th>\n",
              "    </tr>\n",
              "  </thead>\n",
              "  <tbody>\n",
              "    <tr>\n",
              "      <th>0</th>\n",
              "      <td>-86.804174</td>\n",
              "      <td>33.224225</td>\n",
              "    </tr>\n",
              "    <tr>\n",
              "      <th>1</th>\n",
              "      <td>-86.989778</td>\n",
              "      <td>33.334550</td>\n",
              "    </tr>\n",
              "    <tr>\n",
              "      <th>2</th>\n",
              "      <td>-87.895932</td>\n",
              "      <td>30.602875</td>\n",
              "    </tr>\n",
              "    <tr>\n",
              "      <th>3</th>\n",
              "      <td>-86.971559</td>\n",
              "      <td>34.560148</td>\n",
              "    </tr>\n",
              "    <tr>\n",
              "      <th>4</th>\n",
              "      <td>-85.446422</td>\n",
              "      <td>31.266061</td>\n",
              "    </tr>\n",
              "    <tr>\n",
              "      <th>...</th>\n",
              "      <td>...</td>\n",
              "      <td>...</td>\n",
              "    </tr>\n",
              "    <tr>\n",
              "      <th>1834</th>\n",
              "      <td>-88.176840</td>\n",
              "      <td>43.034293</td>\n",
              "    </tr>\n",
              "    <tr>\n",
              "      <th>1835</th>\n",
              "      <td>-88.259806</td>\n",
              "      <td>42.989604</td>\n",
              "    </tr>\n",
              "    <tr>\n",
              "      <th>1836</th>\n",
              "      <td>-106.264166</td>\n",
              "      <td>42.846799</td>\n",
              "    </tr>\n",
              "    <tr>\n",
              "      <th>1837</th>\n",
              "      <td>-104.800048</td>\n",
              "      <td>41.162019</td>\n",
              "    </tr>\n",
              "    <tr>\n",
              "      <th>1838</th>\n",
              "      <td>-110.789456</td>\n",
              "      <td>43.469617</td>\n",
              "    </tr>\n",
              "  </tbody>\n",
              "</table>\n",
              "<p>1839 rows × 2 columns</p>\n",
              "</div>\n",
              "      <button class=\"colab-df-convert\" onclick=\"convertToInteractive('df-6b79bdb0-9622-4a14-850e-ab64066d185f')\"\n",
              "              title=\"Convert this dataframe to an interactive table.\"\n",
              "              style=\"display:none;\">\n",
              "        \n",
              "  <svg xmlns=\"http://www.w3.org/2000/svg\" height=\"24px\"viewBox=\"0 0 24 24\"\n",
              "       width=\"24px\">\n",
              "    <path d=\"M0 0h24v24H0V0z\" fill=\"none\"/>\n",
              "    <path d=\"M18.56 5.44l.94 2.06.94-2.06 2.06-.94-2.06-.94-.94-2.06-.94 2.06-2.06.94zm-11 1L8.5 8.5l.94-2.06 2.06-.94-2.06-.94L8.5 2.5l-.94 2.06-2.06.94zm10 10l.94 2.06.94-2.06 2.06-.94-2.06-.94-.94-2.06-.94 2.06-2.06.94z\"/><path d=\"M17.41 7.96l-1.37-1.37c-.4-.4-.92-.59-1.43-.59-.52 0-1.04.2-1.43.59L10.3 9.45l-7.72 7.72c-.78.78-.78 2.05 0 2.83L4 21.41c.39.39.9.59 1.41.59.51 0 1.02-.2 1.41-.59l7.78-7.78 2.81-2.81c.8-.78.8-2.07 0-2.86zM5.41 20L4 18.59l7.72-7.72 1.47 1.35L5.41 20z\"/>\n",
              "  </svg>\n",
              "      </button>\n",
              "      \n",
              "  <style>\n",
              "    .colab-df-container {\n",
              "      display:flex;\n",
              "      flex-wrap:wrap;\n",
              "      gap: 12px;\n",
              "    }\n",
              "\n",
              "    .colab-df-convert {\n",
              "      background-color: #E8F0FE;\n",
              "      border: none;\n",
              "      border-radius: 50%;\n",
              "      cursor: pointer;\n",
              "      display: none;\n",
              "      fill: #1967D2;\n",
              "      height: 32px;\n",
              "      padding: 0 0 0 0;\n",
              "      width: 32px;\n",
              "    }\n",
              "\n",
              "    .colab-df-convert:hover {\n",
              "      background-color: #E2EBFA;\n",
              "      box-shadow: 0px 1px 2px rgba(60, 64, 67, 0.3), 0px 1px 3px 1px rgba(60, 64, 67, 0.15);\n",
              "      fill: #174EA6;\n",
              "    }\n",
              "\n",
              "    [theme=dark] .colab-df-convert {\n",
              "      background-color: #3B4455;\n",
              "      fill: #D2E3FC;\n",
              "    }\n",
              "\n",
              "    [theme=dark] .colab-df-convert:hover {\n",
              "      background-color: #434B5C;\n",
              "      box-shadow: 0px 1px 3px 1px rgba(0, 0, 0, 0.15);\n",
              "      filter: drop-shadow(0px 1px 2px rgba(0, 0, 0, 0.3));\n",
              "      fill: #FFFFFF;\n",
              "    }\n",
              "  </style>\n",
              "\n",
              "      <script>\n",
              "        const buttonEl =\n",
              "          document.querySelector('#df-6b79bdb0-9622-4a14-850e-ab64066d185f button.colab-df-convert');\n",
              "        buttonEl.style.display =\n",
              "          google.colab.kernel.accessAllowed ? 'block' : 'none';\n",
              "\n",
              "        async function convertToInteractive(key) {\n",
              "          const element = document.querySelector('#df-6b79bdb0-9622-4a14-850e-ab64066d185f');\n",
              "          const dataTable =\n",
              "            await google.colab.kernel.invokeFunction('convertToInteractive',\n",
              "                                                     [key], {});\n",
              "          if (!dataTable) return;\n",
              "\n",
              "          const docLinkHtml = 'Like what you see? Visit the ' +\n",
              "            '<a target=\"_blank\" href=https://colab.research.google.com/notebooks/data_table.ipynb>data table notebook</a>'\n",
              "            + ' to learn more about interactive tables.';\n",
              "          element.innerHTML = '';\n",
              "          dataTable['output_type'] = 'display_data';\n",
              "          await google.colab.output.renderOutput(dataTable, element);\n",
              "          const docLink = document.createElement('div');\n",
              "          docLink.innerHTML = docLinkHtml;\n",
              "          element.appendChild(docLink);\n",
              "        }\n",
              "      </script>\n",
              "    </div>\n",
              "  </div>\n",
              "  "
            ]
          },
          "metadata": {},
          "execution_count": 43
        }
      ]
    },
    {
      "cell_type": "code",
      "source": [
        "#Aplicamos K-means\n",
        "kmeans = KMeans(n_clusters=5).fit(X)\n",
        "centroides = kmeans.cluster_centers_\n",
        "labels = kmeans.predict(X)\n",
        "c_c = kmeans.cluster_centers_\n",
        "mdf = pd.DataFrame(c_c)\n",
        "\n",
        "\n",
        "mdf[\"Coordenadas\"] = list(zip(mdf[0], mdf[1]))\n",
        "mdf[\"Coordenadas\"] = mdf[\"Coordenadas\"].apply(Point)\n",
        "\n",
        "\n",
        "geo_mdf = gpd.GeoDataFrame(mdf, geometry=\"Coordenadas\")\n",
        "geo_mdf"
      ],
      "metadata": {
        "colab": {
          "base_uri": "https://localhost:8080/",
          "height": 206
        },
        "id": "8rCcpBaXNTug",
        "outputId": "ea8f5420-6183-4339-d048-c6ade45304ce"
      },
      "execution_count": 45,
      "outputs": [
        {
          "output_type": "execute_result",
          "data": {
            "text/plain": [
              "            0          1                  Coordenadas\n",
              "0  -82.933092  31.103912   POINT (-82.93309 31.10391)\n",
              "1 -119.176343  37.579774  POINT (-119.17634 37.57977)\n",
              "2  -75.585080  40.343655   POINT (-75.58508 40.34366)\n",
              "3  -98.266337  34.420357   POINT (-98.26634 34.42036)\n",
              "4  -88.354978  41.759636   POINT (-88.35498 41.75964)"
            ],
            "text/html": [
              "\n",
              "  <div id=\"df-08e5bea7-a724-4725-8138-45d55fe6da5b\">\n",
              "    <div class=\"colab-df-container\">\n",
              "      <div>\n",
              "<style scoped>\n",
              "    .dataframe tbody tr th:only-of-type {\n",
              "        vertical-align: middle;\n",
              "    }\n",
              "\n",
              "    .dataframe tbody tr th {\n",
              "        vertical-align: top;\n",
              "    }\n",
              "\n",
              "    .dataframe thead th {\n",
              "        text-align: right;\n",
              "    }\n",
              "</style>\n",
              "<table border=\"1\" class=\"dataframe\">\n",
              "  <thead>\n",
              "    <tr style=\"text-align: right;\">\n",
              "      <th></th>\n",
              "      <th>0</th>\n",
              "      <th>1</th>\n",
              "      <th>Coordenadas</th>\n",
              "    </tr>\n",
              "  </thead>\n",
              "  <tbody>\n",
              "    <tr>\n",
              "      <th>0</th>\n",
              "      <td>-82.933092</td>\n",
              "      <td>31.103912</td>\n",
              "      <td>POINT (-82.93309 31.10391)</td>\n",
              "    </tr>\n",
              "    <tr>\n",
              "      <th>1</th>\n",
              "      <td>-119.176343</td>\n",
              "      <td>37.579774</td>\n",
              "      <td>POINT (-119.17634 37.57977)</td>\n",
              "    </tr>\n",
              "    <tr>\n",
              "      <th>2</th>\n",
              "      <td>-75.585080</td>\n",
              "      <td>40.343655</td>\n",
              "      <td>POINT (-75.58508 40.34366)</td>\n",
              "    </tr>\n",
              "    <tr>\n",
              "      <th>3</th>\n",
              "      <td>-98.266337</td>\n",
              "      <td>34.420357</td>\n",
              "      <td>POINT (-98.26634 34.42036)</td>\n",
              "    </tr>\n",
              "    <tr>\n",
              "      <th>4</th>\n",
              "      <td>-88.354978</td>\n",
              "      <td>41.759636</td>\n",
              "      <td>POINT (-88.35498 41.75964)</td>\n",
              "    </tr>\n",
              "  </tbody>\n",
              "</table>\n",
              "</div>\n",
              "      <button class=\"colab-df-convert\" onclick=\"convertToInteractive('df-08e5bea7-a724-4725-8138-45d55fe6da5b')\"\n",
              "              title=\"Convert this dataframe to an interactive table.\"\n",
              "              style=\"display:none;\">\n",
              "        \n",
              "  <svg xmlns=\"http://www.w3.org/2000/svg\" height=\"24px\"viewBox=\"0 0 24 24\"\n",
              "       width=\"24px\">\n",
              "    <path d=\"M0 0h24v24H0V0z\" fill=\"none\"/>\n",
              "    <path d=\"M18.56 5.44l.94 2.06.94-2.06 2.06-.94-2.06-.94-.94-2.06-.94 2.06-2.06.94zm-11 1L8.5 8.5l.94-2.06 2.06-.94-2.06-.94L8.5 2.5l-.94 2.06-2.06.94zm10 10l.94 2.06.94-2.06 2.06-.94-2.06-.94-.94-2.06-.94 2.06-2.06.94z\"/><path d=\"M17.41 7.96l-1.37-1.37c-.4-.4-.92-.59-1.43-.59-.52 0-1.04.2-1.43.59L10.3 9.45l-7.72 7.72c-.78.78-.78 2.05 0 2.83L4 21.41c.39.39.9.59 1.41.59.51 0 1.02-.2 1.41-.59l7.78-7.78 2.81-2.81c.8-.78.8-2.07 0-2.86zM5.41 20L4 18.59l7.72-7.72 1.47 1.35L5.41 20z\"/>\n",
              "  </svg>\n",
              "      </button>\n",
              "      \n",
              "  <style>\n",
              "    .colab-df-container {\n",
              "      display:flex;\n",
              "      flex-wrap:wrap;\n",
              "      gap: 12px;\n",
              "    }\n",
              "\n",
              "    .colab-df-convert {\n",
              "      background-color: #E8F0FE;\n",
              "      border: none;\n",
              "      border-radius: 50%;\n",
              "      cursor: pointer;\n",
              "      display: none;\n",
              "      fill: #1967D2;\n",
              "      height: 32px;\n",
              "      padding: 0 0 0 0;\n",
              "      width: 32px;\n",
              "    }\n",
              "\n",
              "    .colab-df-convert:hover {\n",
              "      background-color: #E2EBFA;\n",
              "      box-shadow: 0px 1px 2px rgba(60, 64, 67, 0.3), 0px 1px 3px 1px rgba(60, 64, 67, 0.15);\n",
              "      fill: #174EA6;\n",
              "    }\n",
              "\n",
              "    [theme=dark] .colab-df-convert {\n",
              "      background-color: #3B4455;\n",
              "      fill: #D2E3FC;\n",
              "    }\n",
              "\n",
              "    [theme=dark] .colab-df-convert:hover {\n",
              "      background-color: #434B5C;\n",
              "      box-shadow: 0px 1px 3px 1px rgba(0, 0, 0, 0.15);\n",
              "      filter: drop-shadow(0px 1px 2px rgba(0, 0, 0, 0.3));\n",
              "      fill: #FFFFFF;\n",
              "    }\n",
              "  </style>\n",
              "\n",
              "      <script>\n",
              "        const buttonEl =\n",
              "          document.querySelector('#df-08e5bea7-a724-4725-8138-45d55fe6da5b button.colab-df-convert');\n",
              "        buttonEl.style.display =\n",
              "          google.colab.kernel.accessAllowed ? 'block' : 'none';\n",
              "\n",
              "        async function convertToInteractive(key) {\n",
              "          const element = document.querySelector('#df-08e5bea7-a724-4725-8138-45d55fe6da5b');\n",
              "          const dataTable =\n",
              "            await google.colab.kernel.invokeFunction('convertToInteractive',\n",
              "                                                     [key], {});\n",
              "          if (!dataTable) return;\n",
              "\n",
              "          const docLinkHtml = 'Like what you see? Visit the ' +\n",
              "            '<a target=\"_blank\" href=https://colab.research.google.com/notebooks/data_table.ipynb>data table notebook</a>'\n",
              "            + ' to learn more about interactive tables.';\n",
              "          element.innerHTML = '';\n",
              "          dataTable['output_type'] = 'display_data';\n",
              "          await google.colab.output.renderOutput(dataTable, element);\n",
              "          const docLink = document.createElement('div');\n",
              "          docLink.innerHTML = docLinkHtml;\n",
              "          element.appendChild(docLink);\n",
              "        }\n",
              "      </script>\n",
              "    </div>\n",
              "  </div>\n",
              "  "
            ]
          },
          "metadata": {},
          "execution_count": 45
        }
      ]
    },
    {
      "cell_type": "markdown",
      "source": [
        "Para conocer la ciudad, basados en las coordenadas, podemos hacer lo siguiente:"
      ],
      "metadata": {
        "id": "iuyKMY-9U5gN"
      }
    },
    {
      "cell_type": "code",
      "source": [
        "#Primero importamos las librerías relacionadas con la geo-localización\n",
        "from geopy.geocoders.yandex import Location\n",
        "from geopy.geocoders import Nominatim \n",
        "from geopy.distance import geodesic"
      ],
      "metadata": {
        "id": "dwVOXR_lU_nT"
      },
      "execution_count": 31,
      "outputs": []
    },
    {
      "cell_type": "code",
      "source": [
        "#Las posiciones geográficas las podemos ordenar según la tabla de coordenadas así:\n",
        "\n",
        "Posicion_0 = str(geo_mdf[1][0]) + \", \" + str(geo_mdf[0][0])\n",
        "Posicion_1 = str(geo_mdf[1][1]) + \", \" + str(geo_mdf[0][1])\n",
        "Posicion_2 = str(geo_mdf[1][2]) + \", \" + str(geo_mdf[0][2])\n",
        "Posicion_3 = str(geo_mdf[1][3]) + \", \" + str(geo_mdf[0][3])\n",
        "Posicion_4 = str(geo_mdf[1][4]) + \", \" + str(geo_mdf[0][4])\n",
        "\n",
        "#Posterior al paso anterior, se usa la función Nominatium\n",
        "geolocator = Nominatim(user_agent=\"my-application\")\n",
        "Posiciones = [Posicion_0, Posicion_1, Posicion_2, Posicion_3, Posicion_4]"
      ],
      "metadata": {
        "id": "Mik5ewD-VJ1P"
      },
      "execution_count": 54,
      "outputs": []
    },
    {
      "cell_type": "code",
      "source": [
        "for i in Posiciones:\n",
        "  location = geolocator.reverse(i)\n",
        "  print('Cluster ubicado en: ---', location.address)"
      ],
      "metadata": {
        "colab": {
          "base_uri": "https://localhost:8080/",
          "height": 0
        },
        "id": "1Uy4RNsOW4Bh",
        "outputId": "f1ceac78-2f1d-43f5-d35b-cc3945e14bc9"
      },
      "execution_count": 61,
      "outputs": [
        {
          "output_type": "stream",
          "name": "stdout",
          "text": [
            "Cluster ubicado en: --- Foyd Lee Loop, Clinch County, Georgia, United States\n",
            "Cluster ubicado en: --- Iron Lake Trail, Madera County, California, United States\n",
            "Cluster ubicado en: --- Congo Road, Congo, Douglass Township, Montgomery County, Pennsylvania, 19525, United States\n",
            "Cluster ubicado en: --- County Road E1790, Cotton County, Oklahoma, United States\n",
            "Cluster ubicado en: --- 129, South Western Avenue, Aurora, Aurora Township, Kane County, Illinois, 60506, United States\n"
          ]
        }
      ]
    },
    {
      "cell_type": "markdown",
      "source": [
        "En aras de contar las tiendas identificadas al inicio del ejercicio, hacemos lo siguiente:"
      ],
      "metadata": {
        "id": "1Py6Qe3pS1AY"
      }
    },
    {
      "cell_type": "code",
      "source": [
        "latlong['kmeans'] = kmeans.labels_\n",
        "latlong.loc[:, 'kmeans'].value_counts()"
      ],
      "metadata": {
        "colab": {
          "base_uri": "https://localhost:8080/",
          "height": 0
        },
        "id": "1FE_MszLTPLO",
        "outputId": "6a1834d1-0550-4258-fa31-a4e1652ba2f2"
      },
      "execution_count": 56,
      "outputs": [
        {
          "output_type": "stream",
          "name": "stderr",
          "text": [
            "/usr/local/lib/python3.7/dist-packages/ipykernel_launcher.py:1: SettingWithCopyWarning: \n",
            "A value is trying to be set on a copy of a slice from a DataFrame.\n",
            "Try using .loc[row_indexer,col_indexer] = value instead\n",
            "\n",
            "See the caveats in the documentation: https://pandas.pydata.org/pandas-docs/stable/user_guide/indexing.html#returning-a-view-versus-a-copy\n",
            "  \"\"\"Entry point for launching an IPython kernel.\n"
          ]
        },
        {
          "output_type": "execute_result",
          "data": {
            "text/plain": [
              "2    480\n",
              "4    422\n",
              "1    368\n",
              "3    296\n",
              "0    273\n",
              "Name: kmeans, dtype: int64"
            ]
          },
          "metadata": {},
          "execution_count": 56
        }
      ]
    },
    {
      "cell_type": "markdown",
      "source": [
        "Antes de calcular la distancia entre las tiendas para identificar la cobertura que podrían tener, se ubican en el mapa:"
      ],
      "metadata": {
        "id": "ii6UKT5VdRPe"
      }
    },
    {
      "cell_type": "code",
      "source": [
        "fig, gax = plt.subplots(figsize=(15,10))\n",
        "\n",
        "world.query(\"name == 'United States of America'\").plot(ax = gax, edgecolor='black', color='white') \n",
        "gdf.plot(ax=gax, color='red', alpha = 0.5)\n",
        "geo_mdf.plot(ax=gax, color='blue', alpha = 1, markersize = 300)\n",
        "\n",
        "#Graficamos\n",
        "gax.set_xlabel('longitude')\n",
        "gax.set_ylabel('latitude')\n",
        "gax.set_title('Target en Estados Unidos')\n",
        "\n",
        "gax.spines['top'].set_visible(False)\n",
        "gax.spines['right'].set_visible(False)\n",
        "\n",
        "plt.show()"
      ],
      "metadata": {
        "colab": {
          "base_uri": "https://localhost:8080/",
          "height": 520
        },
        "id": "tQMu04wsdbdj",
        "outputId": "7d76f047-fac1-4f89-87c9-dcec217e01e7"
      },
      "execution_count": 59,
      "outputs": [
        {
          "output_type": "display_data",
          "data": {
            "text/plain": [
              "<Figure size 1080x720 with 1 Axes>"
            ],
            "image/png": "[encoded data removed]"
          },
          "metadata": {}
        }
      ]
    },
    {
      "cell_type": "markdown",
      "source": [
        "Las distancias entre los (5) cluster están dadas así:"
      ],
      "metadata": {
        "id": "yNYNCB0dX-AO"
      }
    },
    {
      "cell_type": "code",
      "source": [
        "d_0y1 = (geodesic(Posicion_0, Posicion_1).kilometers)\n",
        "d_1y2 = (geodesic(Posicion_1, Posicion_2).kilometers)\n",
        "d_2y3 = (geodesic(Posicion_2, Posicion_3).kilometers)\n",
        "d_3y4 = (geodesic(Posicion_3, Posicion_4).kilometers)\n",
        "print('Distancia entre el cluster 0 y 1 es de:', d_0y1, 'km')\n",
        "print('Distancia entre el cluster 1 y 2 es de:', d_1y2, 'km')\n",
        "print('Distancia entre el cluster 2 y 3 es de:', d_2y3, 'km')\n",
        "print('Distancia entre el cluster 3 y 4 es de:', d_3y4, 'km')"
      ],
      "metadata": {
        "colab": {
          "base_uri": "https://localhost:8080/",
          "height": 0
        },
        "id": "5J1XRNg3YEPD",
        "outputId": "6607a2ad-0470-4f6d-b2fc-c0abd9e1ef37"
      },
      "execution_count": 65,
      "outputs": [
        {
          "output_type": "stream",
          "name": "stdout",
          "text": [
            "Distancia entre el cluster 0 y 1 es de: 3389.3813975339285 km\n",
            "Distancia entre el cluster 1 y 2 es de: 3752.436842174148 km\n",
            "Distancia entre el cluster 2 y 3 es de: 2106.59946391056 km\n",
            "Distancia entre el cluster 3 y 4 es de: 1189.9472619103599 km\n"
          ]
        }
      ]
    },
    {
      "cell_type": "code",
      "source": [
        "print(geodesic(Posicion_0,Posicion_1).kilometers)"
      ],
      "metadata": {
        "colab": {
          "base_uri": "https://localhost:8080/",
          "height": 0
        },
        "id": "12AmuQLxkVIF",
        "outputId": "dab4d50c-93d3-477f-a23c-ac3eb98d36bf"
      },
      "execution_count": 63,
      "outputs": [
        {
          "output_type": "stream",
          "name": "stdout",
          "text": [
            "3389.3813975339285\n"
          ]
        }
      ]
    },
    {
      "cell_type": "markdown",
      "source": [
        "**Conclusiones:**\n",
        "\n",
        "Interesante ejercicio, propio de la vida real. \n",
        "\n",
        "Bien, vi importante identificar en el mapa las tiendas que cada cluster definido abarcaría, definí 5 clusteres porque algo que me parece importante en el análisis de la curva Elbow es que cuanto más grande es el número de clusters, la varianza entre estos tiende a disminuir.\n",
        "\n",
        "La recomendación inicial sería la de ubicar los clusters según la evidencia de k-means, la mayor distancia sería de 3752 km que corresponde a los ubicados en California y Pensilvania. Sin embargo, el de Pensilvania es quien atendería el mayor número de tiendas de todos.\n",
        "\n",
        "![image.png](data:image/png;base64,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)\n",
        "\n",
        "Las librerías fueron de gran ayuda, destaco \"geopy\" porque permite geolocalizar coordenadas y sobre estas puede hacer cálculos útiles como la distancia entre las posiciones geográficas. Para estos ejercicios siempre es importante analizar sobre el mapa porque no sólo ayuda a que visualmente se capte la atención del cliente, sino también a que se tomen mejores decisiones.\n"
      ],
      "metadata": {
        "id": "ZnlM9FXlhrLD"
      }
    },
    {
      "cell_type": "markdown",
      "source": [],
      "metadata": {
        "id": "Nmh9cEfaoUjy"
      }
    }
  ]
}